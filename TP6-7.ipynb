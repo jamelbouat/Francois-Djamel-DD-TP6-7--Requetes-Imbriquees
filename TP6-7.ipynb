{
 "cells": [
  {
   "cell_type": "markdown",
   "metadata": {},
   "source": [
    "# Les requêtes imbriquées avec Neo4J\n",
    "Ce rapport a pour objectif de montrer l'utilisation des requêtes imbriquées dans le système de gestion de base de donnée Neo4j.\n",
    "Pour pouvoir executer le code présent dans les cellules suivantes il faut avoir neo4j lancé, utiliser un docker est possible avec '''sudo docker run --publish=7474:7474 --publish=7687:7687 -v $PWD/import:/var/lib/neo4j/import neo4j:4.1.3'''\n",
    "\n",
    "\n",
    "## Un peu de contexte\n",
    "Neo4j est un système de gestion de base de donnée orientée graphe. Ce type de système a la particularité d'utiliser des graphes pour représenter les données et ainsi permettre les formules connus de la théorie des graphes. De plus Neo4j est connu pour sa performance dans la rapidité des requêtes qui sont dans certains cas plus rapide que des simples requêtes SQL.Le langage de requête utilisé par Neo4j est le langage cypher reconnu pour permettre des requêtes clair et simple.\n",
    "\n",
    "Les requêtes imbriquées permettent de faire une requête sur une requête et donc cibler plus simplement un resultat. A l'aide de la bibliothèque python py2neo nous allons vous montrer comment on peut utiliser ces requêtes."
   ]
  },
  {
   "cell_type": "markdown",
   "metadata": {},
   "source": [
    "# Installations :\n",
    "- #### pip3 install py2neo\n",
    "- #### pip3 install neo4jupyter"
   ]
  },
  {
   "cell_type": "code",
   "execution_count": 1,
   "metadata": {},
   "outputs": [],
   "source": [
    "from py2neo import *\n",
    "from neo4jupyter import *\n",
    "\n",
    "graph = Graph('http://localhost', auth=('neo4j', 'neo4j'))"
   ]
  },
  {
   "cell_type": "code",
   "execution_count": 2,
   "cell_type": "code",
   "execution_count": 7,
   "metadata": {},
   "outputs": [
    {
     "name": "stdout",
     "output_type": "stream",
     "text": [
      "ok\n"
     ]
    }
   ],
   "source": [
    "loadQuery = '''\n",
    "USING PERIODIC COMMIT\n",
    "LOAD CSV WITH HEADERS FROM 'file:///small-pubg.csv' AS pubg\n",
    "WITH pubg\n",
    "WHERE pubg.match_id IS NOT NULL AND pubg.player_name IS NOT NULL\n",
    "MERGE (player:Player{\n",
    "        assists:pubg.player_assists,\n",
    "        name:pubg.player_name,\n",
    "        kills:pubg.player_kills,\n",
    "        surviveTime:pubg.player_survive_time,\n",
    "        dmg:pubg.player_dmg,\n",
    "        dbno:pubg.player_dbno,\n",
    "        distRide:pubg.player_dist_ride,\n",
    "        distWalk:pubg.player_dist_walk\n",
    "        \n",
    "        })\n",
    "MERGE (match:Match{\n",
    "         matchId:pubg.match_id,\n",
    "         matchMode:pubg.match_mode\n",
    "         })\n",
    "MERGE (team:Team{\n",
    "        teamId:pubg.team_id,\n",
    "        teamPlacement:pubg.team_placement\n",
    "        })\n",
    "MERGE (player) -[:belongs_to]-> (team)\n",
    "'''\n",
    "graph.run(loadQuery)\n",
    "print(\"ok\")"
   ]
  },
  {
   "cell_type": "code",
   "execution_count": 8,
   "metadata": {},
   "outputs": [
    {
     "data": {
      "application/javascript": [
       "var link = document.createElement(\"link\");\n",
       "\tlink.ref = \"stylesheet\";\n",
       "\tlink.type = \"text/css\";\n",
       "\tlink.href = \"https://cdnjs.cloudflare.com/ajax/libs/vis/4.8.2/vis.css\";\n",
       "\tdocument.head.appendChild(link);\n",
       "require.config({     paths: {         vis: '//cdnjs.cloudflare.com/ajax/libs/vis/4.8.2/vis.min'     } }); require(['vis'], function(vis) {  window.vis = vis; }); "
      ],
      "text/plain": [
       "<IPython.core.display.Javascript object>"
      ]
     },
     "metadata": {},
     "output_type": "display_data"
    },
    {
     "data": {
      "text/html": [
       "<div id=\"6c0b4a09-d030-4ce5-8702-dd9093a0fa47\" style=\"height: 400px;\"></div>\n",
       "\n",
       "<script type=\"text/javascript\">\n",
       "\n",
       "    var nodes = [{\"id\": 279, \"label\": \"23\", \"group\": \"Team\", \"title\": \"Node('Team', teamId='23', teamPlacement='36')\"}, {\"id\": 260, \"label\": \"the49ersguy\", \"group\": \"Player\", \"title\": \"Node('Player', assists='0', dbno='0', distRide='2277.78564', distWalk='2347.7307100000003', dmg='81', kills='0', name='the49ersguy', surviveTime='1352.8229999999999')\"}, {\"id\": 261, \"label\": \"3\", \"group\": \"Team\", \"title\": \"Node('Team', teamId='3', teamPlacement='10')\"}, {\"id\": 29, \"label\": \"29\", \"group\": \"Team\", \"title\": \"Node('Team', teamId='29')\"}, {\"id\": 98, \"label\": \"35\", \"group\": \"Team\", \"title\": \"Node('Team', teamId='35')\"}, {\"id\": 224, \"label\": \"42\", \"group\": \"Team\", \"title\": \"Node('Team', teamId='42', teamPlacement='37')\"}, {\"id\": 36, \"label\": \"Essaldun\", \"group\": \"Player\", \"title\": \"Node('Player', assists='0', name='Essaldun')\"}, {\"id\": 35, \"label\": \"33\", \"group\": \"Team\", \"title\": \"Node('Team', teamId='33')\"}, {\"id\": 252, \"label\": \"LPL-buibuibui\", \"group\": \"Player\", \"title\": \"Node('Player', assists='0', dbno='2', distRide='3551.8886700000003', distWalk='3390.2614700000004', dmg='350', kills='3', name='LPL-buibuibui', surviveTime='1659.703')\"}, {\"id\": 251, \"label\": \"11\", \"group\": \"Team\", \"title\": \"Node('Team', teamId='11', teamPlacement='8')\"}, {\"id\": 68, \"label\": \"23\", \"group\": \"Team\", \"title\": \"Node('Team', teamId='23')\"}, {\"id\": 233, \"label\": \"19\", \"group\": \"Team\", \"title\": \"Node('Team', teamId='19', teamPlacement='35')\"}, {\"id\": 17, \"label\": \"22\", \"group\": \"Team\", \"title\": \"Node('Team', teamId='22')\"}, {\"id\": 60, \"label\": \"BruteSlayer99\", \"group\": \"Player\", \"title\": \"Node('Player', assists='0', name='BruteSlayer99')\"}, {\"id\": 59, \"label\": \"3\", \"group\": \"Team\", \"title\": \"Node('Team', teamId='3')\"}, {\"id\": 100, \"label\": \"Maerkk\", \"group\": \"Player\", \"title\": \"Node('Player', assists='0', name='Maerkk')\"}, {\"id\": 101, \"label\": \"36\", \"group\": \"Team\", \"title\": \"Node('Team', teamId='36')\"}, {\"id\": 41, \"label\": \"38\", \"group\": \"Team\", \"title\": \"Node('Team', teamId='38')\"}, {\"id\": 18, \"label\": \"Ninjapex\", \"group\": \"Player\", \"title\": \"Node('Player', assists='0', name='Ninjapex')\"}, {\"id\": 247, \"label\": \"Linkraal\", \"group\": \"Player\", \"title\": \"Node('Player', assists='0', dbno='1', distRide='0.0', distWalk='743.8507', dmg='94', kills='1', name='Linkraal', surviveTime='551.698')\"}, {\"id\": 248, \"label\": \"45\", \"group\": \"Team\", \"title\": \"Node('Team', teamId='45', teamPlacement='28')\"}, {\"id\": 244, \"label\": \"Maerkk\", \"group\": \"Player\", \"title\": \"Node('Player', assists='0', dbno='2', distRide='3131.9924300000002', distWalk='2527.9570000000003', dmg='487', kills='4', name='Maerkk', surviveTime='2181.9829999999997')\"}, {\"id\": 245, \"label\": \"36\", \"group\": \"Team\", \"title\": \"Node('Team', teamId='36', teamPlacement='1')\"}, {\"id\": 117, \"label\": \"BIGSEX\", \"group\": \"Player\", \"title\": \"Node('Player', assists='0', name='BIGSEX')\"}, {\"id\": 210, \"label\": \"Reboke\", \"group\": \"Player\", \"title\": \"Node('Player', assists='0', dbno='0', distRide='3298.972', distWalk='1350.4428699999999', dmg='100', kills='1', name='Reboke', surviveTime='1750.842')\"}, {\"id\": 209, \"label\": \"18\", \"group\": \"Team\", \"title\": \"Node('Team', teamId='18', teamPlacement='6')\"}, {\"id\": 186, \"label\": \"CytricS\", \"group\": \"Player\", \"title\": \"Node('Player', assists='0', dbno='0', distRide='0.0', distWalk='1497.0493199999999', dmg='71', kills='0', name='CytricS', surviveTime='558.31')\"}, {\"id\": 185, \"label\": \"38\", \"group\": \"Team\", \"title\": \"Node('Team', teamId='38', teamPlacement='27')\"}, {\"id\": 264, \"label\": \"6\", \"group\": \"Team\", \"title\": \"Node('Team', teamId='6', teamPlacement='18')\"}, {\"id\": 154, \"label\": \"R1dd1ck913\", \"group\": \"Player\", \"title\": \"Node('Player', assists='0', dbno='0', distRide='0.0', distWalk='3118.58032', dmg='0', kills='0', name='R1dd1ck913', surviveTime='1264.792')\"}, {\"id\": 155, \"label\": \"15\", \"group\": \"Team\", \"title\": \"Node('Team', teamId='15', teamPlacement='17')\"}, {\"id\": 266, \"label\": \"sapoww\", \"group\": \"Player\", \"title\": \"Node('Player', assists='0', dbno='0', distRide='0.0', distWalk='220.85876499999998', dmg='103', kills='0', name='sapoww', surviveTime='193.418')\"}, {\"id\": 267, \"label\": \"9\", \"group\": \"Team\", \"title\": \"Node('Team', teamId='9', teamPlacement='38')\"}, {\"id\": 127, \"label\": \"12\", \"group\": \"Team\", \"title\": \"Node('Team', teamId='12')\"}, {\"id\": 113, \"label\": \"2U4GBNA0YmnIQQesqcucTHDFVqlXEAUiUHhJp3yec6c0hzQHABUNJuJZ21mrZjZn\", \"group\": \"Match\", \"title\": \"Node('Match', matchId='2U4GBNA0YmnIQQesqcucTHDFVqlXEAUiUHhJp3yec6c0hzQHABUNJuJZ21mrZjZn')\"}, {\"id\": 105, \"label\": \"Chumbe\", \"group\": \"Player\", \"title\": \"Node('Player', assists='0', name='Chumbe')\"}, {\"id\": 104, \"label\": \"45\", \"group\": \"Team\", \"title\": \"Node('Team', teamId='45')\"}, {\"id\": 70, \"label\": \"captainterrenc3\", \"group\": \"Player\", \"title\": \"Node('Player', assists='0', name='captainterrenc3')\"}, {\"id\": 71, \"label\": \"27\", \"group\": \"Team\", \"title\": \"Node('Team', teamId='27')\"}, {\"id\": 169, \"label\": \"FIYMNBVCXZ\", \"group\": \"Player\", \"title\": \"Node('Player', assists='0', dbno='0', distRide='0.0', distWalk='2057.258', dmg='0', kills='0', name='FIYMNBVCXZ', surviveTime='1583.1570000000002')\"}, {\"id\": 170, \"label\": \"26\", \"group\": \"Team\", \"title\": \"Node('Team', teamId='26', teamPlacement='3')\"}, {\"id\": 199, \"label\": \"WangZhengWei666\", \"group\": \"Player\", \"title\": \"Node('Player', assists='0', dbno='0', distRide='0.0', distWalk='0.0', dmg='0', kills='0', name='WangZhengWei666', surviveTime='801.852')\"}, {\"id\": 200, \"label\": \"50\", \"group\": \"Team\", \"title\": \"Node('Team', teamId='50', teamPlacement='35')\"}, {\"id\": 135, \"label\": \"DimonGao999\", \"group\": \"Player\", \"title\": \"Node('Player', assists='0', name='DimonGao999')\"}, {\"id\": 95, \"label\": \"30\", \"group\": \"Team\", \"title\": \"Node('Team', teamId='30')\"}, {\"id\": 272, \"label\": \"DeadliestAyyyrab\", \"group\": \"Player\", \"title\": \"Node('Player', assists='0', dbno='0', distRide='0.0', distWalk='2554.2177699999997', dmg='44', kills='0', name='DeadliestAyyyrab', surviveTime='1153.8339999999998')\"}, {\"id\": 273, \"label\": \"12\", \"group\": \"Team\", \"title\": \"Node('Team', teamId='12', teamPlacement='15')\"}, {\"id\": 80, \"label\": \"42\", \"group\": \"Team\", \"title\": \"Node('Team', teamId='42')\"}, {\"id\": 271, \"label\": \"yjcwjh\", \"group\": \"Player\", \"title\": \"Node('Player', assists='0', dbno='0', distRide='3420.9016100000003', distWalk='70.29319', dmg='0', kills='0', name='yjcwjh', surviveTime='308.066')\"}, {\"id\": 270, \"label\": \"10\", \"group\": \"Team\", \"title\": \"Node('Team', teamId='10', teamPlacement='12')\"}, {\"id\": 220, \"label\": \"TheLnofJake\", \"group\": \"Player\", \"title\": \"Node('Player', assists='1', dbno='0', distRide='0.0', distWalk='647.4725', dmg='100', kills='1', name='TheLnofJake', surviveTime='373.905')\"}, {\"id\": 221, \"label\": \"40\", \"group\": \"Team\", \"title\": \"Node('Team', teamId='40', teamPlacement='30')\"}, {\"id\": 236, \"label\": \"20\", \"group\": \"Team\", \"title\": \"Node('Team', teamId='20', teamPlacement='36')\"}, {\"id\": 243, \"label\": \"fetusmuncher4001\", \"group\": \"Player\", \"title\": \"Node('Player', assists='1', dbno='1', distRide='0.0', distWalk='1655.58484', dmg='156', kills='1', name='fetusmuncher4001', surviveTime='884.0939999999999')\"}, {\"id\": 242, \"label\": \"35\", \"group\": \"Team\", \"title\": \"Node('Team', teamId='35', teamPlacement='15')\"}, {\"id\": 168, \"label\": \"Chogo82\", \"group\": \"Player\", \"title\": \"Node('Player', assists='0', dbno='0', distRide='1277.5805699999999', distWalk='3286.67114', dmg='84', kills='1', name='Chogo82', surviveTime='2181.82')\"}, {\"id\": 167, \"label\": \"25\", \"group\": \"Team\", \"title\": \"Node('Team', teamId='25', teamPlacement='2')\"}, {\"id\": 25, \"label\": \"FIYMNBVCXZ\", \"group\": \"Player\", \"title\": \"Node('Player', assists='0', name='FIYMNBVCXZ')\"}, {\"id\": 26, \"label\": \"26\", \"group\": \"Team\", \"title\": \"Node('Team', teamId='26')\"}, {\"id\": 64, \"label\": \"Lepore24\", \"group\": \"Player\", \"title\": \"Node('Player', assists='0', name='Lepore24')\"}, {\"id\": 65, \"label\": \"18\", \"group\": \"Team\", \"title\": \"Node('Team', teamId='18')\"}, {\"id\": 195, \"label\": \"Cruz914\", \"group\": \"Player\", \"title\": \"Node('Player', assists='1', dbno='2', distRide='353.07099999999997', distWalk='3646.13965', dmg='476', kills='4', name='Cruz914', surviveTime='1750.095')\"}, {\"id\": 194, \"label\": \"46\", \"group\": \"Team\", \"title\": \"Node('Team', teamId='46', teamPlacement='7')\"}, {\"id\": 67, \"label\": \"PsychoticOtter\", \"group\": \"Player\", \"title\": \"Node('Player', assists='0', name='PsychoticOtter')\"}, {\"id\": 177, \"label\": \"zxczcx\", \"group\": \"Player\", \"title\": \"Node('Player', assists='2', dbno='0', distRide='4555.215999999999', distWalk='2559.02319', dmg='211', kills='1', name='zxczcx', surviveTime='1880.069')\"}, {\"id\": 176, \"label\": \"32\", \"group\": \"Team\", \"title\": \"Node('Team', teamId='32', teamPlacement='5')\"}, {\"id\": 8, \"label\": \"14\", \"group\": \"Team\", \"title\": \"Node('Team', teamId='14')\"}, {\"id\": 20, \"label\": \"24\", \"group\": \"Team\", \"title\": \"Node('Team', teamId='24')\"}, {\"id\": 126, \"label\": \"DeadliestAyyyrab\", \"group\": \"Player\", \"title\": \"Node('Player', assists='0', name='DeadliestAyyyrab')\"}, {\"id\": 125, \"label\": \"yjcwjh\", \"group\": \"Player\", \"title\": \"Node('Player', assists='0', name='yjcwjh')\"}, {\"id\": 124, \"label\": \"10\", \"group\": \"Team\", \"title\": \"Node('Team', teamId='10')\"}, {\"id\": 183, \"label\": \"KeyBoardSucker\", \"group\": \"Player\", \"title\": \"Node('Player', assists='0', dbno='1', distRide='0.0', distWalk='537.9968', dmg='124', kills='1', name='KeyBoardSucker', surviveTime='292.827')\"}, {\"id\": 182, \"label\": \"37\", \"group\": \"Team\", \"title\": \"Node('Team', teamId='37', teamPlacement='31')\"}, {\"id\": 22, \"label\": \"subzero3\", \"group\": \"Player\", \"title\": \"Node('Player', assists='0', name='subzero3')\"}, {\"id\": 23, \"label\": \"25\", \"group\": \"Team\", \"title\": \"Node('Team', teamId='25')\"}, {\"id\": 58, \"label\": \"Mstrshake01\", \"group\": \"Player\", \"title\": \"Node('Player', assists='0', name='Mstrshake01')\"}, {\"id\": 189, \"label\": \"FumaKT\", \"group\": \"Player\", \"title\": \"Node('Player', assists='0', dbno='0', distRide='2306.78271', distWalk='1956.6264600000002', dmg='55', kills='1', name='FumaKT', surviveTime='1573.84')\"}, {\"id\": 188, \"label\": \"39\", \"group\": \"Team\", \"title\": \"Node('Team', teamId='39', teamPlacement='9')\"}, {\"id\": 12, \"label\": \"Emmylou89\", \"group\": \"Player\", \"title\": \"Node('Player', assists='0', name='Emmylou89')\"}, {\"id\": 11, \"label\": \"15\", \"group\": \"Team\", \"title\": \"Node('Team', teamId='15')\"}, {\"id\": 6, \"label\": \"sbahn87\", \"group\": \"Player\", \"title\": \"Node('Player', assists='0', name='sbahn87')\"}, {\"id\": 5, \"label\": \"5\", \"group\": \"Team\", \"title\": \"Node('Team', teamId='5')\"}, {\"id\": 171, \"label\": \"ShuLanHou\", \"group\": \"Player\", \"title\": \"Node('Player', assists='0', dbno='4', distRide='0.0', distWalk='3285.94385', dmg='673', kills='6', name='ShuLanHou', surviveTime='2009.7220000000002')\"}, {\"id\": 274, \"label\": \"DeadlyAyrab\", \"group\": \"Player\", \"title\": \"Node('Player', assists='0', dbno='0', distRide='0.0', distWalk='2426.04834', dmg='90', kills='1', name='DeadlyAyrab', surviveTime='1153.83')\"}, {\"id\": 239, \"label\": \"30\", \"group\": \"Team\", \"title\": \"Node('Team', teamId='30', teamPlacement='28')\"}, {\"id\": 15, \"label\": \"SoSpicy\", \"group\": \"Player\", \"title\": \"Node('Player', assists='0', name='SoSpicy')\"}, {\"id\": 14, \"label\": \"17\", \"group\": \"Team\", \"title\": \"Node('Team', teamId='17')\"}, {\"id\": 258, \"label\": \"2\", \"group\": \"Team\", \"title\": \"Node('Team', teamId='2', teamPlacement='21')\"}, {\"id\": 288, \"label\": \"31\", \"group\": \"Team\", \"title\": \"Node('Team', teamId='31', teamPlacement='14')\"}, {\"id\": 115, \"label\": \"krisns\", \"group\": \"Player\", \"title\": \"Node('Player', assists='0', name='krisns')\"}, {\"id\": 114, \"label\": \"2\", \"group\": \"Team\", \"title\": \"Node('Team', teamId='2')\"}, {\"id\": 250, \"label\": \"pananm55-\", \"group\": \"Player\", \"title\": \"Node('Player', assists='0', dbno='0', distRide='4078.597', distWalk='3220.901', dmg='80', kills='0', name='pananm55-', surviveTime='1606.694')\"}, {\"id\": 57, \"label\": \"990906max\", \"group\": \"Player\", \"title\": \"Node('Player', assists='0', name='990906max')\"}, {\"id\": 56, \"label\": \"50\", \"group\": \"Team\", \"title\": \"Node('Team', teamId='50')\"}, {\"id\": 269, \"label\": \"5tygfv\", \"group\": \"Player\", \"title\": \"Node('Player', assists='0', dbno='0', distRide='5891.52734', distWalk='1362.50708', dmg='44', kills='0', name='5tygfv', surviveTime='1210.468')\"}, {\"id\": 27, \"label\": \"ShuLanHou\", \"group\": \"Player\", \"title\": \"Node('Player', assists='0', name='ShuLanHou')\"}, {\"id\": 229, \"label\": \"ItsPickles\", \"group\": \"Player\", \"title\": \"Node('Player', assists='0', dbno='0', distRide='3005.54443', distWalk='1630.44812', dmg='0', kills='0', name='ItsPickles', surviveTime='1282.22')\"}, {\"id\": 230, \"label\": \"49\", \"group\": \"Team\", \"title\": \"Node('Team', teamId='49', teamPlacement='16')\"}, {\"id\": 19, \"label\": \"thebrewski\", \"group\": \"Player\", \"title\": \"Node('Player', assists='0', name='thebrewski')\"}, {\"id\": 37, \"label\": \"JoeyGames123\", \"group\": \"Player\", \"title\": \"Node('Player', assists='0', name='JoeyGames123')\"}, {\"id\": 38, \"label\": \"37\", \"group\": \"Team\", \"title\": \"Node('Team', teamId='37')\"}, {\"id\": 174, \"label\": \"Jerryxp\", \"group\": \"Player\", \"title\": \"Node('Player', assists='0', dbno='1', distRide='0.0', distWalk='1078.95581', dmg='100', kills='1', name='Jerryxp', surviveTime='513.487')\"}, {\"id\": 173, \"label\": \"29\", \"group\": \"Team\", \"title\": \"Node('Team', teamId='29', teamPlacement='20')\"}, {\"id\": 138, \"label\": \"31\", \"group\": \"Team\", \"title\": \"Node('Team', teamId='31')\"}, {\"id\": 282, \"label\": \"27\", \"group\": \"Team\", \"title\": \"Node('Team', teamId='27', teamPlacement='17')\"}, {\"id\": 234, \"label\": \"LHErDui\", \"group\": \"Player\", \"title\": \"Node('Player', assists='0', dbno='1', distRide='0.0', distWalk='163.68061799999998', dmg='105', kills='0', name='LHErDui', surviveTime='162.984')\"}, {\"id\": 111, \"label\": \"jackomino\", \"group\": \"Player\", \"title\": \"Node('Player', assists='0', name='jackomino')\"}, {\"id\": 110, \"label\": \"28\", \"group\": \"Team\", \"title\": \"Node('Team', teamId='28')\"}, {\"id\": 181, \"label\": \"JoeyGames123\", \"group\": \"Player\", \"title\": \"Node('Player', assists='0', dbno='0', distRide='0.0', distWalk='444.7796', dmg='0', kills='0', name='JoeyGames123', surviveTime='336.43300000000005')\"}, {\"id\": 112, \"label\": \"saver12138\", \"group\": \"Player\", \"title\": \"Node('Player', assists='1', name='saver12138')\"}, {\"id\": 208, \"label\": \"Lepore24\", \"group\": \"Player\", \"title\": \"Node('Player', assists='0', dbno='1', distRide='3316.71', distWalk='1669.84058', dmg='170', kills='2', name='Lepore24', surviveTime='1822.5520000000001')\"}, {\"id\": 63, \"label\": \"pretzelboss\", \"group\": \"Player\", \"title\": \"Node('Player', assists='0', name='pretzelboss')\"}, {\"id\": 62, \"label\": \"6\", \"group\": \"Team\", \"title\": \"Node('Team', teamId='6')\"}, {\"id\": 51, \"label\": \"Cruz914\", \"group\": \"Player\", \"title\": \"Node('Player', assists='1', name='Cruz914')\"}, {\"id\": 50, \"label\": \"46\", \"group\": \"Team\", \"title\": \"Node('Team', teamId='46')\"}, {\"id\": 122, \"label\": \"Lux-xXx\", \"group\": \"Player\", \"title\": \"Node('Player', assists='0', name='Lux-xXx')\"}, {\"id\": 121, \"label\": \"9\", \"group\": \"Team\", \"title\": \"Node('Team', teamId='9')\"}, {\"id\": 34, \"label\": \"XombieMarine\", \"group\": \"Player\", \"title\": \"Node('Player', assists='1', name='XombieMarine')\"}, {\"id\": 235, \"label\": \"ConnorSiebs\", \"group\": \"Player\", \"title\": \"Node('Player', assists='0', dbno='0', distRide='0.0', distWalk='1.30789614', dmg='0', kills='0', name='ConnorSiebs', surviveTime='77.652')\"}, {\"id\": 77, \"label\": \"40\", \"group\": \"Team\", \"title\": \"Node('Team', teamId='40')\"}, {\"id\": 254, \"label\": \"28\", \"group\": \"Team\", \"title\": \"Node('Team', teamId='28', teamPlacement='21')\"}, {\"id\": 61, \"label\": \"ThatsOneMadman\", \"group\": \"Player\", \"title\": \"Node('Player', assists='0', name='ThatsOneMadman')\"}, {\"id\": 84, \"label\": \"ChinaLXCf\", \"group\": \"Player\", \"title\": \"Node('Player', assists='0', name='ChinaLXCf')\"}, {\"id\": 83, \"label\": \"44\", \"group\": \"Team\", \"title\": \"Node('Team', teamId='44')\"}, {\"id\": 156, \"label\": \"Emmylou89\", \"group\": \"Player\", \"title\": \"Node('Player', assists='0', dbno='0', distRide='0.0', distWalk='3237.202', dmg='0', kills='0', name='Emmylou89', surviveTime='1264.795')\"}, {\"id\": 148, \"label\": \"bovize\", \"group\": \"Player\", \"title\": \"Node('Player', assists='0', dbno='0', distRide='0.0', distWalk='224.157562', dmg='67', kills='0', name='bovize', surviveTime='235.558')\"}, {\"id\": 149, \"label\": \"5\", \"group\": \"Team\", \"title\": \"Node('Team', teamId='5', teamPlacement='33')\"}, {\"id\": 268, \"label\": \"Lux-xXx\", \"group\": \"Player\", \"title\": \"Node('Player', assists='0', dbno='1', distRide='0.0', distWalk='236.40416000000002', dmg='63', kills='0', name='Lux-xXx', surviveTime='201.99400000000003')\"}, {\"id\": 30, \"label\": \"Jerryxp\", \"group\": \"Player\", \"title\": \"Node('Player', assists='0', name='Jerryxp')\"}, {\"id\": 86, \"label\": \"49\", \"group\": \"Team\", \"title\": \"Node('Team', teamId='49')\"}, {\"id\": 43, \"label\": \"Zaerki\", \"group\": \"Player\", \"title\": \"Node('Player', assists='1', name='Zaerki')\"}, {\"id\": 44, \"label\": \"39\", \"group\": \"Team\", \"title\": \"Node('Team', teamId='39')\"}, {\"id\": 280, \"label\": \"Kadeos\", \"group\": \"Player\", \"title\": \"Node('Player', assists='0', dbno='0', distRide='0.0', distWalk='260.362274', dmg='139', kills='0', name='Kadeos', surviveTime='215.50400000000002')\"}, {\"id\": 283, \"label\": \"AlphaHulu\", \"group\": \"Player\", \"title\": \"Node('Player', assists='1', dbno='0', distRide='5532.033', distWalk='1008.9146699999999', dmg='28', kills='0', name='AlphaHulu', surviveTime='1112.018')\"}, {\"id\": 87, \"label\": \"FullyWhipCrackin\", \"group\": \"Player\", \"title\": \"Node('Player', assists='0', name='FullyWhipCrackin')\"}, {\"id\": 147, \"label\": \"Ozon3r\", \"group\": \"Player\", \"title\": \"Node('Player', assists='0', dbno='1', distRide='2938.4072300000003', distWalk='1756.0797100000002', dmg='127', kills='1', name='Ozon3r', surviveTime='1106.315')\"}, {\"id\": 146, \"label\": \"4\", \"group\": \"Team\", \"title\": \"Node('Team', teamId='4', teamPlacement='18')\"}];\n",
       "    var edges = [{\"from\": 260, \"to\": 261, \"label\": \"belongs_to\"}, {\"from\": 36, \"to\": 35, \"label\": \"belongs_to\"}, {\"from\": 252, \"to\": 251, \"label\": \"belongs_to\"}, {\"from\": 60, \"to\": 59, \"label\": \"belongs_to\"}, {\"from\": 100, \"to\": 101, \"label\": \"belongs_to\"}, {\"from\": 18, \"to\": 17, \"label\": \"belongs_to\"}, {\"from\": 247, \"to\": 248, \"label\": \"belongs_to\"}, {\"from\": 244, \"to\": 245, \"label\": \"belongs_to\"}, {\"from\": 117, \"to\": 59, \"label\": \"belongs_to\"}, {\"from\": 210, \"to\": 209, \"label\": \"belongs_to\"}, {\"from\": 186, \"to\": 185, \"label\": \"belongs_to\"}, {\"from\": 154, \"to\": 155, \"label\": \"belongs_to\"}, {\"from\": 266, \"to\": 267, \"label\": \"belongs_to\"}, {\"from\": 105, \"to\": 104, \"label\": \"belongs_to\"}, {\"from\": 70, \"to\": 71, \"label\": \"belongs_to\"}, {\"from\": 169, \"to\": 170, \"label\": \"belongs_to\"}, {\"from\": 199, \"to\": 200, \"label\": \"belongs_to\"}, {\"from\": 135, \"to\": 95, \"label\": \"belongs_to\"}, {\"from\": 272, \"to\": 273, \"label\": \"belongs_to\"}, {\"from\": 271, \"to\": 270, \"label\": \"belongs_to\"}, {\"from\": 220, \"to\": 221, \"label\": \"belongs_to\"}, {\"from\": 243, \"to\": 242, \"label\": \"belongs_to\"}, {\"from\": 168, \"to\": 167, \"label\": \"belongs_to\"}, {\"from\": 25, \"to\": 26, \"label\": \"belongs_to\"}, {\"from\": 64, \"to\": 65, \"label\": \"belongs_to\"}, {\"from\": 195, \"to\": 194, \"label\": \"belongs_to\"}, {\"from\": 67, \"to\": 68, \"label\": \"belongs_to\"}, {\"from\": 177, \"to\": 176, \"label\": \"belongs_to\"}, {\"from\": 126, \"to\": 127, \"label\": \"belongs_to\"}, {\"from\": 125, \"to\": 124, \"label\": \"belongs_to\"}, {\"from\": 183, \"to\": 182, \"label\": \"belongs_to\"}, {\"from\": 22, \"to\": 23, \"label\": \"belongs_to\"}, {\"from\": 58, \"to\": 59, \"label\": \"belongs_to\"}, {\"from\": 189, \"to\": 188, \"label\": \"belongs_to\"}, {\"from\": 12, \"to\": 11, \"label\": \"belongs_to\"}, {\"from\": 6, \"to\": 5, \"label\": \"belongs_to\"}, {\"from\": 171, \"to\": 170, \"label\": \"belongs_to\"}, {\"from\": 274, \"to\": 273, \"label\": \"belongs_to\"}, {\"from\": 15, \"to\": 14, \"label\": \"belongs_to\"}, {\"from\": 115, \"to\": 114, \"label\": \"belongs_to\"}, {\"from\": 250, \"to\": 251, \"label\": \"belongs_to\"}, {\"from\": 57, \"to\": 56, \"label\": \"belongs_to\"}, {\"from\": 269, \"to\": 270, \"label\": \"belongs_to\"}, {\"from\": 27, \"to\": 26, \"label\": \"belongs_to\"}, {\"from\": 229, \"to\": 230, \"label\": \"belongs_to\"}, {\"from\": 19, \"to\": 20, \"label\": \"belongs_to\"}, {\"from\": 37, \"to\": 38, \"label\": \"belongs_to\"}, {\"from\": 174, \"to\": 173, \"label\": \"belongs_to\"}, {\"from\": 234, \"to\": 233, \"label\": \"belongs_to\"}, {\"from\": 111, \"to\": 110, \"label\": \"belongs_to\"}, {\"from\": 181, \"to\": 182, \"label\": \"belongs_to\"}, {\"from\": 112, \"to\": 114, \"label\": \"belongs_to\"}, {\"from\": 208, \"to\": 209, \"label\": \"belongs_to\"}, {\"from\": 63, \"to\": 62, \"label\": \"belongs_to\"}, {\"from\": 51, \"to\": 50, \"label\": \"belongs_to\"}, {\"from\": 122, \"to\": 121, \"label\": \"belongs_to\"}, {\"from\": 34, \"to\": 35, \"label\": \"belongs_to\"}, {\"from\": 235, \"to\": 236, \"label\": \"belongs_to\"}, {\"from\": 61, \"to\": 62, \"label\": \"belongs_to\"}, {\"from\": 84, \"to\": 83, \"label\": \"belongs_to\"}, {\"from\": 156, \"to\": 155, \"label\": \"belongs_to\"}, {\"from\": 148, \"to\": 149, \"label\": \"belongs_to\"}, {\"from\": 268, \"to\": 267, \"label\": \"belongs_to\"}, {\"from\": 30, \"to\": 29, \"label\": \"belongs_to\"}, {\"from\": 43, \"to\": 44, \"label\": \"belongs_to\"}, {\"from\": 280, \"to\": 279, \"label\": \"belongs_to\"}, {\"from\": 283, \"to\": 282, \"label\": \"belongs_to\"}, {\"from\": 87, \"to\": 86, \"label\": \"belongs_to\"}, {\"from\": 147, \"to\": 146, \"label\": \"belongs_to\"}];\n",
       "\n",
       "    var container = document.getElementById(\"6c0b4a09-d030-4ce5-8702-dd9093a0fa47\");\n",
       "\n",
       "    var data = {\n",
       "        nodes: nodes,\n",
       "        edges: edges\n",
       "    };\n",
       "\n",
       "    var options = {\n",
       "    nodes: {\n",
       "        shape: 'dot',\n",
       "        size: 25,\n",
       "        font: {\n",
       "            size: 14\n",
       "        }\n",
       "    },\n",
       "    edges: {\n",
       "        font: {\n",
       "            size: 14,\n",
       "            align: 'middle'\n",
       "        },\n",
       "        color: 'gray',\n",
       "        arrows: {\n",
       "            to: {\n",
       "                enabled: true,\n",
       "                scaleFactor: 0.5\n",
       "            }\n",
       "        },\n",
       "        smooth: {\n",
       "            enabled: false\n",
       "        }\n",
       "    },\n",
       "    physics: {\n",
       "        enabled: true\n",
       "        }\n",
       "    };\n",
       "\n",
       "    var network = new vis.Network(container, data, options);\n",
       "\n",
       "</script>\n"
      ],
      "text/plain": [
       "<IPython.core.display.HTML object>"
      ]
     },
     "execution_count": 3,
      refs/remotes/origin/master
     "metadata": {},
     "output_type": "execute_result"
    }
   ],
   "source": [
    "neo4jupyter.init_notebook_mode()\n",
    "options = {\"Player\": \"name\", \"Match\": \"matchId\", \"Team\": \"teamId\"}\n",
    "draw(graph, options)"
   ]
  },
  {
   "cell_type": "code",
   "execution_count": 4,
   "metadata": {},
   "outputs": [
    {
     "data": {
      "application/javascript": [
       "var link = document.createElement(\"link\");\n",
       "\tlink.ref = \"stylesheet\";\n",
       "\tlink.type = \"text/css\";\n",
       "\tlink.href = \"https://cdnjs.cloudflare.com/ajax/libs/vis/4.8.2/vis.css\";\n",
       "\tdocument.head.appendChild(link);\n",
       "require.config({     paths: {         vis: '//cdnjs.cloudflare.com/ajax/libs/vis/4.8.2/vis.min'     } }); require(['vis'], function(vis) {  window.vis = vis; }); "
      ],
      "text/plain": [
       "<IPython.core.display.Javascript object>"
      ]
     },
     "metadata": {},
     "output_type": "display_data"
    },
    {
     "data": {
      "text/html": [
       "<div id=\"0ca3d682-2f99-4f7d-a356-32afd92fac82\" style=\"height: 400px;\"></div>\n",
       "\n",
       "<script type=\"text/javascript\">\n",
       "\n",
       "    var nodes = [{\"id\": 475, \"label\": \"Nicole\", \"group\": \"Person\", \"title\": \"Node('Person', age=24, name='Nicole')\"}, {\"id\": 257, \"label\": \"Liv Tyler\", \"group\": \"Person\", \"title\": \"Node('Person', born=1977, name='Liv Tyler')\"}, {\"id\": 256, \"label\": \"That Thing You Do\", \"group\": \"Movie\", \"title\": \"Node('Movie', released=1996, tagline='In every life there comes a time when that thing you dream becomes that thing you do', title='That Thing You Do')\"}, {\"id\": 364, \"label\": \"\", \"group\": \"Manufacturer\", \"title\": \"Node('Manufacturer', name='Coca Cola')\"}, {\"id\": 587, \"label\": \"\", \"group\": \"Drink\", \"title\": \"Node('Drink', calories=9000, name='Mountain Dew')\"}, {\"id\": 173, \"label\": \"Carrie-Anne Moss\", \"group\": \"Person\", \"title\": \"Node('Person', born=1967, name='Carrie-Anne Moss')\"}, {\"id\": 180, \"label\": \"The Matrix Reloaded\", \"group\": \"Movie\", \"title\": \"Node('Movie', released=2003, tagline='Free your mind', title='The Matrix Reloaded')\"}, {\"id\": 171, \"label\": \"The Matrix\", \"group\": \"Movie\", \"title\": \"Node('Movie', released=1999, tagline='Welcome to the Real World', title='The Matrix')\"}, {\"id\": 181, \"label\": \"The Matrix Revolutions\", \"group\": \"Movie\", \"title\": \"Node('Movie', released=2003, tagline='Everything that has a beginning has an end', title='The Matrix Revolutions')\"}, {\"id\": 75, \"label\": \"Bill Pullman\", \"group\": \"Person\", \"title\": \"Node('Person', born=1953, name='Bill Pullman')\"}, {\"id\": 73, \"label\": \"Sleepless in Seattle\", \"group\": \"Movie\", \"title\": \"Node('Movie', released=1993, tagline='What if someone you never met, someone you never saw, someone you never knew was the only someone for you?', title='Sleepless in Seattle')\"}, {\"id\": 208, \"label\": \"Jerry Maguire\", \"group\": \"Movie\", \"title\": \"Node('Movie', released=2000, tagline='The rest of his life begins now.', title='Jerry Maguire')\"}, {\"id\": 175, \"label\": \"Hugo Weaving\", \"group\": \"Person\", \"title\": \"Node('Person', born=1960, name='Hugo Weaving')\"}, {\"id\": 287, \"label\": \"V for Vendetta\", \"group\": \"Movie\", \"title\": \"Node('Movie', released=2006, tagline='Freedom! Forever!', title='V for Vendetta')\"}, {\"id\": 276, \"label\": \"Cloud Atlas\", \"group\": \"Movie\", \"title\": \"Node('Movie', released=2012, tagline='Everything is connected', title='Cloud Atlas')\"}, {\"id\": 578, \"label\": \"\", \"group\": \"Drink\", \"title\": \"Node('Drink', calories=9000, name='Mountain Dew')\"}, {\"id\": 337, \"label\": \"Penny Marshall\", \"group\": \"Person\", \"title\": \"Node('Person', born=1943, name='Penny Marshall')\"}, {\"id\": 333, \"label\": \"A League of Their Own\", \"group\": \"Movie\", \"title\": \"Node('Movie', released=1992, tagline='Once in a lifetime you get a chance to do something different.', title='A League of Their Own')\"}, {\"id\": 345, \"label\": \"\", \"group\": \"Manufacturer\", \"title\": \"Node('Manufacturer', name='Pepsi')\"}, {\"id\": 392, \"label\": \"\", \"group\": \"Drink\", \"title\": \"Node('Drink', calories=0, name='Coke Zero')\"}, {\"id\": 13, \"label\": \"Al Pacino\", \"group\": \"Person\", \"title\": \"Node('Person', born=1940, name='Al Pacino')\"}, {\"id\": 11, \"label\": \"The Devil's Advocate\", \"group\": \"Movie\", \"title\": \"Node('Movie', released=1997, tagline='Evil has its winning ways', title=\\\"The Devil's Advocate\\\")\"}, {\"id\": 319, \"label\": \"Philip Seymour Hoffman\", \"group\": \"Person\", \"title\": \"Node('Person', born=1967, name='Philip Seymour Hoffman')\"}, {\"id\": 318, \"label\": \"Twister\", \"group\": \"Movie\", \"title\": \"Node('Movie', released=1996, tagline=\\\"Don't Breathe. Don't Look Back.\\\", title='Twister')\"}, {\"id\": 330, \"label\": \"Charlie Wilson's War\", \"group\": \"Movie\", \"title\": \"Node('Movie', released=2007, tagline=\\\"A stiff drink. A little mascara. A lot of nerve. Who said they couldn't bring down the Soviet empire.\\\", title=\\\"Charlie Wilson's War\\\")\"}, {\"id\": 218, \"label\": \"River Phoenix\", \"group\": \"Person\", \"title\": \"Node('Person', born=1970, name='River Phoenix')\"}, {\"id\": 217, \"label\": \"Stand By Me\", \"group\": \"Movie\", \"title\": \"Node('Movie', released=1986, tagline=\\\"For some, it's the last real taste of innocence, and the first real taste of life. But for everyone, it's the time that memories are made of.\\\", title='Stand By Me')\"}, {\"id\": 523, \"label\": \"Drew\", \"group\": \"Person\", \"title\": \"Node('Person', age=20, name='Drew')\"}, {\"id\": 466, \"label\": \"\", \"group\": \"Manufacturer\", \"title\": \"Node('Manufacturer', name='Coca Cola')\"}, {\"id\": 71, \"label\": \"Tom Hanks\", \"group\": \"Person\", \"title\": \"Node('Person', born=1956, name='Tom Hanks')\"}, {\"id\": 144, \"label\": \"Apollo 13\", \"group\": \"Movie\", \"title\": \"Node('Movie', released=1995, tagline='Houston, we have a problem.', title='Apollo 13')\"}, {\"id\": 67, \"label\": \"You've Got Mail\", \"group\": \"Movie\", \"title\": \"Node('Movie', released=1998, tagline='At odds in life... in love on-line.', title=\\\"You've Got Mail\\\")\"}, {\"id\": 162, \"label\": \"A League of Their Own\", \"group\": \"Movie\", \"title\": \"Node('Movie', released=1992, tagline='Once in a lifetime you get a chance to do something different.', title='A League of Their Own')\"}, {\"id\": 78, \"label\": \"Joe Versus the Volcano\", \"group\": \"Movie\", \"title\": \"Node('Movie', released=1990, tagline='A story of love, lava and burning desire.', title='Joe Versus the Volcano')\"}, {\"id\": 85, \"label\": \"That Thing You Do\", \"group\": \"Movie\", \"title\": \"Node('Movie', released=1996, tagline='In every life there comes a time when that thing you dream becomes that thing you do', title='That Thing You Do')\"}, {\"id\": 111, \"label\": \"The Da Vinci Code\", \"group\": \"Movie\", \"title\": \"Node('Movie', released=2006, tagline='Break The Codes', title='The Da Vinci Code')\"}, {\"id\": 105, \"label\": \"Cloud Atlas\", \"group\": \"Movie\", \"title\": \"Node('Movie', released=2012, tagline='Everything is connected', title='Cloud Atlas')\"}, {\"id\": 150, \"label\": \"Cast Away\", \"group\": \"Movie\", \"title\": \"Node('Movie', released=2000, tagline='At the edge of the world, his journey begins.', title='Cast Away')\"}, {\"id\": 130, \"label\": \"The Green Mile\", \"group\": \"Movie\", \"title\": \"Node('Movie', released=1999, tagline=\\\"Walk a mile you'll never forget.\\\", title='The Green Mile')\"}, {\"id\": 161, \"label\": \"The Polar Express\", \"group\": \"Movie\", \"title\": \"Node('Movie', released=2004, tagline='This Holiday Season... Believe', title='The Polar Express')\"}, {\"id\": 159, \"label\": \"Charlie Wilson's War\", \"group\": \"Movie\", \"title\": \"Node('Movie', released=2007, tagline=\\\"A stiff drink. A little mascara. A lot of nerve. Who said they couldn't bring down the Soviet empire.\\\", title=\\\"Charlie Wilson's War\\\")\"}, {\"id\": 131, \"label\": \"Michael Clarke Duncan\", \"group\": \"Person\", \"title\": \"Node('Person', born=1957, name='Michael Clarke Duncan')\"}, {\"id\": 580, \"label\": \"\", \"group\": \"Manufacturer\", \"title\": \"Node('Manufacturer', name='Coca Cola')\"}, {\"id\": 498, \"label\": \"Drew\", \"group\": \"Person\", \"title\": \"Node('Person', age=20, name='Drew')\"}, {\"id\": 140, \"label\": \"Oliver Platt\", \"group\": \"Person\", \"title\": \"Node('Person', born=1960, name='Oliver Platt')\"}, {\"id\": 137, \"label\": \"Frost/Nixon\", \"group\": \"Movie\", \"title\": \"Node('Movie', released=2008, tagline='400 million people were waiting for the truth.', title='Frost/Nixon')\"}, {\"id\": 157, \"label\": \"Bicentennial Man\", \"group\": \"Movie\", \"title\": \"Node('Movie', released=1999, tagline=\\\"One robot's 200 year journey to become an ordinary man.\\\", title='Bicentennial Man')\"}, {\"id\": 1, \"label\": \"Keanu Reeves\", \"group\": \"Person\", \"title\": \"Node('Person', born=1964, name='Keanu Reeves')\"}, {\"id\": 154, \"label\": \"Something's Gotta Give\", \"group\": \"Movie\", \"title\": \"Node('Movie', released=2003, title=\\\"Something's Gotta Give\\\")\"}, {\"id\": 87, \"label\": \"The Replacements\", \"group\": \"Movie\", \"title\": \"Node('Movie', released=2000, tagline='Pain heals, Chicks dig scars... Glory lasts forever', title='The Replacements')\"}, {\"id\": 100, \"label\": \"Johnny Mnemonic\", \"group\": \"Movie\", \"title\": \"Node('Movie', released=1995, tagline='The hottest data on earth. In the coolest head in town', title='Johnny Mnemonic')\"}, {\"id\": 10, \"label\": \"The Matrix Revolutions\", \"group\": \"Movie\", \"title\": \"Node('Movie', released=2003, tagline='Everything that has a beginning has an end', title='The Matrix Revolutions')\"}, {\"id\": 9, \"label\": \"The Matrix Reloaded\", \"group\": \"Movie\", \"title\": \"Node('Movie', released=2003, tagline='Free your mind', title='The Matrix Reloaded')\"}, {\"id\": 0, \"label\": \"The Matrix\", \"group\": \"Movie\", \"title\": \"Node('Movie', released=1999, tagline='Welcome to the Real World', title='The Matrix')\"}, {\"id\": 558, \"label\": \"Nicole\", \"group\": \"Person\", \"title\": \"Node('Person', age=24, name='Nicole')\"}, {\"id\": 339, \"label\": \"Angela Scope\", \"group\": \"Person\", \"title\": \"Node('Person', name='Angela Scope')\"}, {\"id\": 258, \"label\": \"The Replacements\", \"group\": \"Movie\", \"title\": \"Node('Movie', released=2000, tagline='Pain heals, Chicks dig scars... Glory lasts forever', title='The Replacements')\"}, {\"id\": 340, \"label\": \"Jessica Thompson\", \"group\": \"Person\", \"title\": \"Node('Person', name='Jessica Thompson')\"}, {\"id\": 380, \"label\": \"\", \"group\": \"Drink\", \"title\": \"Node('Drink', calories=0, name='Coke Zero')\"}, {\"id\": 418, \"label\": \"Nicole\", \"group\": \"Person\", \"title\": \"Node('Person', age=24, name='Nicole')\"}, {\"id\": 146, \"label\": \"Bill Paxton\", \"group\": \"Person\", \"title\": \"Node('Person', born=1955, name='Bill Paxton')\"}, {\"id\": 147, \"label\": \"Twister\", \"group\": \"Movie\", \"title\": \"Node('Movie', released=1996, tagline=\\\"Don't Breathe. Don't Look Back.\\\", title='Twister')\"}, {\"id\": 391, \"label\": \"Drew\", \"group\": \"Person\", \"title\": \"Node('Person', age=20, name='Drew')\"}, {\"id\": 143, \"label\": \"John C. Reilly\", \"group\": \"Person\", \"title\": \"Node('Person', born=1965, name='John C. Reilly')\"}, {\"id\": 141, \"label\": \"Hoffa\", \"group\": \"Movie\", \"title\": \"Node('Movie', released=1992, tagline=\\\"He didn't want law. He wanted justice.\\\", title='Hoffa')\"}, {\"id\": 557, \"label\": \"\", \"group\": \"Manufacturer\", \"title\": \"Node('Manufacturer', name='Pepsi')\"}, {\"id\": 222, \"label\": \"Marshall Bell\", \"group\": \"Person\", \"title\": \"Node('Person', born=1942, name='Marshall Bell')\"}, {\"id\": 263, \"label\": \"RescueDawn\", \"group\": \"Movie\", \"title\": \"Node('Movie', released=2006, tagline=\\\"Based on the extraordinary true story of one man's fight for freedom\\\", title='RescueDawn')\"}, {\"id\": 275, \"label\": \"Robert Longo\", \"group\": \"Person\", \"title\": \"Node('Person', born=1953, name='Robert Longo')\"}, {\"id\": 271, \"label\": \"Johnny Mnemonic\", \"group\": \"Movie\", \"title\": \"Node('Movie', released=1995, tagline='The hottest data on earth. In the coolest head in town', title='Johnny Mnemonic')\"}, {\"id\": 182, \"label\": \"The Devil's Advocate\", \"group\": \"Movie\", \"title\": \"Node('Movie', released=1997, tagline='Evil has its winning ways', title=\\\"The Devil's Advocate\\\")\"}, {\"id\": 455, \"label\": \"\", \"group\": \"Manufacturer\", \"title\": \"Node('Manufacturer', name='Pepsi')\"}, {\"id\": 292, \"label\": \"Speed Racer\", \"group\": \"Movie\", \"title\": \"Node('Movie', released=2008, tagline='Speed has no limits', title='Speed Racer')\"}, {\"id\": 163, \"label\": \"Madonna\", \"group\": \"Person\", \"title\": \"Node('Person', born=1954, name='Madonna')\"}, {\"id\": 253, \"label\": \"Billy Crystal\", \"group\": \"Person\", \"title\": \"Node('Person', born=1948, name='Billy Crystal')\"}, {\"id\": 252, \"label\": \"When Harry Met Sally\", \"group\": \"Movie\", \"title\": \"Node('Movie', released=1998, tagline='Can two friends sleep together and still love each other in the morning?', title='When Harry Met Sally')\"}, {\"id\": 80, \"label\": \"Nathan Lane\", \"group\": \"Person\", \"title\": \"Node('Person', born=1956, name='Nathan Lane')\"}, {\"id\": 95, \"label\": \"The Birdcage\", \"group\": \"Movie\", \"title\": \"Node('Movie', released=1996, tagline='Come as you are', title='The Birdcage')\"}, {\"id\": 200, \"label\": \"Top Gun\", \"group\": \"Movie\", \"title\": \"Node('Movie', released=1986, tagline='I feel the need, the need for speed.', title='Top Gun')\"}, {\"id\": 393, \"label\": \"\", \"group\": \"Drink\", \"title\": \"Node('Drink', calories=9000, name='Mountain Dew')\"}, {\"id\": 414, \"label\": \"\", \"group\": \"Drink\", \"title\": \"Node('Drink', calories=9000, name='Mountain Dew')\"}, {\"id\": 479, \"label\": \"\", \"group\": \"Manufacturer\", \"title\": \"Node('Manufacturer', name='Pepsi')\"}, {\"id\": 240, \"label\": \"Dave Chappelle\", \"group\": \"Person\", \"title\": \"Node('Person', born=1973, name='Dave Chappelle')\"}, {\"id\": 238, \"label\": \"You've Got Mail\", \"group\": \"Movie\", \"title\": \"Node('Movie', released=1998, tagline='At odds in life... in love on-line.', title=\\\"You've Got Mail\\\")\"}, {\"id\": 267, \"label\": \"Mike Nichols\", \"group\": \"Person\", \"title\": \"Node('Person', born=1931, name='Mike Nichols')\"}, {\"id\": 266, \"label\": \"The Birdcage\", \"group\": \"Movie\", \"title\": \"Node('Movie', released=1996, tagline='Come as you are', title='The Birdcage')\"}, {\"id\": 457, \"label\": \"Nicole\", \"group\": \"Person\", \"title\": \"Node('Person', age=24, name='Nicole')\"}, {\"id\": 104, \"label\": \"Robert Longo\", \"group\": \"Person\", \"title\": \"Node('Person', born=1953, name='Robert Longo')\"}, {\"id\": 500, \"label\": \"\", \"group\": \"Drink\", \"title\": \"Node('Drink', calories=9000, name='Mountain Dew')\"}, {\"id\": 449, \"label\": \"Nicole\", \"group\": \"Person\", \"title\": \"Node('Person', age=24, name='Nicole')\"}, {\"id\": 527, \"label\": \"\", \"group\": \"Manufacturer\", \"title\": \"Node('Manufacturer', name='Pepsi')\"}, {\"id\": 412, \"label\": \"\", \"group\": \"Manufacturer\", \"title\": \"Node('Manufacturer', name='Coca Cola')\"}, {\"id\": 561, \"label\": \"\", \"group\": \"Manufacturer\", \"title\": \"Node('Manufacturer', name='Pepsi')\"}, {\"id\": 586, \"label\": \"\", \"group\": \"Drink\", \"title\": \"Node('Drink', calories=0, name='Coke Zero')\"}, {\"id\": 169, \"label\": \"Jessica Thompson\", \"group\": \"Person\", \"title\": \"Node('Person', name='Jessica Thompson')\"}, {\"id\": 37, \"label\": \"Jerry Maguire\", \"group\": \"Movie\", \"title\": \"Node('Movie', released=2000, tagline='The rest of his life begins now.', title='Jerry Maguire')\"}, {\"id\": 97, \"label\": \"Unforgiven\", \"group\": \"Movie\", \"title\": \"Node('Movie', released=1992, tagline=\\\"It's a hell of a thing, killing a man\\\", title='Unforgiven')\"}, {\"id\": 377, \"label\": \"\", \"group\": \"Manufacturer\", \"title\": \"Node('Manufacturer', name='Pepsi')\"}, {\"id\": 55, \"label\": \"James L. Brooks\", \"group\": \"Person\", \"title\": \"Node('Person', born=1940, name='James L. Brooks')\"}, {\"id\": 52, \"label\": \"As Good as It Gets\", \"group\": \"Movie\", \"title\": \"Node('Movie', released=1997, tagline='A comedy from the heart that goes for the throat.', title='As Good as It Gets')\"}, {\"id\": 242, \"label\": \"Tom Hanks\", \"group\": \"Person\", \"title\": \"Node('Person', born=1956, name='Tom Hanks')\"}, {\"id\": 332, \"label\": \"The Polar Express\", \"group\": \"Movie\", \"title\": \"Node('Movie', released=2004, tagline='This Holiday Season... Believe', title='The Polar Express')\"}, {\"id\": 282, \"label\": \"The Da Vinci Code\", \"group\": \"Movie\", \"title\": \"Node('Movie', released=2006, tagline='Break The Codes', title='The Da Vinci Code')\"}, {\"id\": 315, \"label\": \"Apollo 13\", \"group\": \"Movie\", \"title\": \"Node('Movie', released=1995, tagline='Houston, we have a problem.', title='Apollo 13')\"}, {\"id\": 249, \"label\": \"Joe Versus the Volcano\", \"group\": \"Movie\", \"title\": \"Node('Movie', released=1990, tagline='A story of love, lava and burning desire.', title='Joe Versus the Volcano')\"}, {\"id\": 301, \"label\": \"The Green Mile\", \"group\": \"Movie\", \"title\": \"Node('Movie', released=1999, tagline=\\\"Walk a mile you'll never forget.\\\", title='The Green Mile')\"}, {\"id\": 321, \"label\": \"Cast Away\", \"group\": \"Movie\", \"title\": \"Node('Movie', released=2000, tagline='At the edge of the world, his journey begins.', title='Cast Away')\"}, {\"id\": 244, \"label\": \"Sleepless in Seattle\", \"group\": \"Movie\", \"title\": \"Node('Movie', released=1993, tagline='What if someone you never met, someone you never saw, someone you never knew was the only someone for you?', title='Sleepless in Seattle')\"}, {\"id\": 583, \"label\": \"Nicole\", \"group\": \"Person\", \"title\": \"Node('Person', age=24, name='Nicole')\"}, {\"id\": 178, \"label\": \"Joel Silver\", \"group\": \"Person\", \"title\": \"Node('Person', born=1952, name='Joel Silver')\"}, {\"id\": 299, \"label\": \"Ninja Assassin\", \"group\": \"Movie\", \"title\": \"Node('Movie', released=2009, tagline='Prepare to enter a secret world of assassins', title='Ninja Assassin')\"}, {\"id\": 91, \"label\": \"Howard Deutch\", \"group\": \"Person\", \"title\": \"Node('Person', born=1950, name='Howard Deutch')\"}, {\"id\": 79, \"label\": \"John Patrick Stanley\", \"group\": \"Person\", \"title\": \"Node('Person', born=1950, name='John Patrick Stanley')\"}, {\"id\": 56, \"label\": \"What Dreams May Come\", \"group\": \"Movie\", \"title\": \"Node('Movie', released=1998, tagline='After life there is more. The end is just the beginning.', title='What Dreams May Come')\"}, {\"id\": 113, \"label\": \"Audrey Tautou\", \"group\": \"Person\", \"title\": \"Node('Person', born=1976, name='Audrey Tautou')\"}, {\"id\": 452, \"label\": \"\", \"group\": \"Drink\", \"title\": \"Node('Drink', calories=9000, name='Mountain Dew')\"}, {\"id\": 329, \"label\": \"Chris Columbus\", \"group\": \"Person\", \"title\": \"Node('Person', born=1958, name='Chris Columbus')\"}, {\"id\": 328, \"label\": \"Bicentennial Man\", \"group\": \"Movie\", \"title\": \"Node('Movie', released=1999, tagline=\\\"One robot's 200 year journey to become an ordinary man.\\\", title='Bicentennial Man')\"}, {\"id\": 135, \"label\": \"Patricia Clarkson\", \"group\": \"Person\", \"title\": \"Node('Person', born=1959, name='Patricia Clarkson')\"}, {\"id\": 152, \"label\": \"One Flew Over the Cuckoo's Nest\", \"group\": \"Movie\", \"title\": \"Node('Movie', released=1975, tagline=\\\"If he's crazy, what does that make you?\\\", title=\\\"One Flew Over the Cuckoo's Nest\\\")\"}, {\"id\": 509, \"label\": \"\", \"group\": \"Drink\", \"title\": \"Node('Drink', calories=9000, name='Mountain Dew')\"}, {\"id\": 243, \"label\": \"Nora Ephron\", \"group\": \"Person\", \"title\": \"Node('Person', born=1941, name='Nora Ephron')\"}, {\"id\": 349, \"label\": \"Drew\", \"group\": \"Person\", \"title\": \"Node('Person', age=20, name='Drew')\"}, {\"id\": 289, \"label\": \"Stephen Rea\", \"group\": \"Person\", \"title\": \"Node('Person', born=1946, name='Stephen Rea')\"}, {\"id\": 496, \"label\": \"\", \"group\": \"Manufacturer\", \"title\": \"Node('Manufacturer', name='Coca Cola')\"}, {\"id\": 232, \"label\": \"Vincent Ward\", \"group\": \"Person\", \"title\": \"Node('Person', born=1956, name='Vincent Ward')\"}, {\"id\": 227, \"label\": \"What Dreams May Come\", \"group\": \"Movie\", \"title\": \"Node('Movie', released=1998, tagline='After life there is more. The end is just the beginning.', title='What Dreams May Come')\"}, {\"id\": 519, \"label\": \"\", \"group\": \"Manufacturer\", \"title\": \"Node('Manufacturer', name='Pepsi')\"}, {\"id\": 3, \"label\": \"Laurence Fishburne\", \"group\": \"Person\", \"title\": \"Node('Person', born=1961, name='Laurence Fishburne')\"}, {\"id\": 472, \"label\": \"\", \"group\": \"Manufacturer\", \"title\": \"Node('Manufacturer', name='Coca Cola')\"}, {\"id\": 335, \"label\": \"Geena Davis\", \"group\": \"Person\", \"title\": \"Node('Person', born=1956, name='Geena Davis')\"}, {\"id\": 489, \"label\": \"\", \"group\": \"Drink\", \"title\": \"Node('Drink', calories=9000, name='Mountain Dew')\"}, {\"id\": 206, \"label\": \"Tony Scott\", \"group\": \"Person\", \"title\": \"Node('Person', born=1944, name='Tony Scott')\"}, {\"id\": 463, \"label\": \"Drew\", \"group\": \"Person\", \"title\": \"Node('Person', age=20, name='Drew')\"}, {\"id\": 196, \"label\": \"James Marshall\", \"group\": \"Person\", \"title\": \"Node('Person', born=1967, name='James Marshall')\"}, {\"id\": 186, \"label\": \"A Few Good Men\", \"group\": \"Movie\", \"title\": \"Node('Movie', released=1992, tagline=\\\"In the heart of the nation's capital, in a courthouse of the U.S. government, one man will stop at nothing to keep his honor, and one will stop at nothing to find the truth.\\\", title='A Few Good Men')\"}, {\"id\": 378, \"label\": \"Nicole\", \"group\": \"Person\", \"title\": \"Node('Person', age=24, name='Nicole')\"}, {\"id\": 359, \"label\": \"Drew\", \"group\": \"Person\", \"title\": \"Node('Person', age=20, name='Drew')\"}, {\"id\": 507, \"label\": \"\", \"group\": \"Manufacturer\", \"title\": \"Node('Manufacturer', name='Pepsi')\"}, {\"id\": 432, \"label\": \"Nicole\", \"group\": \"Person\", \"title\": \"Node('Person', age=24, name='Nicole')\"}, {\"id\": 360, \"label\": \"\", \"group\": \"Drink\", \"title\": \"Node('Drink', calories=9000, name='Mountain Dew')\"}, {\"id\": 565, \"label\": \"Drew\", \"group\": \"Person\", \"title\": \"Node('Person', age=20, name='Drew')\"}, {\"id\": 316, \"label\": \"Ed Harris\", \"group\": \"Person\", \"title\": \"Node('Person', born=1950, name='Ed Harris')\"}, {\"id\": 373, \"label\": \"Nicole\", \"group\": \"Person\", \"title\": \"Node('Person', age=24, name='Nicole')\"}, {\"id\": 124, \"label\": \"Susan Sarandon\", \"group\": \"Person\", \"title\": \"Node('Person', born=1946, name='Susan Sarandon')\"}, {\"id\": 121, \"label\": \"Speed Racer\", \"group\": \"Movie\", \"title\": \"Node('Movie', released=2008, tagline='Speed has no limits', title='Speed Racer')\"}, {\"id\": 281, \"label\": \"Stefan Arndt\", \"group\": \"Person\", \"title\": \"Node('Person', born=1961, name='Stefan Arndt')\"}, {\"id\": 352, \"label\": \"\", \"group\": \"Drink\", \"title\": \"Node('Drink', calories=0, name='Coke Zero')\"}, {\"id\": 255, \"label\": \"Bruno Kirby\", \"group\": \"Person\", \"title\": \"Node('Person', born=1949, name='Bruno Kirby')\"}, {\"id\": 43, \"label\": \"Regina King\", \"group\": \"Person\", \"title\": \"Node('Person', born=1971, name='Regina King')\"}, {\"id\": 145, \"label\": \"Ed Harris\", \"group\": \"Person\", \"title\": \"Node('Person', born=1950, name='Ed Harris')\"}, {\"id\": 61, \"label\": \"Vincent Ward\", \"group\": \"Person\", \"title\": \"Node('Person', born=1956, name='Vincent Ward')\"}];\n",
       "    var edges = [{\"from\": 257, \"to\": 256, \"label\": \"ACTED_IN\"}, {\"from\": 173, \"to\": 180, \"label\": \"ACTED_IN\"}, {\"from\": 173, \"to\": 171, \"label\": \"ACTED_IN\"}, {\"from\": 173, \"to\": 181, \"label\": \"ACTED_IN\"}, {\"from\": 75, \"to\": 73, \"label\": \"ACTED_IN\"}, {\"from\": 175, \"to\": 287, \"label\": \"ACTED_IN\"}, {\"from\": 175, \"to\": 181, \"label\": \"ACTED_IN\"}, {\"from\": 175, \"to\": 180, \"label\": \"ACTED_IN\"}, {\"from\": 175, \"to\": 171, \"label\": \"ACTED_IN\"}, {\"from\": 175, \"to\": 276, \"label\": \"ACTED_IN\"}, {\"from\": 337, \"to\": 333, \"label\": \"DIRECTED\"}, {\"from\": 13, \"to\": 11, \"label\": \"ACTED_IN\"}, {\"from\": 319, \"to\": 318, \"label\": \"ACTED_IN\"}, {\"from\": 319, \"to\": 330, \"label\": \"ACTED_IN\"}, {\"from\": 218, \"to\": 217, \"label\": \"ACTED_IN\"}, {\"from\": 71, \"to\": 144, \"label\": \"ACTED_IN\"}, {\"from\": 71, \"to\": 67, \"label\": \"ACTED_IN\"}, {\"from\": 71, \"to\": 162, \"label\": \"ACTED_IN\"}, {\"from\": 71, \"to\": 78, \"label\": \"ACTED_IN\"}, {\"from\": 71, \"to\": 85, \"label\": \"ACTED_IN\"}, {\"from\": 71, \"to\": 111, \"label\": \"ACTED_IN\"}, {\"from\": 71, \"to\": 105, \"label\": \"ACTED_IN\"}, {\"from\": 71, \"to\": 150, \"label\": \"ACTED_IN\"}, {\"from\": 71, \"to\": 130, \"label\": \"ACTED_IN\"}, {\"from\": 71, \"to\": 73, \"label\": \"ACTED_IN\"}, {\"from\": 71, \"to\": 161, \"label\": \"ACTED_IN\"}, {\"from\": 71, \"to\": 159, \"label\": \"ACTED_IN\"}, {\"from\": 71, \"to\": 85, \"label\": \"DIRECTED\"}, {\"from\": 131, \"to\": 130, \"label\": \"ACTED_IN\"}, {\"from\": 140, \"to\": 137, \"label\": \"ACTED_IN\"}, {\"from\": 140, \"to\": 157, \"label\": \"ACTED_IN\"}, {\"from\": 1, \"to\": 154, \"label\": \"ACTED_IN\"}, {\"from\": 1, \"to\": 87, \"label\": \"ACTED_IN\"}, {\"from\": 1, \"to\": 100, \"label\": \"ACTED_IN\"}, {\"from\": 1, \"to\": 11, \"label\": \"ACTED_IN\"}, {\"from\": 1, \"to\": 10, \"label\": \"ACTED_IN\"}, {\"from\": 1, \"to\": 9, \"label\": \"ACTED_IN\"}, {\"from\": 1, \"to\": 0, \"label\": \"ACTED_IN\"}, {\"from\": 339, \"to\": 258, \"label\": \"REVIEWED\"}, {\"from\": 339, \"to\": 340, \"label\": \"FOLLOWS\"}, {\"from\": 146, \"to\": 147, \"label\": \"ACTED_IN\"}, {\"from\": 146, \"to\": 162, \"label\": \"ACTED_IN\"}, {\"from\": 146, \"to\": 144, \"label\": \"ACTED_IN\"}, {\"from\": 143, \"to\": 141, \"label\": \"ACTED_IN\"}, {\"from\": 222, \"to\": 217, \"label\": \"ACTED_IN\"}, {\"from\": 222, \"to\": 263, \"label\": \"ACTED_IN\"}, {\"from\": 275, \"to\": 271, \"label\": \"DIRECTED\"}, {\"from\": 163, \"to\": 162, \"label\": \"ACTED_IN\"}, {\"from\": 253, \"to\": 252, \"label\": \"ACTED_IN\"}, {\"from\": 80, \"to\": 78, \"label\": \"ACTED_IN\"}, {\"from\": 80, \"to\": 95, \"label\": \"ACTED_IN\"}, {\"from\": 240, \"to\": 238, \"label\": \"ACTED_IN\"}, {\"from\": 267, \"to\": 330, \"label\": \"DIRECTED\"}, {\"from\": 267, \"to\": 266, \"label\": \"DIRECTED\"}, {\"from\": 104, \"to\": 100, \"label\": \"DIRECTED\"}, {\"from\": 169, \"to\": 111, \"label\": \"REVIEWED\"}, {\"from\": 169, \"to\": 87, \"label\": \"REVIEWED\"}, {\"from\": 169, \"to\": 37, \"label\": \"REVIEWED\"}, {\"from\": 169, \"to\": 105, \"label\": \"REVIEWED\"}, {\"from\": 169, \"to\": 95, \"label\": \"REVIEWED\"}, {\"from\": 169, \"to\": 97, \"label\": \"REVIEWED\"}, {\"from\": 55, \"to\": 52, \"label\": \"DIRECTED\"}, {\"from\": 242, \"to\": 238, \"label\": \"ACTED_IN\"}, {\"from\": 242, \"to\": 332, \"label\": \"ACTED_IN\"}, {\"from\": 242, \"to\": 333, \"label\": \"ACTED_IN\"}, {\"from\": 242, \"to\": 282, \"label\": \"ACTED_IN\"}, {\"from\": 242, \"to\": 315, \"label\": \"ACTED_IN\"}, {\"from\": 242, \"to\": 249, \"label\": \"ACTED_IN\"}, {\"from\": 242, \"to\": 301, \"label\": \"ACTED_IN\"}, {\"from\": 242, \"to\": 330, \"label\": \"ACTED_IN\"}, {\"from\": 242, \"to\": 276, \"label\": \"ACTED_IN\"}, {\"from\": 242, \"to\": 321, \"label\": \"ACTED_IN\"}, {\"from\": 242, \"to\": 256, \"label\": \"DIRECTED\"}, {\"from\": 242, \"to\": 256, \"label\": \"ACTED_IN\"}, {\"from\": 242, \"to\": 244, \"label\": \"ACTED_IN\"}, {\"from\": 178, \"to\": 287, \"label\": \"PRODUCED\"}, {\"from\": 178, \"to\": 299, \"label\": \"PRODUCED\"}, {\"from\": 178, \"to\": 181, \"label\": \"PRODUCED\"}, {\"from\": 178, \"to\": 180, \"label\": \"PRODUCED\"}, {\"from\": 178, \"to\": 171, \"label\": \"PRODUCED\"}, {\"from\": 178, \"to\": 292, \"label\": \"PRODUCED\"}, {\"from\": 91, \"to\": 87, \"label\": \"DIRECTED\"}, {\"from\": 79, \"to\": 78, \"label\": \"DIRECTED\"}, {\"from\": 113, \"to\": 111, \"label\": \"ACTED_IN\"}, {\"from\": 329, \"to\": 328, \"label\": \"DIRECTED\"}, {\"from\": 135, \"to\": 130, \"label\": \"ACTED_IN\"}, {\"from\": 243, \"to\": 252, \"label\": \"PRODUCED\"}, {\"from\": 243, \"to\": 244, \"label\": \"DIRECTED\"}, {\"from\": 243, \"to\": 238, \"label\": \"DIRECTED\"}, {\"from\": 243, \"to\": 252, \"label\": \"WROTE\"}, {\"from\": 289, \"to\": 287, \"label\": \"ACTED_IN\"}, {\"from\": 232, \"to\": 227, \"label\": \"DIRECTED\"}, {\"from\": 3, \"to\": 10, \"label\": \"ACTED_IN\"}, {\"from\": 3, \"to\": 9, \"label\": \"ACTED_IN\"}, {\"from\": 3, \"to\": 0, \"label\": \"ACTED_IN\"}, {\"from\": 335, \"to\": 333, \"label\": \"ACTED_IN\"}, {\"from\": 206, \"to\": 200, \"label\": \"DIRECTED\"}, {\"from\": 196, \"to\": 287, \"label\": \"DIRECTED\"}, {\"from\": 196, \"to\": 186, \"label\": \"ACTED_IN\"}, {\"from\": 196, \"to\": 299, \"label\": \"DIRECTED\"}, {\"from\": 316, \"to\": 315, \"label\": \"ACTED_IN\"}, {\"from\": 124, \"to\": 121, \"label\": \"ACTED_IN\"}, {\"from\": 281, \"to\": 276, \"label\": \"PRODUCED\"}, {\"from\": 255, \"to\": 252, \"label\": \"ACTED_IN\"}, {\"from\": 43, \"to\": 37, \"label\": \"ACTED_IN\"}, {\"from\": 145, \"to\": 144, \"label\": \"ACTED_IN\"}, {\"from\": 61, \"to\": 56, \"label\": \"DIRECTED\"}];\n",
       "\n",
       "    var container = document.getElementById(\"0ca3d682-2f99-4f7d-a356-32afd92fac82\");\n",
       "\n",
       "    var data = {\n",
       "        nodes: nodes,\n",
       "        edges: edges\n",
       "    };\n",
       "\n",
       "    var options = {\n",
       "    nodes: {\n",
       "        shape: 'dot',\n",
       "        size: 25,\n",
       "        font: {\n",
       "            size: 14\n",
       "        }\n",
       "    },\n",
       "    edges: {\n",
       "        font: {\n",
       "            size: 14,\n",
       "            align: 'middle'\n",
       "        },\n",
       "        color: 'gray',\n",
       "        arrows: {\n",
       "            to: {\n",
       "                enabled: true,\n",
       "                scaleFactor: 0.5\n",
       "            }\n",
       "        },\n",
       "        smooth: {\n",
       "            enabled: false\n",
       "        }\n",
       "    },\n",
       "    physics: {\n",
       "        enabled: true\n",
       "        }\n",
       "    };\n",
       "\n",
       "    var network = new vis.Network(container, data, options);\n",
       "\n",
       "</script>\n"
      ],
      "text/plain": [
       "<IPython.core.display.HTML object>"
      ]
     },
     "execution_count": 4,
     "metadata": {},
     "output_type": "execute_result"
    }
   ],
   "source": [
    "# Display the movie graph\n",
    "neo4jupyter.init_notebook_mode()\n",
    "options = {\"Movie\": \"title\", \"Person\": \"name\"}\n",
    "draw(graph, options)"
   ]
  },
  {
   "cell_type": "code",
   "execution_count": null,
   "metadata": {},
   "outputs": [],
   "source": []
  },
  {
   "cell_type": "markdown",
   "metadata": {},
   "source": [
    "date\n",
    "game_size\n",
    "match_id\n",
    "match_mode\n",
    "party_size\n",
    "player_assists\n",
    "player_dbno\n",
    "player_dist_ride\n",
    "player_dist_walk\n",
    "player_dmg\n",
    "player_kills\n",
    "player_name\n",
    "player_survive_time\n",
    "team_id\n",
    "team_placement\n"
   ]
  }
 ],
 "metadata": {
  "kernelspec": {
   "display_name": "Python 3",
   "language": "python",
   "name": "python3"
  },
  "language_info": {
   "codemirror_mode": {
    "name": "ipython",
    "version": 3
   },
   "file_extension": ".py",
   "mimetype": "text/x-python",
   "name": "python",
   "nbconvert_exporter": "python",
   "pygments_lexer": "ipython3",
   "version": "3.8.3"
  }
 },
 "nbformat": 4,
 "nbformat_minor": 2
}
