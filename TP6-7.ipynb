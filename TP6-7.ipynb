{
 "cells": [
  {
   "cell_type": "markdown",
   "metadata": {},
   "source": [
    "# Les requêtes imbriquées avec Neo4J\n",
    "Ce rapport a pour objectif de montrer l'utilisation des requêtes imbriquées dans le système de gestion de base de donnée Neo4j.\n",
    "\n",
    "## Un peu de contexte\n",
    "Neo4j est un système de gestion de base de donnée orientée graphe. Ce type de système a la particularité d'utiliser des graphes pour représenter les données et ainsi permettre les formules connus de la théorie des graphes. De plus Neo4j est connu pour sa performance dans la rapidité des requêtes qui sont dans certains cas plus rapide que des simples requêtes SQL.Le langage de requête utilisé par Neo4j est le langage cypher reconnu pour permettre des requêtes clair et simple.\n",
    "\n",
    "Les requêtes imbriquées permettent de faire une requête sur une requête et donc cibler plus simplement un resultat. A l'aide de la bibliothèque python py2neo nous allons vous montrer comment on peut utiliser ces requêtes."
   ]
  },
  {
   "cell_type": "markdown",
   "metadata": {},
   "source": [
    "# Installations :\n",
    "- #### pip3 install py2neo\n",
    "- #### pip3 install neo4jupyter"
   ]
  },
  {
   "cell_type": "code",
   "execution_count": 1,
   "metadata": {},
   "outputs": [],
   "source": [
    "from py2neo import *\n",
    "from neo4jupyter import *\n",
    "\n",
    "graph = Graph('http://localhost', auth=('neo4j', 'neo4j'))"
   ]
  },
  {
   "cell_type": "code",
   "execution_count": 2,
   "metadata": {},
   "outputs": [
    {
     "name": "stdout",
     "output_type": "stream",
     "text": [
      "Number of person node is 348 AND Number of movie node is 76\n"
     ]
    }
   ],
   "source": [
    "#Cypher Query\n",
    "number_of_person_nodes=\"MATCH(p:Person) RETURN Count(p)\"\n",
    "number_of_movie_nodes=\"MATCH(m:Movie) RETURN Count(m)\"\n",
    "\n",
    "#Evaluate the Cypher query\n",
    "result_persons=graph.evaluate(number_of_person_nodes)\n",
    "result_movies=graph.evaluate(number_of_movie_nodes)\n",
    "\n",
    "#Print the result\n",
    "print(f\"Number of person node is {result_persons} AND Number of movie node is {result_movies}\")"
   ]
  },
  {
   "cell_type": "code",
   "execution_count": 3,
   "metadata": {},
   "outputs": [
    {
     "data": {
      "text/html": [
       "<div>\n",
       "<style scoped>\n",
       "    .dataframe tbody tr th:only-of-type {\n",
       "        vertical-align: middle;\n",
       "    }\n",
       "\n",
       "    .dataframe tbody tr th {\n",
       "        vertical-align: top;\n",
       "    }\n",
       "\n",
       "    .dataframe thead th {\n",
       "        text-align: right;\n",
       "    }\n",
       "</style>\n",
       "<table border=\"1\" class=\"dataframe\">\n",
       "  <thead>\n",
       "    <tr style=\"text-align: right;\">\n",
       "      <th></th>\n",
       "      <th>RelationType</th>\n",
       "    </tr>\n",
       "  </thead>\n",
       "  <tbody>\n",
       "    <tr>\n",
       "      <th>0</th>\n",
       "      <td>ACTED_IN</td>\n",
       "    </tr>\n",
       "    <tr>\n",
       "      <th>1</th>\n",
       "      <td>PRODUCED</td>\n",
       "    </tr>\n",
       "    <tr>\n",
       "      <th>2</th>\n",
       "      <td>DIRECTED</td>\n",
       "    </tr>\n",
       "    <tr>\n",
       "      <th>3</th>\n",
       "      <td>WROTE</td>\n",
       "    </tr>\n",
       "    <tr>\n",
       "      <th>4</th>\n",
       "      <td>REVIEWED</td>\n",
       "    </tr>\n",
       "    <tr>\n",
       "      <th>5</th>\n",
       "      <td>FOLLOWS</td>\n",
       "    </tr>\n",
       "  </tbody>\n",
       "</table>\n",
       "</div>"
      ],
      "text/plain": [
       "  RelationType\n",
       "0     ACTED_IN\n",
       "1     PRODUCED\n",
       "2     DIRECTED\n",
       "3        WROTE\n",
       "4     REVIEWED\n",
       "5      FOLLOWS"
      ]
     },
     "execution_count": 3,
     "metadata": {},
     "output_type": "execute_result"
    }
   ],
   "source": [
    "# Return all type for relations in a table\n",
    "cypher_all_relationship=\"MATCH (n)-[r]-(m) RETURN DISTINCT type(r) as RelationType\"\n",
    "graph.run(cypher_all_relationship).to_data_frame()"
   ]
  },
  {
   "cell_type": "code",
   "execution_count": 4,
   "metadata": {},
   "outputs": [
    {
     "data": {
      "application/javascript": [
       "var link = document.createElement(\"link\");\n",
       "\tlink.ref = \"stylesheet\";\n",
       "\tlink.type = \"text/css\";\n",
       "\tlink.href = \"https://cdnjs.cloudflare.com/ajax/libs/vis/4.8.2/vis.css\";\n",
       "\tdocument.head.appendChild(link);\n",
       "require.config({     paths: {         vis: '//cdnjs.cloudflare.com/ajax/libs/vis/4.8.2/vis.min'     } }); require(['vis'], function(vis) {  window.vis = vis; }); "
      ],
      "text/plain": [
       "<IPython.core.display.Javascript object>"
      ]
     },
     "metadata": {},
     "output_type": "display_data"
    },
    {
     "data": {
      "text/html": [
       "<div id=\"0ca3d682-2f99-4f7d-a356-32afd92fac82\" style=\"height: 400px;\"></div>\n",
       "\n",
       "<script type=\"text/javascript\">\n",
       "\n",
       "    var nodes = [{\"id\": 475, \"label\": \"Nicole\", \"group\": \"Person\", \"title\": \"Node('Person', age=24, name='Nicole')\"}, {\"id\": 257, \"label\": \"Liv Tyler\", \"group\": \"Person\", \"title\": \"Node('Person', born=1977, name='Liv Tyler')\"}, {\"id\": 256, \"label\": \"That Thing You Do\", \"group\": \"Movie\", \"title\": \"Node('Movie', released=1996, tagline='In every life there comes a time when that thing you dream becomes that thing you do', title='That Thing You Do')\"}, {\"id\": 364, \"label\": \"\", \"group\": \"Manufacturer\", \"title\": \"Node('Manufacturer', name='Coca Cola')\"}, {\"id\": 587, \"label\": \"\", \"group\": \"Drink\", \"title\": \"Node('Drink', calories=9000, name='Mountain Dew')\"}, {\"id\": 173, \"label\": \"Carrie-Anne Moss\", \"group\": \"Person\", \"title\": \"Node('Person', born=1967, name='Carrie-Anne Moss')\"}, {\"id\": 180, \"label\": \"The Matrix Reloaded\", \"group\": \"Movie\", \"title\": \"Node('Movie', released=2003, tagline='Free your mind', title='The Matrix Reloaded')\"}, {\"id\": 171, \"label\": \"The Matrix\", \"group\": \"Movie\", \"title\": \"Node('Movie', released=1999, tagline='Welcome to the Real World', title='The Matrix')\"}, {\"id\": 181, \"label\": \"The Matrix Revolutions\", \"group\": \"Movie\", \"title\": \"Node('Movie', released=2003, tagline='Everything that has a beginning has an end', title='The Matrix Revolutions')\"}, {\"id\": 75, \"label\": \"Bill Pullman\", \"group\": \"Person\", \"title\": \"Node('Person', born=1953, name='Bill Pullman')\"}, {\"id\": 73, \"label\": \"Sleepless in Seattle\", \"group\": \"Movie\", \"title\": \"Node('Movie', released=1993, tagline='What if someone you never met, someone you never saw, someone you never knew was the only someone for you?', title='Sleepless in Seattle')\"}, {\"id\": 208, \"label\": \"Jerry Maguire\", \"group\": \"Movie\", \"title\": \"Node('Movie', released=2000, tagline='The rest of his life begins now.', title='Jerry Maguire')\"}, {\"id\": 175, \"label\": \"Hugo Weaving\", \"group\": \"Person\", \"title\": \"Node('Person', born=1960, name='Hugo Weaving')\"}, {\"id\": 287, \"label\": \"V for Vendetta\", \"group\": \"Movie\", \"title\": \"Node('Movie', released=2006, tagline='Freedom! Forever!', title='V for Vendetta')\"}, {\"id\": 276, \"label\": \"Cloud Atlas\", \"group\": \"Movie\", \"title\": \"Node('Movie', released=2012, tagline='Everything is connected', title='Cloud Atlas')\"}, {\"id\": 578, \"label\": \"\", \"group\": \"Drink\", \"title\": \"Node('Drink', calories=9000, name='Mountain Dew')\"}, {\"id\": 337, \"label\": \"Penny Marshall\", \"group\": \"Person\", \"title\": \"Node('Person', born=1943, name='Penny Marshall')\"}, {\"id\": 333, \"label\": \"A League of Their Own\", \"group\": \"Movie\", \"title\": \"Node('Movie', released=1992, tagline='Once in a lifetime you get a chance to do something different.', title='A League of Their Own')\"}, {\"id\": 345, \"label\": \"\", \"group\": \"Manufacturer\", \"title\": \"Node('Manufacturer', name='Pepsi')\"}, {\"id\": 392, \"label\": \"\", \"group\": \"Drink\", \"title\": \"Node('Drink', calories=0, name='Coke Zero')\"}, {\"id\": 13, \"label\": \"Al Pacino\", \"group\": \"Person\", \"title\": \"Node('Person', born=1940, name='Al Pacino')\"}, {\"id\": 11, \"label\": \"The Devil's Advocate\", \"group\": \"Movie\", \"title\": \"Node('Movie', released=1997, tagline='Evil has its winning ways', title=\\\"The Devil's Advocate\\\")\"}, {\"id\": 319, \"label\": \"Philip Seymour Hoffman\", \"group\": \"Person\", \"title\": \"Node('Person', born=1967, name='Philip Seymour Hoffman')\"}, {\"id\": 318, \"label\": \"Twister\", \"group\": \"Movie\", \"title\": \"Node('Movie', released=1996, tagline=\\\"Don't Breathe. Don't Look Back.\\\", title='Twister')\"}, {\"id\": 330, \"label\": \"Charlie Wilson's War\", \"group\": \"Movie\", \"title\": \"Node('Movie', released=2007, tagline=\\\"A stiff drink. A little mascara. A lot of nerve. Who said they couldn't bring down the Soviet empire.\\\", title=\\\"Charlie Wilson's War\\\")\"}, {\"id\": 218, \"label\": \"River Phoenix\", \"group\": \"Person\", \"title\": \"Node('Person', born=1970, name='River Phoenix')\"}, {\"id\": 217, \"label\": \"Stand By Me\", \"group\": \"Movie\", \"title\": \"Node('Movie', released=1986, tagline=\\\"For some, it's the last real taste of innocence, and the first real taste of life. But for everyone, it's the time that memories are made of.\\\", title='Stand By Me')\"}, {\"id\": 523, \"label\": \"Drew\", \"group\": \"Person\", \"title\": \"Node('Person', age=20, name='Drew')\"}, {\"id\": 466, \"label\": \"\", \"group\": \"Manufacturer\", \"title\": \"Node('Manufacturer', name='Coca Cola')\"}, {\"id\": 71, \"label\": \"Tom Hanks\", \"group\": \"Person\", \"title\": \"Node('Person', born=1956, name='Tom Hanks')\"}, {\"id\": 144, \"label\": \"Apollo 13\", \"group\": \"Movie\", \"title\": \"Node('Movie', released=1995, tagline='Houston, we have a problem.', title='Apollo 13')\"}, {\"id\": 67, \"label\": \"You've Got Mail\", \"group\": \"Movie\", \"title\": \"Node('Movie', released=1998, tagline='At odds in life... in love on-line.', title=\\\"You've Got Mail\\\")\"}, {\"id\": 162, \"label\": \"A League of Their Own\", \"group\": \"Movie\", \"title\": \"Node('Movie', released=1992, tagline='Once in a lifetime you get a chance to do something different.', title='A League of Their Own')\"}, {\"id\": 78, \"label\": \"Joe Versus the Volcano\", \"group\": \"Movie\", \"title\": \"Node('Movie', released=1990, tagline='A story of love, lava and burning desire.', title='Joe Versus the Volcano')\"}, {\"id\": 85, \"label\": \"That Thing You Do\", \"group\": \"Movie\", \"title\": \"Node('Movie', released=1996, tagline='In every life there comes a time when that thing you dream becomes that thing you do', title='That Thing You Do')\"}, {\"id\": 111, \"label\": \"The Da Vinci Code\", \"group\": \"Movie\", \"title\": \"Node('Movie', released=2006, tagline='Break The Codes', title='The Da Vinci Code')\"}, {\"id\": 105, \"label\": \"Cloud Atlas\", \"group\": \"Movie\", \"title\": \"Node('Movie', released=2012, tagline='Everything is connected', title='Cloud Atlas')\"}, {\"id\": 150, \"label\": \"Cast Away\", \"group\": \"Movie\", \"title\": \"Node('Movie', released=2000, tagline='At the edge of the world, his journey begins.', title='Cast Away')\"}, {\"id\": 130, \"label\": \"The Green Mile\", \"group\": \"Movie\", \"title\": \"Node('Movie', released=1999, tagline=\\\"Walk a mile you'll never forget.\\\", title='The Green Mile')\"}, {\"id\": 161, \"label\": \"The Polar Express\", \"group\": \"Movie\", \"title\": \"Node('Movie', released=2004, tagline='This Holiday Season... Believe', title='The Polar Express')\"}, {\"id\": 159, \"label\": \"Charlie Wilson's War\", \"group\": \"Movie\", \"title\": \"Node('Movie', released=2007, tagline=\\\"A stiff drink. A little mascara. A lot of nerve. Who said they couldn't bring down the Soviet empire.\\\", title=\\\"Charlie Wilson's War\\\")\"}, {\"id\": 131, \"label\": \"Michael Clarke Duncan\", \"group\": \"Person\", \"title\": \"Node('Person', born=1957, name='Michael Clarke Duncan')\"}, {\"id\": 580, \"label\": \"\", \"group\": \"Manufacturer\", \"title\": \"Node('Manufacturer', name='Coca Cola')\"}, {\"id\": 498, \"label\": \"Drew\", \"group\": \"Person\", \"title\": \"Node('Person', age=20, name='Drew')\"}, {\"id\": 140, \"label\": \"Oliver Platt\", \"group\": \"Person\", \"title\": \"Node('Person', born=1960, name='Oliver Platt')\"}, {\"id\": 137, \"label\": \"Frost/Nixon\", \"group\": \"Movie\", \"title\": \"Node('Movie', released=2008, tagline='400 million people were waiting for the truth.', title='Frost/Nixon')\"}, {\"id\": 157, \"label\": \"Bicentennial Man\", \"group\": \"Movie\", \"title\": \"Node('Movie', released=1999, tagline=\\\"One robot's 200 year journey to become an ordinary man.\\\", title='Bicentennial Man')\"}, {\"id\": 1, \"label\": \"Keanu Reeves\", \"group\": \"Person\", \"title\": \"Node('Person', born=1964, name='Keanu Reeves')\"}, {\"id\": 154, \"label\": \"Something's Gotta Give\", \"group\": \"Movie\", \"title\": \"Node('Movie', released=2003, title=\\\"Something's Gotta Give\\\")\"}, {\"id\": 87, \"label\": \"The Replacements\", \"group\": \"Movie\", \"title\": \"Node('Movie', released=2000, tagline='Pain heals, Chicks dig scars... Glory lasts forever', title='The Replacements')\"}, {\"id\": 100, \"label\": \"Johnny Mnemonic\", \"group\": \"Movie\", \"title\": \"Node('Movie', released=1995, tagline='The hottest data on earth. In the coolest head in town', title='Johnny Mnemonic')\"}, {\"id\": 10, \"label\": \"The Matrix Revolutions\", \"group\": \"Movie\", \"title\": \"Node('Movie', released=2003, tagline='Everything that has a beginning has an end', title='The Matrix Revolutions')\"}, {\"id\": 9, \"label\": \"The Matrix Reloaded\", \"group\": \"Movie\", \"title\": \"Node('Movie', released=2003, tagline='Free your mind', title='The Matrix Reloaded')\"}, {\"id\": 0, \"label\": \"The Matrix\", \"group\": \"Movie\", \"title\": \"Node('Movie', released=1999, tagline='Welcome to the Real World', title='The Matrix')\"}, {\"id\": 558, \"label\": \"Nicole\", \"group\": \"Person\", \"title\": \"Node('Person', age=24, name='Nicole')\"}, {\"id\": 339, \"label\": \"Angela Scope\", \"group\": \"Person\", \"title\": \"Node('Person', name='Angela Scope')\"}, {\"id\": 258, \"label\": \"The Replacements\", \"group\": \"Movie\", \"title\": \"Node('Movie', released=2000, tagline='Pain heals, Chicks dig scars... Glory lasts forever', title='The Replacements')\"}, {\"id\": 340, \"label\": \"Jessica Thompson\", \"group\": \"Person\", \"title\": \"Node('Person', name='Jessica Thompson')\"}, {\"id\": 380, \"label\": \"\", \"group\": \"Drink\", \"title\": \"Node('Drink', calories=0, name='Coke Zero')\"}, {\"id\": 418, \"label\": \"Nicole\", \"group\": \"Person\", \"title\": \"Node('Person', age=24, name='Nicole')\"}, {\"id\": 146, \"label\": \"Bill Paxton\", \"group\": \"Person\", \"title\": \"Node('Person', born=1955, name='Bill Paxton')\"}, {\"id\": 147, \"label\": \"Twister\", \"group\": \"Movie\", \"title\": \"Node('Movie', released=1996, tagline=\\\"Don't Breathe. Don't Look Back.\\\", title='Twister')\"}, {\"id\": 391, \"label\": \"Drew\", \"group\": \"Person\", \"title\": \"Node('Person', age=20, name='Drew')\"}, {\"id\": 143, \"label\": \"John C. Reilly\", \"group\": \"Person\", \"title\": \"Node('Person', born=1965, name='John C. Reilly')\"}, {\"id\": 141, \"label\": \"Hoffa\", \"group\": \"Movie\", \"title\": \"Node('Movie', released=1992, tagline=\\\"He didn't want law. He wanted justice.\\\", title='Hoffa')\"}, {\"id\": 557, \"label\": \"\", \"group\": \"Manufacturer\", \"title\": \"Node('Manufacturer', name='Pepsi')\"}, {\"id\": 222, \"label\": \"Marshall Bell\", \"group\": \"Person\", \"title\": \"Node('Person', born=1942, name='Marshall Bell')\"}, {\"id\": 263, \"label\": \"RescueDawn\", \"group\": \"Movie\", \"title\": \"Node('Movie', released=2006, tagline=\\\"Based on the extraordinary true story of one man's fight for freedom\\\", title='RescueDawn')\"}, {\"id\": 275, \"label\": \"Robert Longo\", \"group\": \"Person\", \"title\": \"Node('Person', born=1953, name='Robert Longo')\"}, {\"id\": 271, \"label\": \"Johnny Mnemonic\", \"group\": \"Movie\", \"title\": \"Node('Movie', released=1995, tagline='The hottest data on earth. In the coolest head in town', title='Johnny Mnemonic')\"}, {\"id\": 182, \"label\": \"The Devil's Advocate\", \"group\": \"Movie\", \"title\": \"Node('Movie', released=1997, tagline='Evil has its winning ways', title=\\\"The Devil's Advocate\\\")\"}, {\"id\": 455, \"label\": \"\", \"group\": \"Manufacturer\", \"title\": \"Node('Manufacturer', name='Pepsi')\"}, {\"id\": 292, \"label\": \"Speed Racer\", \"group\": \"Movie\", \"title\": \"Node('Movie', released=2008, tagline='Speed has no limits', title='Speed Racer')\"}, {\"id\": 163, \"label\": \"Madonna\", \"group\": \"Person\", \"title\": \"Node('Person', born=1954, name='Madonna')\"}, {\"id\": 253, \"label\": \"Billy Crystal\", \"group\": \"Person\", \"title\": \"Node('Person', born=1948, name='Billy Crystal')\"}, {\"id\": 252, \"label\": \"When Harry Met Sally\", \"group\": \"Movie\", \"title\": \"Node('Movie', released=1998, tagline='Can two friends sleep together and still love each other in the morning?', title='When Harry Met Sally')\"}, {\"id\": 80, \"label\": \"Nathan Lane\", \"group\": \"Person\", \"title\": \"Node('Person', born=1956, name='Nathan Lane')\"}, {\"id\": 95, \"label\": \"The Birdcage\", \"group\": \"Movie\", \"title\": \"Node('Movie', released=1996, tagline='Come as you are', title='The Birdcage')\"}, {\"id\": 200, \"label\": \"Top Gun\", \"group\": \"Movie\", \"title\": \"Node('Movie', released=1986, tagline='I feel the need, the need for speed.', title='Top Gun')\"}, {\"id\": 393, \"label\": \"\", \"group\": \"Drink\", \"title\": \"Node('Drink', calories=9000, name='Mountain Dew')\"}, {\"id\": 414, \"label\": \"\", \"group\": \"Drink\", \"title\": \"Node('Drink', calories=9000, name='Mountain Dew')\"}, {\"id\": 479, \"label\": \"\", \"group\": \"Manufacturer\", \"title\": \"Node('Manufacturer', name='Pepsi')\"}, {\"id\": 240, \"label\": \"Dave Chappelle\", \"group\": \"Person\", \"title\": \"Node('Person', born=1973, name='Dave Chappelle')\"}, {\"id\": 238, \"label\": \"You've Got Mail\", \"group\": \"Movie\", \"title\": \"Node('Movie', released=1998, tagline='At odds in life... in love on-line.', title=\\\"You've Got Mail\\\")\"}, {\"id\": 267, \"label\": \"Mike Nichols\", \"group\": \"Person\", \"title\": \"Node('Person', born=1931, name='Mike Nichols')\"}, {\"id\": 266, \"label\": \"The Birdcage\", \"group\": \"Movie\", \"title\": \"Node('Movie', released=1996, tagline='Come as you are', title='The Birdcage')\"}, {\"id\": 457, \"label\": \"Nicole\", \"group\": \"Person\", \"title\": \"Node('Person', age=24, name='Nicole')\"}, {\"id\": 104, \"label\": \"Robert Longo\", \"group\": \"Person\", \"title\": \"Node('Person', born=1953, name='Robert Longo')\"}, {\"id\": 500, \"label\": \"\", \"group\": \"Drink\", \"title\": \"Node('Drink', calories=9000, name='Mountain Dew')\"}, {\"id\": 449, \"label\": \"Nicole\", \"group\": \"Person\", \"title\": \"Node('Person', age=24, name='Nicole')\"}, {\"id\": 527, \"label\": \"\", \"group\": \"Manufacturer\", \"title\": \"Node('Manufacturer', name='Pepsi')\"}, {\"id\": 412, \"label\": \"\", \"group\": \"Manufacturer\", \"title\": \"Node('Manufacturer', name='Coca Cola')\"}, {\"id\": 561, \"label\": \"\", \"group\": \"Manufacturer\", \"title\": \"Node('Manufacturer', name='Pepsi')\"}, {\"id\": 586, \"label\": \"\", \"group\": \"Drink\", \"title\": \"Node('Drink', calories=0, name='Coke Zero')\"}, {\"id\": 169, \"label\": \"Jessica Thompson\", \"group\": \"Person\", \"title\": \"Node('Person', name='Jessica Thompson')\"}, {\"id\": 37, \"label\": \"Jerry Maguire\", \"group\": \"Movie\", \"title\": \"Node('Movie', released=2000, tagline='The rest of his life begins now.', title='Jerry Maguire')\"}, {\"id\": 97, \"label\": \"Unforgiven\", \"group\": \"Movie\", \"title\": \"Node('Movie', released=1992, tagline=\\\"It's a hell of a thing, killing a man\\\", title='Unforgiven')\"}, {\"id\": 377, \"label\": \"\", \"group\": \"Manufacturer\", \"title\": \"Node('Manufacturer', name='Pepsi')\"}, {\"id\": 55, \"label\": \"James L. Brooks\", \"group\": \"Person\", \"title\": \"Node('Person', born=1940, name='James L. Brooks')\"}, {\"id\": 52, \"label\": \"As Good as It Gets\", \"group\": \"Movie\", \"title\": \"Node('Movie', released=1997, tagline='A comedy from the heart that goes for the throat.', title='As Good as It Gets')\"}, {\"id\": 242, \"label\": \"Tom Hanks\", \"group\": \"Person\", \"title\": \"Node('Person', born=1956, name='Tom Hanks')\"}, {\"id\": 332, \"label\": \"The Polar Express\", \"group\": \"Movie\", \"title\": \"Node('Movie', released=2004, tagline='This Holiday Season... Believe', title='The Polar Express')\"}, {\"id\": 282, \"label\": \"The Da Vinci Code\", \"group\": \"Movie\", \"title\": \"Node('Movie', released=2006, tagline='Break The Codes', title='The Da Vinci Code')\"}, {\"id\": 315, \"label\": \"Apollo 13\", \"group\": \"Movie\", \"title\": \"Node('Movie', released=1995, tagline='Houston, we have a problem.', title='Apollo 13')\"}, {\"id\": 249, \"label\": \"Joe Versus the Volcano\", \"group\": \"Movie\", \"title\": \"Node('Movie', released=1990, tagline='A story of love, lava and burning desire.', title='Joe Versus the Volcano')\"}, {\"id\": 301, \"label\": \"The Green Mile\", \"group\": \"Movie\", \"title\": \"Node('Movie', released=1999, tagline=\\\"Walk a mile you'll never forget.\\\", title='The Green Mile')\"}, {\"id\": 321, \"label\": \"Cast Away\", \"group\": \"Movie\", \"title\": \"Node('Movie', released=2000, tagline='At the edge of the world, his journey begins.', title='Cast Away')\"}, {\"id\": 244, \"label\": \"Sleepless in Seattle\", \"group\": \"Movie\", \"title\": \"Node('Movie', released=1993, tagline='What if someone you never met, someone you never saw, someone you never knew was the only someone for you?', title='Sleepless in Seattle')\"}, {\"id\": 583, \"label\": \"Nicole\", \"group\": \"Person\", \"title\": \"Node('Person', age=24, name='Nicole')\"}, {\"id\": 178, \"label\": \"Joel Silver\", \"group\": \"Person\", \"title\": \"Node('Person', born=1952, name='Joel Silver')\"}, {\"id\": 299, \"label\": \"Ninja Assassin\", \"group\": \"Movie\", \"title\": \"Node('Movie', released=2009, tagline='Prepare to enter a secret world of assassins', title='Ninja Assassin')\"}, {\"id\": 91, \"label\": \"Howard Deutch\", \"group\": \"Person\", \"title\": \"Node('Person', born=1950, name='Howard Deutch')\"}, {\"id\": 79, \"label\": \"John Patrick Stanley\", \"group\": \"Person\", \"title\": \"Node('Person', born=1950, name='John Patrick Stanley')\"}, {\"id\": 56, \"label\": \"What Dreams May Come\", \"group\": \"Movie\", \"title\": \"Node('Movie', released=1998, tagline='After life there is more. The end is just the beginning.', title='What Dreams May Come')\"}, {\"id\": 113, \"label\": \"Audrey Tautou\", \"group\": \"Person\", \"title\": \"Node('Person', born=1976, name='Audrey Tautou')\"}, {\"id\": 452, \"label\": \"\", \"group\": \"Drink\", \"title\": \"Node('Drink', calories=9000, name='Mountain Dew')\"}, {\"id\": 329, \"label\": \"Chris Columbus\", \"group\": \"Person\", \"title\": \"Node('Person', born=1958, name='Chris Columbus')\"}, {\"id\": 328, \"label\": \"Bicentennial Man\", \"group\": \"Movie\", \"title\": \"Node('Movie', released=1999, tagline=\\\"One robot's 200 year journey to become an ordinary man.\\\", title='Bicentennial Man')\"}, {\"id\": 135, \"label\": \"Patricia Clarkson\", \"group\": \"Person\", \"title\": \"Node('Person', born=1959, name='Patricia Clarkson')\"}, {\"id\": 152, \"label\": \"One Flew Over the Cuckoo's Nest\", \"group\": \"Movie\", \"title\": \"Node('Movie', released=1975, tagline=\\\"If he's crazy, what does that make you?\\\", title=\\\"One Flew Over the Cuckoo's Nest\\\")\"}, {\"id\": 509, \"label\": \"\", \"group\": \"Drink\", \"title\": \"Node('Drink', calories=9000, name='Mountain Dew')\"}, {\"id\": 243, \"label\": \"Nora Ephron\", \"group\": \"Person\", \"title\": \"Node('Person', born=1941, name='Nora Ephron')\"}, {\"id\": 349, \"label\": \"Drew\", \"group\": \"Person\", \"title\": \"Node('Person', age=20, name='Drew')\"}, {\"id\": 289, \"label\": \"Stephen Rea\", \"group\": \"Person\", \"title\": \"Node('Person', born=1946, name='Stephen Rea')\"}, {\"id\": 496, \"label\": \"\", \"group\": \"Manufacturer\", \"title\": \"Node('Manufacturer', name='Coca Cola')\"}, {\"id\": 232, \"label\": \"Vincent Ward\", \"group\": \"Person\", \"title\": \"Node('Person', born=1956, name='Vincent Ward')\"}, {\"id\": 227, \"label\": \"What Dreams May Come\", \"group\": \"Movie\", \"title\": \"Node('Movie', released=1998, tagline='After life there is more. The end is just the beginning.', title='What Dreams May Come')\"}, {\"id\": 519, \"label\": \"\", \"group\": \"Manufacturer\", \"title\": \"Node('Manufacturer', name='Pepsi')\"}, {\"id\": 3, \"label\": \"Laurence Fishburne\", \"group\": \"Person\", \"title\": \"Node('Person', born=1961, name='Laurence Fishburne')\"}, {\"id\": 472, \"label\": \"\", \"group\": \"Manufacturer\", \"title\": \"Node('Manufacturer', name='Coca Cola')\"}, {\"id\": 335, \"label\": \"Geena Davis\", \"group\": \"Person\", \"title\": \"Node('Person', born=1956, name='Geena Davis')\"}, {\"id\": 489, \"label\": \"\", \"group\": \"Drink\", \"title\": \"Node('Drink', calories=9000, name='Mountain Dew')\"}, {\"id\": 206, \"label\": \"Tony Scott\", \"group\": \"Person\", \"title\": \"Node('Person', born=1944, name='Tony Scott')\"}, {\"id\": 463, \"label\": \"Drew\", \"group\": \"Person\", \"title\": \"Node('Person', age=20, name='Drew')\"}, {\"id\": 196, \"label\": \"James Marshall\", \"group\": \"Person\", \"title\": \"Node('Person', born=1967, name='James Marshall')\"}, {\"id\": 186, \"label\": \"A Few Good Men\", \"group\": \"Movie\", \"title\": \"Node('Movie', released=1992, tagline=\\\"In the heart of the nation's capital, in a courthouse of the U.S. government, one man will stop at nothing to keep his honor, and one will stop at nothing to find the truth.\\\", title='A Few Good Men')\"}, {\"id\": 378, \"label\": \"Nicole\", \"group\": \"Person\", \"title\": \"Node('Person', age=24, name='Nicole')\"}, {\"id\": 359, \"label\": \"Drew\", \"group\": \"Person\", \"title\": \"Node('Person', age=20, name='Drew')\"}, {\"id\": 507, \"label\": \"\", \"group\": \"Manufacturer\", \"title\": \"Node('Manufacturer', name='Pepsi')\"}, {\"id\": 432, \"label\": \"Nicole\", \"group\": \"Person\", \"title\": \"Node('Person', age=24, name='Nicole')\"}, {\"id\": 360, \"label\": \"\", \"group\": \"Drink\", \"title\": \"Node('Drink', calories=9000, name='Mountain Dew')\"}, {\"id\": 565, \"label\": \"Drew\", \"group\": \"Person\", \"title\": \"Node('Person', age=20, name='Drew')\"}, {\"id\": 316, \"label\": \"Ed Harris\", \"group\": \"Person\", \"title\": \"Node('Person', born=1950, name='Ed Harris')\"}, {\"id\": 373, \"label\": \"Nicole\", \"group\": \"Person\", \"title\": \"Node('Person', age=24, name='Nicole')\"}, {\"id\": 124, \"label\": \"Susan Sarandon\", \"group\": \"Person\", \"title\": \"Node('Person', born=1946, name='Susan Sarandon')\"}, {\"id\": 121, \"label\": \"Speed Racer\", \"group\": \"Movie\", \"title\": \"Node('Movie', released=2008, tagline='Speed has no limits', title='Speed Racer')\"}, {\"id\": 281, \"label\": \"Stefan Arndt\", \"group\": \"Person\", \"title\": \"Node('Person', born=1961, name='Stefan Arndt')\"}, {\"id\": 352, \"label\": \"\", \"group\": \"Drink\", \"title\": \"Node('Drink', calories=0, name='Coke Zero')\"}, {\"id\": 255, \"label\": \"Bruno Kirby\", \"group\": \"Person\", \"title\": \"Node('Person', born=1949, name='Bruno Kirby')\"}, {\"id\": 43, \"label\": \"Regina King\", \"group\": \"Person\", \"title\": \"Node('Person', born=1971, name='Regina King')\"}, {\"id\": 145, \"label\": \"Ed Harris\", \"group\": \"Person\", \"title\": \"Node('Person', born=1950, name='Ed Harris')\"}, {\"id\": 61, \"label\": \"Vincent Ward\", \"group\": \"Person\", \"title\": \"Node('Person', born=1956, name='Vincent Ward')\"}];\n",
       "    var edges = [{\"from\": 257, \"to\": 256, \"label\": \"ACTED_IN\"}, {\"from\": 173, \"to\": 180, \"label\": \"ACTED_IN\"}, {\"from\": 173, \"to\": 171, \"label\": \"ACTED_IN\"}, {\"from\": 173, \"to\": 181, \"label\": \"ACTED_IN\"}, {\"from\": 75, \"to\": 73, \"label\": \"ACTED_IN\"}, {\"from\": 175, \"to\": 287, \"label\": \"ACTED_IN\"}, {\"from\": 175, \"to\": 181, \"label\": \"ACTED_IN\"}, {\"from\": 175, \"to\": 180, \"label\": \"ACTED_IN\"}, {\"from\": 175, \"to\": 171, \"label\": \"ACTED_IN\"}, {\"from\": 175, \"to\": 276, \"label\": \"ACTED_IN\"}, {\"from\": 337, \"to\": 333, \"label\": \"DIRECTED\"}, {\"from\": 13, \"to\": 11, \"label\": \"ACTED_IN\"}, {\"from\": 319, \"to\": 318, \"label\": \"ACTED_IN\"}, {\"from\": 319, \"to\": 330, \"label\": \"ACTED_IN\"}, {\"from\": 218, \"to\": 217, \"label\": \"ACTED_IN\"}, {\"from\": 71, \"to\": 144, \"label\": \"ACTED_IN\"}, {\"from\": 71, \"to\": 67, \"label\": \"ACTED_IN\"}, {\"from\": 71, \"to\": 162, \"label\": \"ACTED_IN\"}, {\"from\": 71, \"to\": 78, \"label\": \"ACTED_IN\"}, {\"from\": 71, \"to\": 85, \"label\": \"ACTED_IN\"}, {\"from\": 71, \"to\": 111, \"label\": \"ACTED_IN\"}, {\"from\": 71, \"to\": 105, \"label\": \"ACTED_IN\"}, {\"from\": 71, \"to\": 150, \"label\": \"ACTED_IN\"}, {\"from\": 71, \"to\": 130, \"label\": \"ACTED_IN\"}, {\"from\": 71, \"to\": 73, \"label\": \"ACTED_IN\"}, {\"from\": 71, \"to\": 161, \"label\": \"ACTED_IN\"}, {\"from\": 71, \"to\": 159, \"label\": \"ACTED_IN\"}, {\"from\": 71, \"to\": 85, \"label\": \"DIRECTED\"}, {\"from\": 131, \"to\": 130, \"label\": \"ACTED_IN\"}, {\"from\": 140, \"to\": 137, \"label\": \"ACTED_IN\"}, {\"from\": 140, \"to\": 157, \"label\": \"ACTED_IN\"}, {\"from\": 1, \"to\": 154, \"label\": \"ACTED_IN\"}, {\"from\": 1, \"to\": 87, \"label\": \"ACTED_IN\"}, {\"from\": 1, \"to\": 100, \"label\": \"ACTED_IN\"}, {\"from\": 1, \"to\": 11, \"label\": \"ACTED_IN\"}, {\"from\": 1, \"to\": 10, \"label\": \"ACTED_IN\"}, {\"from\": 1, \"to\": 9, \"label\": \"ACTED_IN\"}, {\"from\": 1, \"to\": 0, \"label\": \"ACTED_IN\"}, {\"from\": 339, \"to\": 258, \"label\": \"REVIEWED\"}, {\"from\": 339, \"to\": 340, \"label\": \"FOLLOWS\"}, {\"from\": 146, \"to\": 147, \"label\": \"ACTED_IN\"}, {\"from\": 146, \"to\": 162, \"label\": \"ACTED_IN\"}, {\"from\": 146, \"to\": 144, \"label\": \"ACTED_IN\"}, {\"from\": 143, \"to\": 141, \"label\": \"ACTED_IN\"}, {\"from\": 222, \"to\": 217, \"label\": \"ACTED_IN\"}, {\"from\": 222, \"to\": 263, \"label\": \"ACTED_IN\"}, {\"from\": 275, \"to\": 271, \"label\": \"DIRECTED\"}, {\"from\": 163, \"to\": 162, \"label\": \"ACTED_IN\"}, {\"from\": 253, \"to\": 252, \"label\": \"ACTED_IN\"}, {\"from\": 80, \"to\": 78, \"label\": \"ACTED_IN\"}, {\"from\": 80, \"to\": 95, \"label\": \"ACTED_IN\"}, {\"from\": 240, \"to\": 238, \"label\": \"ACTED_IN\"}, {\"from\": 267, \"to\": 330, \"label\": \"DIRECTED\"}, {\"from\": 267, \"to\": 266, \"label\": \"DIRECTED\"}, {\"from\": 104, \"to\": 100, \"label\": \"DIRECTED\"}, {\"from\": 169, \"to\": 111, \"label\": \"REVIEWED\"}, {\"from\": 169, \"to\": 87, \"label\": \"REVIEWED\"}, {\"from\": 169, \"to\": 37, \"label\": \"REVIEWED\"}, {\"from\": 169, \"to\": 105, \"label\": \"REVIEWED\"}, {\"from\": 169, \"to\": 95, \"label\": \"REVIEWED\"}, {\"from\": 169, \"to\": 97, \"label\": \"REVIEWED\"}, {\"from\": 55, \"to\": 52, \"label\": \"DIRECTED\"}, {\"from\": 242, \"to\": 238, \"label\": \"ACTED_IN\"}, {\"from\": 242, \"to\": 332, \"label\": \"ACTED_IN\"}, {\"from\": 242, \"to\": 333, \"label\": \"ACTED_IN\"}, {\"from\": 242, \"to\": 282, \"label\": \"ACTED_IN\"}, {\"from\": 242, \"to\": 315, \"label\": \"ACTED_IN\"}, {\"from\": 242, \"to\": 249, \"label\": \"ACTED_IN\"}, {\"from\": 242, \"to\": 301, \"label\": \"ACTED_IN\"}, {\"from\": 242, \"to\": 330, \"label\": \"ACTED_IN\"}, {\"from\": 242, \"to\": 276, \"label\": \"ACTED_IN\"}, {\"from\": 242, \"to\": 321, \"label\": \"ACTED_IN\"}, {\"from\": 242, \"to\": 256, \"label\": \"DIRECTED\"}, {\"from\": 242, \"to\": 256, \"label\": \"ACTED_IN\"}, {\"from\": 242, \"to\": 244, \"label\": \"ACTED_IN\"}, {\"from\": 178, \"to\": 287, \"label\": \"PRODUCED\"}, {\"from\": 178, \"to\": 299, \"label\": \"PRODUCED\"}, {\"from\": 178, \"to\": 181, \"label\": \"PRODUCED\"}, {\"from\": 178, \"to\": 180, \"label\": \"PRODUCED\"}, {\"from\": 178, \"to\": 171, \"label\": \"PRODUCED\"}, {\"from\": 178, \"to\": 292, \"label\": \"PRODUCED\"}, {\"from\": 91, \"to\": 87, \"label\": \"DIRECTED\"}, {\"from\": 79, \"to\": 78, \"label\": \"DIRECTED\"}, {\"from\": 113, \"to\": 111, \"label\": \"ACTED_IN\"}, {\"from\": 329, \"to\": 328, \"label\": \"DIRECTED\"}, {\"from\": 135, \"to\": 130, \"label\": \"ACTED_IN\"}, {\"from\": 243, \"to\": 252, \"label\": \"PRODUCED\"}, {\"from\": 243, \"to\": 244, \"label\": \"DIRECTED\"}, {\"from\": 243, \"to\": 238, \"label\": \"DIRECTED\"}, {\"from\": 243, \"to\": 252, \"label\": \"WROTE\"}, {\"from\": 289, \"to\": 287, \"label\": \"ACTED_IN\"}, {\"from\": 232, \"to\": 227, \"label\": \"DIRECTED\"}, {\"from\": 3, \"to\": 10, \"label\": \"ACTED_IN\"}, {\"from\": 3, \"to\": 9, \"label\": \"ACTED_IN\"}, {\"from\": 3, \"to\": 0, \"label\": \"ACTED_IN\"}, {\"from\": 335, \"to\": 333, \"label\": \"ACTED_IN\"}, {\"from\": 206, \"to\": 200, \"label\": \"DIRECTED\"}, {\"from\": 196, \"to\": 287, \"label\": \"DIRECTED\"}, {\"from\": 196, \"to\": 186, \"label\": \"ACTED_IN\"}, {\"from\": 196, \"to\": 299, \"label\": \"DIRECTED\"}, {\"from\": 316, \"to\": 315, \"label\": \"ACTED_IN\"}, {\"from\": 124, \"to\": 121, \"label\": \"ACTED_IN\"}, {\"from\": 281, \"to\": 276, \"label\": \"PRODUCED\"}, {\"from\": 255, \"to\": 252, \"label\": \"ACTED_IN\"}, {\"from\": 43, \"to\": 37, \"label\": \"ACTED_IN\"}, {\"from\": 145, \"to\": 144, \"label\": \"ACTED_IN\"}, {\"from\": 61, \"to\": 56, \"label\": \"DIRECTED\"}];\n",
       "\n",
       "    var container = document.getElementById(\"0ca3d682-2f99-4f7d-a356-32afd92fac82\");\n",
       "\n",
       "    var data = {\n",
       "        nodes: nodes,\n",
       "        edges: edges\n",
       "    };\n",
       "\n",
       "    var options = {\n",
       "    nodes: {\n",
       "        shape: 'dot',\n",
       "        size: 25,\n",
       "        font: {\n",
       "            size: 14\n",
       "        }\n",
       "    },\n",
       "    edges: {\n",
       "        font: {\n",
       "            size: 14,\n",
       "            align: 'middle'\n",
       "        },\n",
       "        color: 'gray',\n",
       "        arrows: {\n",
       "            to: {\n",
       "                enabled: true,\n",
       "                scaleFactor: 0.5\n",
       "            }\n",
       "        },\n",
       "        smooth: {\n",
       "            enabled: false\n",
       "        }\n",
       "    },\n",
       "    physics: {\n",
       "        enabled: true\n",
       "        }\n",
       "    };\n",
       "\n",
       "    var network = new vis.Network(container, data, options);\n",
       "\n",
       "</script>\n"
      ],
      "text/plain": [
       "<IPython.core.display.HTML object>"
      ]
     },
     "execution_count": 4,
     "metadata": {},
     "output_type": "execute_result"
    }
   ],
   "source": [
    "# Display the movie graph\n",
    "neo4jupyter.init_notebook_mode()\n",
    "options = {\"Movie\": \"title\", \"Person\": \"name\"}\n",
    "draw(graph, options)"
   ]
  },
  {
   "cell_type": "code",
   "execution_count": null,
   "metadata": {},
   "outputs": [],
   "source": []
  }
 ],
 "metadata": {
  "kernelspec": {
   "display_name": "Python 3",
   "language": "python",
   "name": "python3"
  },
  "language_info": {
   "codemirror_mode": {
    "name": "ipython",
    "version": 3
   },
   "file_extension": ".py",
   "mimetype": "text/x-python",
   "name": "python",
   "nbconvert_exporter": "python",
   "pygments_lexer": "ipython3",
   "version": "3.8.5"
  }
 },
 "nbformat": 4,
 "nbformat_minor": 2
}
