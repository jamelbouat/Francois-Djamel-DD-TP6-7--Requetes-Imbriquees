{
 "cells": [
  {
   "cell_type": "markdown",
   "metadata": {},
   "source": [
    "# Les requêtes imbriquées avec Neo4J\n",
    "Ce rapport a pour objectif de montrer l'utilisation des requêtes imbriquées dans le système de gestion de base de donnée Neo4j.\n",
    "Pour pouvoir executer le code présent dans les cellules suivantes il faut avoir neo4j lancé, utiliser un docker est possible avec : \n",
    "\n",
    "``` docker run --publish=7474:7474 --publish=7687:7687 -v $PWD/import:/var/lib/neo4j/import neo4j:4.1.3```\n",
    "\n",
    "\n",
    "Il faut que le fichier small-pubg.csv soit present dans un dossier import a la racine du projet\n",
    "\n",
    "## Un peu de contexte\n",
    "\n",
    "Neo4j est un système de gestion de base de donnée orientée graphe. Ce type de système a la particularité d'utiliser des graphes pour représenter les données et ainsi permettre les formules connus de la théorie des graphes. De plus Neo4j est connu pour sa performance dans la rapidité des requêtes qui sont dans certains cas plus rapide que des simples requêtes SQL.Le langage de requête utilisé par Neo4j est le langage cypher reconnu pour permettre des requêtes clair et simple. \n",
    "\n",
    "Un autre avantage de ce type de base de donnée est la simplicité et la clareté des graphes produits qui peuvent être utilisé simplement par différents domaine métiers par exemple des analyste sans compêtences informatique nécessaire il suffit de regarder les relations entre les noeuds pour pouvoir comprendre facilement le modèle de donnée les relations présente et leurs implication. De plus neo4j permet grâce à son interface facilement maniable de mettre en évidence ou de déplacer certains noeuds, ainsi en clickant que un noeud l'on peut voir ses relations avec les autres et les déplacer pour clarifier la lecture. \n",
    "\n",
    "Les requêtes imbriquées (ou sous requête) permettent de faire une requête sur une requête et donc cibler plus simplement un resultat.\n",
    "En SQL par exemple une requête de ce type ressemble à ça : ```SELECT a FROM b WHERE a IN (SELECT c FROM b) ```\n",
    "A l'aide de la bibliothèque python py2neo nous allons vous montrer comment on peut utiliser ces requêtes. Nous utilisons la verion 4.1.3 de neo4j, en effet les sous requêtes sont assez récente dans le langage et il faut au moins utiliser la version 4.0.0."
   ]
  },
  {
   "cell_type": "markdown",
   "metadata": {},
   "source": [
    "## Installation\n",
    "\n",
    "Nous utiliserons donc les librairies suivantes permettant de faire des requêtes à notre base neo4j depuis jupyter\n",
    "\n",
    "\n",
    "```python pip3 install py2neo ```\n",
    "\n",
    "\n",
    "```python pip3 install neo4jupyter ```\n"
   ]
  },
  {
   "cell_type": "markdown",
   "metadata": {},
   "source": [
    "## Import des données pubg dans un graphe\n",
    "\n",
    "### Connexion à la base neo4j"
   ]
  },
  {
   "cell_type": "code",
   "execution_count": 5,
   "metadata": {
    "scrolled": true
   },
   "outputs": [
    {
     "name": "stdout",
     "output_type": "stream",
     "text": [
      "connect\n"
     ]
    }
   ],
   "source": [
    "from py2neo import *\n",
    "from neo4jupyter import *\n",
    "\n",
    "graph = Graph('http://localhost', auth=('neo4j', 'neo4j*'))\n",
    "print(\"connect\")"
   ]
  },
  {
   "cell_type": "markdown",
   "metadata": {},
   "source": [
    "### Import des données pubg\n",
    "\n",
    "Il faut que $neo4jhome/import/small-pubg sois défini\n",
    "\n",
    "Ici Merge permet de créer des entités à partir du csv chargé nous créons donc trois entitées pour les joueurs les équipes et les matchs (un joueur appartient à une équipe)"
   ]
  },
  {
   "cell_type": "code",
   "execution_count": 6,
   "metadata": {},
   "outputs": [
    {
     "name": "stdout",
     "output_type": "stream",
     "text": [
      "ok\n"
     ]
    }
   ],
   "source": [
    "loadQuery = '''\n",
    "USING PERIODIC COMMIT\n",
    "LOAD CSV WITH HEADERS FROM 'file:///small-pubg.csv' AS pubg\n",
    "WITH pubg\n",
    "WHERE pubg.match_id IS NOT NULL AND pubg.player_name IS NOT NULL\n",
    "MERGE (player:Player{\n",
    "        assists:pubg.player_assists,\n",
    "        name:pubg.player_name,\n",
    "        kills:pubg.player_kills,\n",
    "        surviveTime:pubg.player_survive_time,\n",
    "        dmg:pubg.player_dmg,\n",
    "        dbno:pubg.player_dbno,\n",
    "        distRide:pubg.player_dist_ride,\n",
    "        distWalk:pubg.player_dist_walk\n",
    "        \n",
    "        })\n",
    "MERGE (match:Match{\n",
    "         matchId:pubg.match_id,\n",
    "         matchMode:pubg.match_mode\n",
    "         })\n",
    "MERGE (team:Team{\n",
    "        teamId:pubg.team_id,\n",
    "        teamPlacement:pubg.team_placement\n",
    "        })\n",
    "MERGE (player) -[:belongs_to]-> (team)\n",
    "'''\n",
    "graph.run(loadQuery)\n",
    "print(\"ok\")"
   ]
  },
  {
   "cell_type": "markdown",
   "metadata": {},
   "source": [
    "### Visualisation du graphe \n",
    "\n",
    "Cette cellule permet d'avoir un aperçu visuel du graphe produit, pour créer cette aperçu nous utilisons le script vis.py que nous avons importé dans notre dépot git depuis : https://github.com/nicolewhite/neo4j-jupyter/blob/master/scripts/vis.py"
   ]
  },
  {
   "cell_type": "code",
   "execution_count": 7,
   "metadata": {},
   "outputs": [
    {
     "data": {
      "application/javascript": [
       "var link = document.createElement(\"link\");\n",
       "\tlink.ref = \"stylesheet\";\n",
       "\tlink.type = \"text/css\";\n",
       "\tlink.href = \"https://cdnjs.cloudflare.com/ajax/libs/vis/4.8.2/vis.css\";\n",
       "\tdocument.head.appendChild(link);\n",
       "require.config({     paths: {         vis: '//cdnjs.cloudflare.com/ajax/libs/vis/4.8.2/vis.min'     } }); require(['vis'], function(vis) {  window.vis = vis; }); "
      ],
      "text/plain": [
       "<IPython.core.display.Javascript object>"
      ]
     },
     "metadata": {},
     "output_type": "display_data"
    },
    {
     "data": {
      "text/html": [
       "<div id=\"dfa8c3d5-01e0-4204-8169-e2acb9860d12\" style=\"height: 400px;\"></div>\n",
       "\n",
       "<script type=\"text/javascript\">\n",
       "\n",
       "    var nodes = [{\"id\": 45, \"label\": \"FumaKT\", \"group\": \"Player\", \"title\": \"Node('Player', assists='0', dbno='0', distRide='2306.78271', distWalk='1956.6264600000002', dmg='55', kills='1', name='FumaKT', surviveTime='1573.84')\"}, {\"id\": 44, \"label\": \"39\", \"group\": \"Team\", \"title\": \"Node('Team', teamId='39', teamPlacement='9')\"}, {\"id\": 8, \"label\": \"14\", \"group\": \"Team\", \"title\": \"Node('Team', teamId='14', teamPlacement='11')\"}, {\"id\": 92, \"label\": \"20\", \"group\": \"Team\", \"title\": \"Node('Team', teamId='20', teamPlacement='36')\"}, {\"id\": 20, \"label\": \"24\", \"group\": \"Team\", \"title\": \"Node('Team', teamId='24', teamPlacement='34')\"}, {\"id\": 117, \"label\": \"3\", \"group\": \"Team\", \"title\": \"Node('Team', teamId='3', teamPlacement='10')\"}, {\"id\": 16, \"label\": \"MatthiasXIV\", \"group\": \"Player\", \"title\": \"Node('Player', assists='0', dbno='1', distRide='2406.55469', distWalk='3100.02124', dmg='54', kills='1', name='MatthiasXIV', surviveTime='1939.846')\"}, {\"id\": 17, \"label\": \"22\", \"group\": \"Team\", \"title\": \"Node('Team', teamId='22', teamPlacement='4')\"}, {\"id\": 122, \"label\": \"sapoww\", \"group\": \"Player\", \"title\": \"Node('Player', assists='0', dbno='0', distRide='0.0', distWalk='220.85876499999998', dmg='103', kills='0', name='sapoww', surviveTime='193.418')\"}, {\"id\": 123, \"label\": \"9\", \"group\": \"Team\", \"title\": \"Node('Team', teamId='9', teamPlacement='38')\"}, {\"id\": 98, \"label\": \"35\", \"group\": \"Team\", \"title\": \"Node('Team', teamId='35', teamPlacement='15')\"}, {\"id\": 68, \"label\": \"23\", \"group\": \"Team\", \"title\": \"Node('Team', teamId='23', teamPlacement='29')\"}, {\"id\": 70, \"label\": \"captainterrenc3\", \"group\": \"Player\", \"title\": \"Node('Player', assists='0', dbno='0', distRide='1822.5284399999998', distWalk='2282.25879', dmg='10', kills='1', name='captainterrenc3', surviveTime='1570.2839999999999')\"}, {\"id\": 71, \"label\": \"27\", \"group\": \"Team\", \"title\": \"Node('Team', teamId='27', teamPlacement='10')\"}, {\"id\": 30, \"label\": \"Jerryxp\", \"group\": \"Player\", \"title\": \"Node('Player', assists='0', dbno='1', distRide='0.0', distWalk='1078.95581', dmg='100', kills='1', name='Jerryxp', surviveTime='513.487')\"}, {\"id\": 29, \"label\": \"29\", \"group\": \"Team\", \"title\": \"Node('Team', teamId='29', teamPlacement='20')\"}, {\"id\": 28, \"label\": \"sigbo\", \"group\": \"Player\", \"title\": \"Node('Player', assists='0', dbno='0', distRide='0.0', distWalk='1522.11768', dmg='117', kills='1', name='sigbo', surviveTime='1032.6480000000001')\"}, {\"id\": 3, \"label\": \"Ozon3r\", \"group\": \"Player\", \"title\": \"Node('Player', assists='0', dbno='1', distRide='2938.4072300000003', distWalk='1756.0797100000002', dmg='127', kills='1', name='Ozon3r', surviveTime='1106.315')\"}, {\"id\": 2, \"label\": \"4\", \"group\": \"Team\", \"title\": \"Node('Team', teamId='4', teamPlacement='18')\"}, {\"id\": 12, \"label\": \"Emmylou89\", \"group\": \"Player\", \"title\": \"Node('Player', assists='0', dbno='0', distRide='0.0', distWalk='3237.202', dmg='0', kills='0', name='Emmylou89', surviveTime='1264.795')\"}, {\"id\": 11, \"label\": \"15\", \"group\": \"Team\", \"title\": \"Node('Team', teamId='15', teamPlacement='17')\"}, {\"id\": 129, \"label\": \"12\", \"group\": \"Team\", \"title\": \"Node('Team', teamId='12', teamPlacement='15')\"}, {\"id\": 15, \"label\": \"SoSpicy\", \"group\": \"Player\", \"title\": \"Node('Player', assists='0', dbno='1', distRide='0.0', distWalk='1450.3147', dmg='101', kills='1', name='SoSpicy', surviveTime='868.555')\"}, {\"id\": 14, \"label\": \"17\", \"group\": \"Team\", \"title\": \"Node('Team', teamId='17', teamPlacement='24')\"}, {\"id\": 61, \"label\": \"ThatsOneMadman\", \"group\": \"Player\", \"title\": \"Node('Player', assists='0', dbno='0', distRide='0.0', distWalk='2284.52344', dmg='0', kills='0', name='ThatsOneMadman', surviveTime='1091.307')\"}, {\"id\": 62, \"label\": \"6\", \"group\": \"Team\", \"title\": \"Node('Team', teamId='6', teamPlacement='14')\"}, {\"id\": 85, \"label\": \"ItsPickles\", \"group\": \"Player\", \"title\": \"Node('Player', assists='0', dbno='0', distRide='3005.54443', distWalk='1630.44812', dmg='0', kills='0', name='ItsPickles', surviveTime='1282.22')\"}, {\"id\": 86, \"label\": \"49\", \"group\": \"Team\", \"title\": \"Node('Team', teamId='49', teamPlacement='16')\"}, {\"id\": 146, \"label\": \"CLXbigshuai\", \"group\": \"Player\", \"title\": \"Node('Player', assists='0', dbno='1', distRide='440.622772', distWalk='1504.64221', dmg='173', kills='0', name='CLXbigshuai', surviveTime='877.8489999999999')\"}, {\"id\": 147, \"label\": \"38\", \"group\": \"Team\", \"title\": \"Node('Team', teamId='38', teamPlacement='22')\"}, {\"id\": 138, \"label\": \"27\", \"group\": \"Team\", \"title\": \"Node('Team', teamId='27', teamPlacement='17')\"}, {\"id\": 110, \"label\": \"28\", \"group\": \"Team\", \"title\": \"Node('Team', teamId='28', teamPlacement='21')\"}, {\"id\": 46, \"label\": \"Killertofu1987\", \"group\": \"Player\", \"title\": \"Node('Player', assists='0', dbno='0', distRide='2266.167', distWalk='883.9554', dmg='1', kills='0', name='Killertofu1987', surviveTime='1403.829')\"}, {\"id\": 47, \"label\": \"43\", \"group\": \"Team\", \"title\": \"Node('Team', teamId='43', teamPlacement='12')\"}, {\"id\": 109, \"label\": \"Cinnamon-_\", \"group\": \"Player\", \"title\": \"Node('Player', assists='1', dbno='0', distRide='1359.64771', distWalk='2461.157', dmg='61', kills='0', name='Cinnamon-_', surviveTime='968.965')\"}, {\"id\": 111, \"label\": \"jackomino\", \"group\": \"Player\", \"title\": \"Node('Player', assists='0', dbno='1', distRide='1383.5476099999998', distWalk='2696.691', dmg='63', kills='1', name='jackomino', surviveTime='968.9689999999999')\"}, {\"id\": 32, \"label\": \"32\", \"group\": \"Team\", \"title\": \"Node('Team', teamId='32', teamPlacement='5')\"}, {\"id\": 7, \"label\": \"GeminiZZZ\", \"group\": \"Player\", \"title\": \"Node('Player', assists='0', dbno='0', distRide='2619.07739', distWalk='2510.447', dmg='175', kills='2', name='GeminiZZZ', surviveTime='1537.495')\"}, {\"id\": 115, \"label\": \"krisns\", \"group\": \"Player\", \"title\": \"Node('Player', assists='0', dbno='0', distRide='642.7572', distWalk='1889.3184800000001', dmg='0', kills='0', name='krisns', surviveTime='905.055')\"}, {\"id\": 114, \"label\": \"2\", \"group\": \"Team\", \"title\": \"Node('Team', teamId='2', teamPlacement='21')\"}, {\"id\": 108, \"label\": \"LPL-buibuibui\", \"group\": \"Player\", \"title\": \"Node('Player', assists='0', dbno='2', distRide='3551.8886700000003', distWalk='3390.2614700000004', dmg='350', kills='3', name='LPL-buibuibui', surviveTime='1659.703')\"}, {\"id\": 107, \"label\": \"11\", \"group\": \"Team\", \"title\": \"Node('Team', teamId='11', teamPlacement='8')\"}, {\"id\": 83, \"label\": \"44\", \"group\": \"Team\", \"title\": \"Node('Team', teamId='44', teamPlacement='28')\"}, {\"id\": 124, \"label\": \"Lux-xXx\", \"group\": \"Player\", \"title\": \"Node('Player', assists='0', dbno='1', distRide='0.0', distWalk='236.40416000000002', dmg='63', kills='0', name='Lux-xXx', surviveTime='201.99400000000003')\"}, {\"id\": 79, \"label\": \"ai_ni_de_fei\", \"group\": \"Player\", \"title\": \"Node('Player', assists='0', dbno='0', distRide='0.0', distWalk='70.85792540000001', dmg='0', kills='0', name='ai_ni_de_fei', surviveTime='105.85600000000001')\"}, {\"id\": 80, \"label\": \"42\", \"group\": \"Team\", \"title\": \"Node('Team', teamId='42', teamPlacement='37')\"}, {\"id\": 22, \"label\": \"subzero3\", \"group\": \"Player\", \"title\": \"Node('Player', assists='0', dbno='0', distRide='2418.547', distWalk='2474.08887', dmg='75', kills='1', name='subzero3', surviveTime='2181.815')\"}, {\"id\": 23, \"label\": \"25\", \"group\": \"Team\", \"title\": \"Node('Team', teamId='25', teamPlacement='2')\"}, {\"id\": 81, \"label\": \"YIiyzq-tT\", \"group\": \"Player\", \"title\": \"Node('Player', assists='0', dbno='0', distRide='0.0', distWalk='54.5513077', dmg='0', kills='0', name='YIiyzq-tT', surviveTime='100.381')\"}, {\"id\": 4, \"label\": \"bovize\", \"group\": \"Player\", \"title\": \"Node('Player', assists='0', dbno='0', distRide='0.0', distWalk='224.157562', dmg='67', kills='0', name='bovize', surviveTime='235.558')\"}, {\"id\": 5, \"label\": \"5\", \"group\": \"Team\", \"title\": \"Node('Team', teamId='5', teamPlacement='33')\"}, {\"id\": 126, \"label\": \"10\", \"group\": \"Team\", \"title\": \"Node('Team', teamId='10', teamPlacement='12')\"}, {\"id\": 88, \"label\": \"HeJaDaShao\", \"group\": \"Player\", \"title\": \"Node('Player', assists='0', dbno='1', distRide='0.0', distWalk='113.82559199999999', dmg='88', kills='1', name='HeJaDaShao', surviveTime='162.986')\"}, {\"id\": 89, \"label\": \"19\", \"group\": \"Team\", \"title\": \"Node('Team', teamId='19', teamPlacement='35')\"}, {\"id\": 38, \"label\": \"37\", \"group\": \"Team\", \"title\": \"Node('Team', teamId='37', teamPlacement='31')\"}, {\"id\": 40, \"label\": \"Chefraykwon\", \"group\": \"Player\", \"title\": \"Node('Player', assists='0', dbno='0', distRide='0.0', distWalk='578.5747', dmg='24', kills='0', name='Chefraykwon', surviveTime='558.314')\"}, {\"id\": 41, \"label\": \"38\", \"group\": \"Team\", \"title\": \"Node('Team', teamId='38', teamPlacement='27')\"}, {\"id\": 116, \"label\": \"the49ersguy\", \"group\": \"Player\", \"title\": \"Node('Player', assists='0', dbno='0', distRide='2277.78564', distWalk='2347.7307100000003', dmg='81', kills='0', name='the49ersguy', surviveTime='1352.8229999999999')\"}, {\"id\": 135, \"label\": \"23\", \"group\": \"Team\", \"title\": \"Node('Team', teamId='23', teamPlacement='36')\"}, {\"id\": 66, \"label\": \"Reboke\", \"group\": \"Player\", \"title\": \"Node('Player', assists='0', dbno='0', distRide='3298.972', distWalk='1350.4428699999999', dmg='100', kills='1', name='Reboke', surviveTime='1750.842')\"}, {\"id\": 65, \"label\": \"18\", \"group\": \"Team\", \"title\": \"Node('Team', teamId='18', teamPlacement='6')\"}, {\"id\": 37, \"label\": \"JoeyGames123\", \"group\": \"Player\", \"title\": \"Node('Player', assists='0', dbno='0', distRide='0.0', distWalk='444.7796', dmg='0', kills='0', name='JoeyGames123', surviveTime='336.43300000000005')\"}, {\"id\": 53, \"label\": \"48\", \"group\": \"Team\", \"title\": \"Node('Team', teamId='48', teamPlacement='22')\"}, {\"id\": 48, \"label\": \"Sircool\", \"group\": \"Player\", \"title\": \"Node('Player', assists='0', dbno='0', distRide='1539.77234', distWalk='1518.9832800000001', dmg='46', kills='0', name='Sircool', surviveTime='1403.8239999999998')\"}, {\"id\": 105, \"label\": \"Chumbe\", \"group\": \"Player\", \"title\": \"Node('Player', assists='0', dbno='0', distRide='0.0', distWalk='773.959839', dmg='33', kills='0', name='Chumbe', surviveTime='474.098')\"}, {\"id\": 104, \"label\": \"45\", \"group\": \"Team\", \"title\": \"Node('Team', teamId='45', teamPlacement='28')\"}, {\"id\": 113, \"label\": \"2U4GBNA0YmnIQQesqcucTHDFVqlXEAUiUHhJp3yec6c0hzQHABUNJuJZ21mrZjZn\", \"group\": \"Match\", \"title\": \"Node('Match', matchId='2U4GBNA0YmnIQQesqcucTHDFVqlXEAUiUHhJp3yec6c0hzQHABUNJuJZ21mrZjZn', matchMode='tpp')\"}, {\"id\": 1, \"label\": \"2U4GBNA0YmnNZYkzjkfgN4ev-hXSrak_BSey_YEG6kIuDG9fxFrrePqnqiM39pJO\", \"group\": \"Match\", \"title\": \"Node('Match', matchId='2U4GBNA0YmnNZYkzjkfgN4ev-hXSrak_BSey_YEG6kIuDG9fxFrrePqnqiM39pJO', matchMode='tpp')\"}, {\"id\": 10, \"label\": \"R1dd1ck913\", \"group\": \"Player\", \"title\": \"Node('Player', assists='0', dbno='0', distRide='0.0', distWalk='3118.58032', dmg='0', kills='0', name='R1dd1ck913', surviveTime='1264.792')\"}, {\"id\": 106, \"label\": \"pananm55-\", \"group\": \"Player\", \"title\": \"Node('Player', assists='0', dbno='0', distRide='4078.597', distWalk='3220.901', dmg='80', kills='0', name='pananm55-', surviveTime='1606.694')\"}, {\"id\": 87, \"label\": \"FullyWhipCrackin\", \"group\": \"Player\", \"title\": \"Node('Player', assists='0', dbno='0', distRide='3625.7211899999998', distWalk='1413.61389', dmg='81', kills='0', name='FullyWhipCrackin', surviveTime='1282.225')\"}, {\"id\": 140, \"label\": \"DimonGao999\", \"group\": \"Player\", \"title\": \"Node('Player', assists='0', dbno='0', distRide='0.0', distWalk='116.733635', dmg='28', kills='0', name='DimonGao999', surviveTime='114.564')\"}, {\"id\": 141, \"label\": \"30\", \"group\": \"Team\", \"title\": \"Node('Team', teamId='30', teamPlacement='41')\"}, {\"id\": 78, \"label\": \"Hairless_Iguana\", \"group\": \"Player\", \"title\": \"Node('Player', assists='0', dbno='1', distRide='0.0', distWalk='548.989746', dmg='120', kills='1', name='Hairless_Iguana', surviveTime='382.356')\"}, {\"id\": 77, \"label\": \"40\", \"group\": \"Team\", \"title\": \"Node('Team', teamId='40', teamPlacement='30')\"}, {\"id\": 43, \"label\": \"Zaerki\", \"group\": \"Player\", \"title\": \"Node('Player', assists='1', dbno='1', distRide='2319.07251', distWalk='1772.9348100000002', dmg='144', kills='1', name='Zaerki', surviveTime='1573.835')\"}, {\"id\": 69, \"label\": \"Kenallai\", \"group\": \"Player\", \"title\": \"Node('Player', assists='0', dbno='0', distRide='0.0', distWalk='396.32312', dmg='43', kills='0', name='Kenallai', surviveTime='401.705')\"}, {\"id\": 51, \"label\": \"Cruz914\", \"group\": \"Player\", \"title\": \"Node('Player', assists='1', dbno='2', distRide='353.07099999999997', distWalk='3646.13965', dmg='476', kills='4', name='Cruz914', surviveTime='1750.095')\"}, {\"id\": 50, \"label\": \"46\", \"group\": \"Team\", \"title\": \"Node('Team', teamId='46', teamPlacement='7')\"}, {\"id\": 145, \"label\": \"skysbsa\", \"group\": \"Player\", \"title\": \"Node('Player', assists='0', dbno='0', distRide='6286.6269999999995', distWalk='2187.56445', dmg='24', kills='0', name='skysbsa', surviveTime='1172.156')\"}, {\"id\": 144, \"label\": \"31\", \"group\": \"Team\", \"title\": \"Node('Team', teamId='31', teamPlacement='14')\"}, {\"id\": 36, \"label\": \"Essaldun\", \"group\": \"Player\", \"title\": \"Node('Player', assists='0', dbno='0', distRide='0.0', distWalk='2076.4502', dmg='17', kills='1', name='Essaldun', surviveTime='1049.8039999999999')\"}, {\"id\": 35, \"label\": \"33\", \"group\": \"Team\", \"title\": \"Node('Team', teamId='33', teamPlacement='19')\"}, {\"id\": 91, \"label\": \"ConnorSiebs\", \"group\": \"Player\", \"title\": \"Node('Player', assists='0', dbno='0', distRide='0.0', distWalk='1.30789614', dmg='0', kills='0', name='ConnorSiebs', surviveTime='77.652')\"}, {\"id\": 120, \"label\": \"6\", \"group\": \"Team\", \"title\": \"Node('Team', teamId='6', teamPlacement='18')\"}, {\"id\": 118, \"label\": \"BIGSEX\", \"group\": \"Player\", \"title\": \"Node('Player', assists='0', dbno='0', distRide='2281.09668', distWalk='2420.6438', dmg='99', kills='1', name='BIGSEX', surviveTime='1351.3370000000002')\"}, {\"id\": 19, \"label\": \"thebrewski\", \"group\": \"Player\", \"title\": \"Node('Player', assists='0', dbno='0', distRide='0.0', distWalk='55.2714539', dmg='0', kills='0', name='thebrewski', surviveTime='160.64')\"}, {\"id\": 72, \"label\": \"Dexter2003\", \"group\": \"Player\", \"title\": \"Node('Player', assists='1', dbno='1', distRide='1780.6164600000002', distWalk='2187.4970000000003', dmg='238', kills='1', name='Dexter2003', surviveTime='1570.2779999999998')\"}, {\"id\": 131, \"label\": \"SJSJGBT\", \"group\": \"Player\", \"title\": \"Node('Player', assists='0', dbno='0', distRide='2759.32251', distWalk='467.9161', dmg='0', kills='0', name='SJSJGBT', surviveTime='327.032')\"}, {\"id\": 132, \"label\": \"18\", \"group\": \"Team\", \"title\": \"Node('Team', teamId='18', teamPlacement='31')\"}, {\"id\": 56, \"label\": \"50\", \"group\": \"Team\", \"title\": \"Node('Team', teamId='50', teamPlacement='35')\"}, {\"id\": 99, \"label\": \"fetusmuncher4001\", \"group\": \"Player\", \"title\": \"Node('Player', assists='1', dbno='1', distRide='0.0', distWalk='1655.58484', dmg='156', kills='1', name='fetusmuncher4001', surviveTime='884.0939999999999')\"}, {\"id\": 130, \"label\": \"DeadlyAyrab\", \"group\": \"Player\", \"title\": \"Node('Player', assists='0', dbno='0', distRide='0.0', distWalk='2426.04834', dmg='90', kills='1', name='DeadlyAyrab', surviveTime='1153.83')\"}, {\"id\": 133, \"label\": \"cole_milk\", \"group\": \"Player\", \"title\": \"Node('Player', assists='0', dbno='0', distRide='3408.53125', distWalk='361.898163', dmg='0', kills='0', name='cole_milk', surviveTime='361.634')\"}, {\"id\": 34, \"label\": \"XombieMarine\", \"group\": \"Player\", \"title\": \"Node('Player', assists='1', dbno='1', distRide='0.0', distWalk='2065.498', dmg='151', kills='1', name='XombieMarine', surviveTime='968.96')\"}, {\"id\": 127, \"label\": \"yjcwjh\", \"group\": \"Player\", \"title\": \"Node('Player', assists='0', dbno='0', distRide='3420.9016100000003', distWalk='70.29319', dmg='0', kills='0', name='yjcwjh', surviveTime='308.066')\"}, {\"id\": 55, \"label\": \"WangZhengWei666\", \"group\": \"Player\", \"title\": \"Node('Player', assists='0', dbno='0', distRide='0.0', distWalk='0.0', dmg='0', kills='0', name='WangZhengWei666', surviveTime='801.852')\"}, {\"id\": 33, \"label\": \"zxczcx\", \"group\": \"Player\", \"title\": \"Node('Player', assists='2', dbno='0', distRide='4555.215999999999', distWalk='2559.02319', dmg='211', kills='1', name='zxczcx', surviveTime='1880.069')\"}, {\"id\": 134, \"label\": \"Kungfumanduhh\", \"group\": \"Player\", \"title\": \"Node('Player', assists='0', dbno='0', distRide='0.0', distWalk='106.99124099999999', dmg='60', kills='0', name='Kungfumanduhh', surviveTime='137.595')\"}, {\"id\": 9, \"label\": \"AlexWho6\", \"group\": \"Player\", \"title\": \"Node('Player', assists='0', dbno='0', distRide='2896.3125', distWalk='2167.93213', dmg='65', kills='0', name='AlexWho6', surviveTime='1537.5')\"}, {\"id\": 25, \"label\": \"FIYMNBVCXZ\", \"group\": \"Player\", \"title\": \"Node('Player', assists='0', dbno='0', distRide='0.0', distWalk='2057.258', dmg='0', kills='0', name='FIYMNBVCXZ', surviveTime='1583.1570000000002')\"}, {\"id\": 26, \"label\": \"26\", \"group\": \"Team\", \"title\": \"Node('Team', teamId='26', teamPlacement='3')\"}, {\"id\": 42, \"label\": \"CytricS\", \"group\": \"Player\", \"title\": \"Node('Player', assists='0', dbno='0', distRide='0.0', distWalk='1497.0493199999999', dmg='71', kills='0', name='CytricS', surviveTime='558.31')\"}, {\"id\": 73, \"label\": \"Riyyaaaaa\", \"group\": \"Player\", \"title\": \"Node('Player', assists='0', dbno='0', distRide='0.0', distWalk='102.174828', dmg='17', kills='0', name='Riyyaaaaa', surviveTime='234.31400000000002')\"}, {\"id\": 74, \"label\": \"34\", \"group\": \"Team\", \"title\": \"Node('Team', teamId='34', teamPlacement='33')\"}, {\"id\": 119, \"label\": \"aLinqqqqq\", \"group\": \"Player\", \"title\": \"Node('Player', assists='0', dbno='1', distRide='2652.30835', distWalk='2374.72168', dmg='182', kills='2', name='aLinqqqqq', surviveTime='1092.272')\"}, {\"id\": 52, \"label\": \"LJLCC\", \"group\": \"Player\", \"title\": \"Node('Player', assists='0', dbno='0', distRide='0.0', distWalk='2275.223', dmg='119', kills='0', name='LJLCC', surviveTime='959.191')\"}, {\"id\": 67, \"label\": \"PsychoticOtter\", \"group\": \"Player\", \"title\": \"Node('Player', assists='0', dbno='0', distRide='0.0', distWalk='413.8818', dmg='0', kills='0', name='PsychoticOtter', surviveTime='382.57199999999995')\"}, {\"id\": 101, \"label\": \"36\", \"group\": \"Team\", \"title\": \"Node('Team', teamId='36', teamPlacement='1')\"}, {\"id\": 58, \"label\": \"Mstrshake01\", \"group\": \"Player\", \"title\": \"Node('Player', assists='0', dbno='0', distRide='528.386963', distWalk='108.83098600000001', dmg='20', kills='0', name='Mstrshake01', surviveTime='305.77099999999996')\"}, {\"id\": 59, \"label\": \"3\", \"group\": \"Team\", \"title\": \"Node('Team', teamId='3', teamPlacement='32')\"}, {\"id\": 137, \"label\": \"pvtmartinmartin\", \"group\": \"Player\", \"title\": \"Node('Player', assists='0', dbno='2', distRide='5049.5415', distWalk='1254.5946', dmg='171', kills='1', name='pvtmartinmartin', surviveTime='1112.022')\"}, {\"id\": 112, \"label\": \"saver12138\", \"group\": \"Player\", \"title\": \"Node('Player', assists='1', dbno='1', distRide='659.240967', distWalk='1721.58', dmg='203', kills='2', name='saver12138', surviveTime='904.9')\"}, {\"id\": 103, \"label\": \"Linkraal\", \"group\": \"Player\", \"title\": \"Node('Player', assists='0', dbno='1', distRide='0.0', distWalk='743.8507', dmg='94', kills='1', name='Linkraal', surviveTime='551.698')\"}, {\"id\": 64, \"label\": \"Lepore24\", \"group\": \"Player\", \"title\": \"Node('Player', assists='0', dbno='1', distRide='3316.71', distWalk='1669.84058', dmg='170', kills='2', name='Lepore24', surviveTime='1822.5520000000001')\"}];\n",
       "    var edges = [{\"from\": 45, \"to\": 44, \"label\": \"belongs_to\"}, {\"from\": 16, \"to\": 17, \"label\": \"belongs_to\"}, {\"from\": 122, \"to\": 123, \"label\": \"belongs_to\"}, {\"from\": 70, \"to\": 71, \"label\": \"belongs_to\"}, {\"from\": 30, \"to\": 29, \"label\": \"belongs_to\"}, {\"from\": 28, \"to\": 29, \"label\": \"belongs_to\"}, {\"from\": 3, \"to\": 2, \"label\": \"belongs_to\"}, {\"from\": 12, \"to\": 11, \"label\": \"belongs_to\"}, {\"from\": 15, \"to\": 14, \"label\": \"belongs_to\"}, {\"from\": 61, \"to\": 62, \"label\": \"belongs_to\"}, {\"from\": 85, \"to\": 86, \"label\": \"belongs_to\"}, {\"from\": 146, \"to\": 147, \"label\": \"belongs_to\"}, {\"from\": 46, \"to\": 47, \"label\": \"belongs_to\"}, {\"from\": 109, \"to\": 110, \"label\": \"belongs_to\"}, {\"from\": 111, \"to\": 110, \"label\": \"belongs_to\"}, {\"from\": 7, \"to\": 8, \"label\": \"belongs_to\"}, {\"from\": 115, \"to\": 114, \"label\": \"belongs_to\"}, {\"from\": 108, \"to\": 107, \"label\": \"belongs_to\"}, {\"from\": 124, \"to\": 123, \"label\": \"belongs_to\"}, {\"from\": 79, \"to\": 80, \"label\": \"belongs_to\"}, {\"from\": 22, \"to\": 23, \"label\": \"belongs_to\"}, {\"from\": 81, \"to\": 80, \"label\": \"belongs_to\"}, {\"from\": 4, \"to\": 5, \"label\": \"belongs_to\"}, {\"from\": 88, \"to\": 89, \"label\": \"belongs_to\"}, {\"from\": 40, \"to\": 41, \"label\": \"belongs_to\"}, {\"from\": 116, \"to\": 117, \"label\": \"belongs_to\"}, {\"from\": 66, \"to\": 65, \"label\": \"belongs_to\"}, {\"from\": 37, \"to\": 38, \"label\": \"belongs_to\"}, {\"from\": 48, \"to\": 47, \"label\": \"belongs_to\"}, {\"from\": 105, \"to\": 104, \"label\": \"belongs_to\"}, {\"from\": 10, \"to\": 11, \"label\": \"belongs_to\"}, {\"from\": 106, \"to\": 107, \"label\": \"belongs_to\"}, {\"from\": 87, \"to\": 86, \"label\": \"belongs_to\"}, {\"from\": 140, \"to\": 141, \"label\": \"belongs_to\"}, {\"from\": 78, \"to\": 77, \"label\": \"belongs_to\"}, {\"from\": 43, \"to\": 44, \"label\": \"belongs_to\"}, {\"from\": 69, \"to\": 68, \"label\": \"belongs_to\"}, {\"from\": 51, \"to\": 50, \"label\": \"belongs_to\"}, {\"from\": 145, \"to\": 144, \"label\": \"belongs_to\"}, {\"from\": 36, \"to\": 35, \"label\": \"belongs_to\"}, {\"from\": 91, \"to\": 92, \"label\": \"belongs_to\"}, {\"from\": 118, \"to\": 117, \"label\": \"belongs_to\"}, {\"from\": 19, \"to\": 20, \"label\": \"belongs_to\"}, {\"from\": 72, \"to\": 71, \"label\": \"belongs_to\"}, {\"from\": 131, \"to\": 132, \"label\": \"belongs_to\"}, {\"from\": 99, \"to\": 98, \"label\": \"belongs_to\"}, {\"from\": 130, \"to\": 129, \"label\": \"belongs_to\"}, {\"from\": 133, \"to\": 132, \"label\": \"belongs_to\"}, {\"from\": 34, \"to\": 35, \"label\": \"belongs_to\"}, {\"from\": 127, \"to\": 126, \"label\": \"belongs_to\"}, {\"from\": 55, \"to\": 56, \"label\": \"belongs_to\"}, {\"from\": 33, \"to\": 32, \"label\": \"belongs_to\"}, {\"from\": 134, \"to\": 135, \"label\": \"belongs_to\"}, {\"from\": 9, \"to\": 8, \"label\": \"belongs_to\"}, {\"from\": 25, \"to\": 26, \"label\": \"belongs_to\"}, {\"from\": 42, \"to\": 41, \"label\": \"belongs_to\"}, {\"from\": 73, \"to\": 74, \"label\": \"belongs_to\"}, {\"from\": 119, \"to\": 120, \"label\": \"belongs_to\"}, {\"from\": 52, \"to\": 53, \"label\": \"belongs_to\"}, {\"from\": 67, \"to\": 68, \"label\": \"belongs_to\"}, {\"from\": 58, \"to\": 59, \"label\": \"belongs_to\"}, {\"from\": 137, \"to\": 138, \"label\": \"belongs_to\"}, {\"from\": 112, \"to\": 114, \"label\": \"belongs_to\"}, {\"from\": 103, \"to\": 104, \"label\": \"belongs_to\"}, {\"from\": 64, \"to\": 65, \"label\": \"belongs_to\"}];\n",
       "\n",
       "    var container = document.getElementById(\"dfa8c3d5-01e0-4204-8169-e2acb9860d12\");\n",
       "\n",
       "    var data = {\n",
       "        nodes: nodes,\n",
       "        edges: edges\n",
       "    };\n",
       "\n",
       "    var options = {\n",
       "    nodes: {\n",
       "        shape: 'dot',\n",
       "        size: 25,\n",
       "        font: {\n",
       "            size: 14\n",
       "        }\n",
       "    },\n",
       "    edges: {\n",
       "        font: {\n",
       "            size: 14,\n",
       "            align: 'middle'\n",
       "        },\n",
       "        color: 'gray',\n",
       "        arrows: {\n",
       "            to: {\n",
       "                enabled: true,\n",
       "                scaleFactor: 0.5\n",
       "            }\n",
       "        },\n",
       "        smooth: {\n",
       "            enabled: false\n",
       "        }\n",
       "    },\n",
       "    physics: {\n",
       "        enabled: true\n",
       "        }\n",
       "    };\n",
       "\n",
       "    var network = new vis.Network(container, data, options);\n",
       "\n",
       "</script>\n"
      ],
      "text/plain": [
       "<IPython.core.display.HTML object>"
      ]
     },
     "execution_count": 7,
     "metadata": {},
     "output_type": "execute_result"
    }
   ],
   "source": [
    "neo4jupyter.init_notebook_mode()\n",
    "options = {\"Player\": \"name\", \"Match\": \"matchId\", \"Team\": \"teamId\"}\n",
    "draw(graph, options)"
   ]
  },
  {
   "cell_type": "markdown",
   "metadata": {},
   "source": [
    "## Présentation des requêtes imbriquées"
   ]
  },
  {
   "cell_type": "markdown",
   "metadata": {},
   "source": [
    "Il existe deux manières de faire les requêtes imbriquées en neo4j :\n",
    "- Les requêtes existentiel utilisant la clause cypher EXISTS{} dans la clause WHERE\n",
    "- Les requêtes utilisant la clause CALL et permettant de retourner un résultat\n",
    "\n"
   ]
  },
  {
   "cell_type": "markdown",
   "metadata": {},
   "source": [
    "### Requête existentiel"
   ]
  },
  {
   "cell_type": "markdown",
   "metadata": {},
   "source": [
    "### Requête avec résultat"
   ]
  },
  {
   "cell_type": "markdown",
   "metadata": {},
   "source": [
    "date\n",
    "game_size\n",
    "match_id\n",
    "match_mode\n",
    "party_size\n",
    "player_assists\n",
    "player_dbno\n",
    "player_dist_ride\n",
    "player_dist_walk\n",
    "player_dmg\n",
    "player_kills\n",
    "player_name\n",
    "player_survive_time\n",
    "team_id\n",
    "team_placement\n"
   ]
  }
 ],
 "metadata": {
  "kernelspec": {
   "display_name": "Python 3",
   "language": "python",
   "name": "python3"
  },
  "language_info": {
   "codemirror_mode": {
    "name": "ipython",
    "version": 3
   },
   "file_extension": ".py",
   "mimetype": "text/x-python",
   "name": "python",
   "nbconvert_exporter": "python",
   "pygments_lexer": "ipython3",
   "version": "3.8.3"
  }
 },
 "nbformat": 4,
 "nbformat_minor": 2
}
