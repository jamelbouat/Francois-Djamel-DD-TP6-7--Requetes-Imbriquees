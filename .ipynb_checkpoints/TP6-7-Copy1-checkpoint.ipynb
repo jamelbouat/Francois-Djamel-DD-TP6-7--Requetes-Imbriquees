{
 "cells": [
  {
   "cell_type": "markdown",
   "metadata": {},
   "source": [
    "# Les requêtes imbriquées avec Neo4J\n",
    "Ce rapport a pour objectif de montrer l'utilisation des requêtes imbriquées dans le système de gestion de base de donnée Neo4j.\n",
    "Pour pouvoir executer le code présent dans les cellules suivantes il faut avoir neo4j lancé, utiliser un docker est possible avec '''sudo docker run --publish=7474:7474 --publish=7687:7687 -v $PWD/import:/var/lib/neo4j/import neo4j:4.1.3'''\n",
    "\n",
    "\n",
    "## Un peu de contexte\n",
    "Neo4j est un système de gestion de base de donnée orientée graphe. Ce type de système a la particularité d'utiliser des graphes pour représenter les données et ainsi permettre les formules connus de la théorie des graphes. De plus Neo4j est connu pour sa performance dans la rapidité des requêtes qui sont dans certains cas plus rapide que des simples requêtes SQL.Le langage de requête utilisé par Neo4j est le langage cypher reconnu pour permettre des requêtes clair et simple.\n",
    "\n",
    "Les requêtes imbriquées permettent de faire une requête sur une requête et donc cibler plus simplement un resultat. A l'aide de la bibliothèque python py2neo nous allons vous montrer comment on peut utiliser ces requêtes."
   ]
  },
  {
   "cell_type": "code",
   "execution_count": 6,
   "metadata": {},
   "outputs": [
    {
     "name": "stdout",
     "output_type": "stream",
     "text": [
      "connect\n"
     ]
    }
   ],
   "source": [
    "from py2neo import *\n",
    "from neo4jupyter import *\n",
    "\n",
    "graph = Graph('http://localhost', auth=('neo4j', 'neo4j*'))\n",
    "print(\"connect\")"
   ]
  },
  {
   "cell_type": "code",
   "execution_count": 7,
   "metadata": {},
   "outputs": [
    {
     "name": "stdout",
     "output_type": "stream",
     "text": [
      "ok\n"
     ]
    }
   ],
   "source": [
    "loadQuery = '''\n",
    "USING PERIODIC COMMIT\n",
    "LOAD CSV WITH HEADERS FROM 'file:///small-pubg.csv' AS pubg\n",
    "WITH pubg\n",
    "WHERE pubg.match_id IS NOT NULL AND pubg.player_name IS NOT NULL\n",
    "MERGE (player:Player{\n",
    "        assists:pubg.player_assists,\n",
    "        name:pubg.player_name,\n",
    "        kills:pubg.player_kills,\n",
    "        surviveTime:pubg.player_survive_time,\n",
    "        dmg:pubg.player_dmg,\n",
    "        dbno:pubg.player_dbno,\n",
    "        distRide:pubg.player_dist_ride,\n",
    "        distWalk:pubg.player_dist_walk\n",
    "        \n",
    "        })\n",
    "MERGE (match:Match{\n",
    "         matchId:pubg.match_id,\n",
    "         matchMode:pubg.match_mode\n",
    "         })\n",
    "MERGE (team:Team{\n",
    "        teamId:pubg.team_id,\n",
    "        teamPlacement:pubg.team_placement\n",
    "        })\n",
    "MERGE (player) -[:belongs_to]-> (team)\n",
    "'''\n",
    "graph.run(loadQuery)\n",
    "print(\"ok\")"
   ]
  },
  {
   "cell_type": "code",
   "execution_count": 8,
   "metadata": {},
   "outputs": [
    {
     "data": {
      "application/javascript": [
       "var link = document.createElement(\"link\");\n",
       "\tlink.ref = \"stylesheet\";\n",
       "\tlink.type = \"text/css\";\n",
       "\tlink.href = \"https://cdnjs.cloudflare.com/ajax/libs/vis/4.8.2/vis.css\";\n",
       "\tdocument.head.appendChild(link);\n",
       "require.config({     paths: {         vis: '//cdnjs.cloudflare.com/ajax/libs/vis/4.8.2/vis.min'     } }); require(['vis'], function(vis) {  window.vis = vis; }); "
      ],
      "text/plain": [
       "<IPython.core.display.Javascript object>"
      ]
     },
     "metadata": {},
     "output_type": "display_data"
    },
    {
     "data": {
      "text/html": [
       "<div id=\"6c0b4a09-d030-4ce5-8702-dd9093a0fa47\" style=\"height: 400px;\"></div>\n",
       "\n",
       "<script type=\"text/javascript\">\n",
       "\n",
       "    var nodes = [{\"id\": 279, \"label\": \"23\", \"group\": \"Team\", \"title\": \"Node('Team', teamId='23', teamPlacement='36')\"}, {\"id\": 260, \"label\": \"the49ersguy\", \"group\": \"Player\", \"title\": \"Node('Player', assists='0', dbno='0', distRide='2277.78564', distWalk='2347.7307100000003', dmg='81', kills='0', name='the49ersguy', surviveTime='1352.8229999999999')\"}, {\"id\": 261, \"label\": \"3\", \"group\": \"Team\", \"title\": \"Node('Team', teamId='3', teamPlacement='10')\"}, {\"id\": 29, \"label\": \"29\", \"group\": \"Team\", \"title\": \"Node('Team', teamId='29')\"}, {\"id\": 98, \"label\": \"35\", \"group\": \"Team\", \"title\": \"Node('Team', teamId='35')\"}, {\"id\": 224, \"label\": \"42\", \"group\": \"Team\", \"title\": \"Node('Team', teamId='42', teamPlacement='37')\"}, {\"id\": 36, \"label\": \"Essaldun\", \"group\": \"Player\", \"title\": \"Node('Player', assists='0', name='Essaldun')\"}, {\"id\": 35, \"label\": \"33\", \"group\": \"Team\", \"title\": \"Node('Team', teamId='33')\"}, {\"id\": 252, \"label\": \"LPL-buibuibui\", \"group\": \"Player\", \"title\": \"Node('Player', assists='0', dbno='2', distRide='3551.8886700000003', distWalk='3390.2614700000004', dmg='350', kills='3', name='LPL-buibuibui', surviveTime='1659.703')\"}, {\"id\": 251, \"label\": \"11\", \"group\": \"Team\", \"title\": \"Node('Team', teamId='11', teamPlacement='8')\"}, {\"id\": 68, \"label\": \"23\", \"group\": \"Team\", \"title\": \"Node('Team', teamId='23')\"}, {\"id\": 233, \"label\": \"19\", \"group\": \"Team\", \"title\": \"Node('Team', teamId='19', teamPlacement='35')\"}, {\"id\": 17, \"label\": \"22\", \"group\": \"Team\", \"title\": \"Node('Team', teamId='22')\"}, {\"id\": 60, \"label\": \"BruteSlayer99\", \"group\": \"Player\", \"title\": \"Node('Player', assists='0', name='BruteSlayer99')\"}, {\"id\": 59, \"label\": \"3\", \"group\": \"Team\", \"title\": \"Node('Team', teamId='3')\"}, {\"id\": 100, \"label\": \"Maerkk\", \"group\": \"Player\", \"title\": \"Node('Player', assists='0', name='Maerkk')\"}, {\"id\": 101, \"label\": \"36\", \"group\": \"Team\", \"title\": \"Node('Team', teamId='36')\"}, {\"id\": 41, \"label\": \"38\", \"group\": \"Team\", \"title\": \"Node('Team', teamId='38')\"}, {\"id\": 18, \"label\": \"Ninjapex\", \"group\": \"Player\", \"title\": \"Node('Player', assists='0', name='Ninjapex')\"}, {\"id\": 247, \"label\": \"Linkraal\", \"group\": \"Player\", \"title\": \"Node('Player', assists='0', dbno='1', distRide='0.0', distWalk='743.8507', dmg='94', kills='1', name='Linkraal', surviveTime='551.698')\"}, {\"id\": 248, \"label\": \"45\", \"group\": \"Team\", \"title\": \"Node('Team', teamId='45', teamPlacement='28')\"}, {\"id\": 244, \"label\": \"Maerkk\", \"group\": \"Player\", \"title\": \"Node('Player', assists='0', dbno='2', distRide='3131.9924300000002', distWalk='2527.9570000000003', dmg='487', kills='4', name='Maerkk', surviveTime='2181.9829999999997')\"}, {\"id\": 245, \"label\": \"36\", \"group\": \"Team\", \"title\": \"Node('Team', teamId='36', teamPlacement='1')\"}, {\"id\": 117, \"label\": \"BIGSEX\", \"group\": \"Player\", \"title\": \"Node('Player', assists='0', name='BIGSEX')\"}, {\"id\": 210, \"label\": \"Reboke\", \"group\": \"Player\", \"title\": \"Node('Player', assists='0', dbno='0', distRide='3298.972', distWalk='1350.4428699999999', dmg='100', kills='1', name='Reboke', surviveTime='1750.842')\"}, {\"id\": 209, \"label\": \"18\", \"group\": \"Team\", \"title\": \"Node('Team', teamId='18', teamPlacement='6')\"}, {\"id\": 186, \"label\": \"CytricS\", \"group\": \"Player\", \"title\": \"Node('Player', assists='0', dbno='0', distRide='0.0', distWalk='1497.0493199999999', dmg='71', kills='0', name='CytricS', surviveTime='558.31')\"}, {\"id\": 185, \"label\": \"38\", \"group\": \"Team\", \"title\": \"Node('Team', teamId='38', teamPlacement='27')\"}, {\"id\": 264, \"label\": \"6\", \"group\": \"Team\", \"title\": \"Node('Team', teamId='6', teamPlacement='18')\"}, {\"id\": 154, \"label\": \"R1dd1ck913\", \"group\": \"Player\", \"title\": \"Node('Player', assists='0', dbno='0', distRide='0.0', distWalk='3118.58032', dmg='0', kills='0', name='R1dd1ck913', surviveTime='1264.792')\"}, {\"id\": 155, \"label\": \"15\", \"group\": \"Team\", \"title\": \"Node('Team', teamId='15', teamPlacement='17')\"}, {\"id\": 266, \"label\": \"sapoww\", \"group\": \"Player\", \"title\": \"Node('Player', assists='0', dbno='0', distRide='0.0', distWalk='220.85876499999998', dmg='103', kills='0', name='sapoww', surviveTime='193.418')\"}, {\"id\": 267, \"label\": \"9\", \"group\": \"Team\", \"title\": \"Node('Team', teamId='9', teamPlacement='38')\"}, {\"id\": 127, \"label\": \"12\", \"group\": \"Team\", \"title\": \"Node('Team', teamId='12')\"}, {\"id\": 113, \"label\": \"2U4GBNA0YmnIQQesqcucTHDFVqlXEAUiUHhJp3yec6c0hzQHABUNJuJZ21mrZjZn\", \"group\": \"Match\", \"title\": \"Node('Match', matchId='2U4GBNA0YmnIQQesqcucTHDFVqlXEAUiUHhJp3yec6c0hzQHABUNJuJZ21mrZjZn')\"}, {\"id\": 105, \"label\": \"Chumbe\", \"group\": \"Player\", \"title\": \"Node('Player', assists='0', name='Chumbe')\"}, {\"id\": 104, \"label\": \"45\", \"group\": \"Team\", \"title\": \"Node('Team', teamId='45')\"}, {\"id\": 70, \"label\": \"captainterrenc3\", \"group\": \"Player\", \"title\": \"Node('Player', assists='0', name='captainterrenc3')\"}, {\"id\": 71, \"label\": \"27\", \"group\": \"Team\", \"title\": \"Node('Team', teamId='27')\"}, {\"id\": 169, \"label\": \"FIYMNBVCXZ\", \"group\": \"Player\", \"title\": \"Node('Player', assists='0', dbno='0', distRide='0.0', distWalk='2057.258', dmg='0', kills='0', name='FIYMNBVCXZ', surviveTime='1583.1570000000002')\"}, {\"id\": 170, \"label\": \"26\", \"group\": \"Team\", \"title\": \"Node('Team', teamId='26', teamPlacement='3')\"}, {\"id\": 199, \"label\": \"WangZhengWei666\", \"group\": \"Player\", \"title\": \"Node('Player', assists='0', dbno='0', distRide='0.0', distWalk='0.0', dmg='0', kills='0', name='WangZhengWei666', surviveTime='801.852')\"}, {\"id\": 200, \"label\": \"50\", \"group\": \"Team\", \"title\": \"Node('Team', teamId='50', teamPlacement='35')\"}, {\"id\": 135, \"label\": \"DimonGao999\", \"group\": \"Player\", \"title\": \"Node('Player', assists='0', name='DimonGao999')\"}, {\"id\": 95, \"label\": \"30\", \"group\": \"Team\", \"title\": \"Node('Team', teamId='30')\"}, {\"id\": 272, \"label\": \"DeadliestAyyyrab\", \"group\": \"Player\", \"title\": \"Node('Player', assists='0', dbno='0', distRide='0.0', distWalk='2554.2177699999997', dmg='44', kills='0', name='DeadliestAyyyrab', surviveTime='1153.8339999999998')\"}, {\"id\": 273, \"label\": \"12\", \"group\": \"Team\", \"title\": \"Node('Team', teamId='12', teamPlacement='15')\"}, {\"id\": 80, \"label\": \"42\", \"group\": \"Team\", \"title\": \"Node('Team', teamId='42')\"}, {\"id\": 271, \"label\": \"yjcwjh\", \"group\": \"Player\", \"title\": \"Node('Player', assists='0', dbno='0', distRide='3420.9016100000003', distWalk='70.29319', dmg='0', kills='0', name='yjcwjh', surviveTime='308.066')\"}, {\"id\": 270, \"label\": \"10\", \"group\": \"Team\", \"title\": \"Node('Team', teamId='10', teamPlacement='12')\"}, {\"id\": 220, \"label\": \"TheLnofJake\", \"group\": \"Player\", \"title\": \"Node('Player', assists='1', dbno='0', distRide='0.0', distWalk='647.4725', dmg='100', kills='1', name='TheLnofJake', surviveTime='373.905')\"}, {\"id\": 221, \"label\": \"40\", \"group\": \"Team\", \"title\": \"Node('Team', teamId='40', teamPlacement='30')\"}, {\"id\": 236, \"label\": \"20\", \"group\": \"Team\", \"title\": \"Node('Team', teamId='20', teamPlacement='36')\"}, {\"id\": 243, \"label\": \"fetusmuncher4001\", \"group\": \"Player\", \"title\": \"Node('Player', assists='1', dbno='1', distRide='0.0', distWalk='1655.58484', dmg='156', kills='1', name='fetusmuncher4001', surviveTime='884.0939999999999')\"}, {\"id\": 242, \"label\": \"35\", \"group\": \"Team\", \"title\": \"Node('Team', teamId='35', teamPlacement='15')\"}, {\"id\": 168, \"label\": \"Chogo82\", \"group\": \"Player\", \"title\": \"Node('Player', assists='0', dbno='0', distRide='1277.5805699999999', distWalk='3286.67114', dmg='84', kills='1', name='Chogo82', surviveTime='2181.82')\"}, {\"id\": 167, \"label\": \"25\", \"group\": \"Team\", \"title\": \"Node('Team', teamId='25', teamPlacement='2')\"}, {\"id\": 25, \"label\": \"FIYMNBVCXZ\", \"group\": \"Player\", \"title\": \"Node('Player', assists='0', name='FIYMNBVCXZ')\"}, {\"id\": 26, \"label\": \"26\", \"group\": \"Team\", \"title\": \"Node('Team', teamId='26')\"}, {\"id\": 64, \"label\": \"Lepore24\", \"group\": \"Player\", \"title\": \"Node('Player', assists='0', name='Lepore24')\"}, {\"id\": 65, \"label\": \"18\", \"group\": \"Team\", \"title\": \"Node('Team', teamId='18')\"}, {\"id\": 195, \"label\": \"Cruz914\", \"group\": \"Player\", \"title\": \"Node('Player', assists='1', dbno='2', distRide='353.07099999999997', distWalk='3646.13965', dmg='476', kills='4', name='Cruz914', surviveTime='1750.095')\"}, {\"id\": 194, \"label\": \"46\", \"group\": \"Team\", \"title\": \"Node('Team', teamId='46', teamPlacement='7')\"}, {\"id\": 67, \"label\": \"PsychoticOtter\", \"group\": \"Player\", \"title\": \"Node('Player', assists='0', name='PsychoticOtter')\"}, {\"id\": 177, \"label\": \"zxczcx\", \"group\": \"Player\", \"title\": \"Node('Player', assists='2', dbno='0', distRide='4555.215999999999', distWalk='2559.02319', dmg='211', kills='1', name='zxczcx', surviveTime='1880.069')\"}, {\"id\": 176, \"label\": \"32\", \"group\": \"Team\", \"title\": \"Node('Team', teamId='32', teamPlacement='5')\"}, {\"id\": 8, \"label\": \"14\", \"group\": \"Team\", \"title\": \"Node('Team', teamId='14')\"}, {\"id\": 20, \"label\": \"24\", \"group\": \"Team\", \"title\": \"Node('Team', teamId='24')\"}, {\"id\": 126, \"label\": \"DeadliestAyyyrab\", \"group\": \"Player\", \"title\": \"Node('Player', assists='0', name='DeadliestAyyyrab')\"}, {\"id\": 125, \"label\": \"yjcwjh\", \"group\": \"Player\", \"title\": \"Node('Player', assists='0', name='yjcwjh')\"}, {\"id\": 124, \"label\": \"10\", \"group\": \"Team\", \"title\": \"Node('Team', teamId='10')\"}, {\"id\": 183, \"label\": \"KeyBoardSucker\", \"group\": \"Player\", \"title\": \"Node('Player', assists='0', dbno='1', distRide='0.0', distWalk='537.9968', dmg='124', kills='1', name='KeyBoardSucker', surviveTime='292.827')\"}, {\"id\": 182, \"label\": \"37\", \"group\": \"Team\", \"title\": \"Node('Team', teamId='37', teamPlacement='31')\"}, {\"id\": 22, \"label\": \"subzero3\", \"group\": \"Player\", \"title\": \"Node('Player', assists='0', name='subzero3')\"}, {\"id\": 23, \"label\": \"25\", \"group\": \"Team\", \"title\": \"Node('Team', teamId='25')\"}, {\"id\": 58, \"label\": \"Mstrshake01\", \"group\": \"Player\", \"title\": \"Node('Player', assists='0', name='Mstrshake01')\"}, {\"id\": 189, \"label\": \"FumaKT\", \"group\": \"Player\", \"title\": \"Node('Player', assists='0', dbno='0', distRide='2306.78271', distWalk='1956.6264600000002', dmg='55', kills='1', name='FumaKT', surviveTime='1573.84')\"}, {\"id\": 188, \"label\": \"39\", \"group\": \"Team\", \"title\": \"Node('Team', teamId='39', teamPlacement='9')\"}, {\"id\": 12, \"label\": \"Emmylou89\", \"group\": \"Player\", \"title\": \"Node('Player', assists='0', name='Emmylou89')\"}, {\"id\": 11, \"label\": \"15\", \"group\": \"Team\", \"title\": \"Node('Team', teamId='15')\"}, {\"id\": 6, \"label\": \"sbahn87\", \"group\": \"Player\", \"title\": \"Node('Player', assists='0', name='sbahn87')\"}, {\"id\": 5, \"label\": \"5\", \"group\": \"Team\", \"title\": \"Node('Team', teamId='5')\"}, {\"id\": 171, \"label\": \"ShuLanHou\", \"group\": \"Player\", \"title\": \"Node('Player', assists='0', dbno='4', distRide='0.0', distWalk='3285.94385', dmg='673', kills='6', name='ShuLanHou', surviveTime='2009.7220000000002')\"}, {\"id\": 274, \"label\": \"DeadlyAyrab\", \"group\": \"Player\", \"title\": \"Node('Player', assists='0', dbno='0', distRide='0.0', distWalk='2426.04834', dmg='90', kills='1', name='DeadlyAyrab', surviveTime='1153.83')\"}, {\"id\": 239, \"label\": \"30\", \"group\": \"Team\", \"title\": \"Node('Team', teamId='30', teamPlacement='28')\"}, {\"id\": 15, \"label\": \"SoSpicy\", \"group\": \"Player\", \"title\": \"Node('Player', assists='0', name='SoSpicy')\"}, {\"id\": 14, \"label\": \"17\", \"group\": \"Team\", \"title\": \"Node('Team', teamId='17')\"}, {\"id\": 258, \"label\": \"2\", \"group\": \"Team\", \"title\": \"Node('Team', teamId='2', teamPlacement='21')\"}, {\"id\": 288, \"label\": \"31\", \"group\": \"Team\", \"title\": \"Node('Team', teamId='31', teamPlacement='14')\"}, {\"id\": 115, \"label\": \"krisns\", \"group\": \"Player\", \"title\": \"Node('Player', assists='0', name='krisns')\"}, {\"id\": 114, \"label\": \"2\", \"group\": \"Team\", \"title\": \"Node('Team', teamId='2')\"}, {\"id\": 250, \"label\": \"pananm55-\", \"group\": \"Player\", \"title\": \"Node('Player', assists='0', dbno='0', distRide='4078.597', distWalk='3220.901', dmg='80', kills='0', name='pananm55-', surviveTime='1606.694')\"}, {\"id\": 57, \"label\": \"990906max\", \"group\": \"Player\", \"title\": \"Node('Player', assists='0', name='990906max')\"}, {\"id\": 56, \"label\": \"50\", \"group\": \"Team\", \"title\": \"Node('Team', teamId='50')\"}, {\"id\": 269, \"label\": \"5tygfv\", \"group\": \"Player\", \"title\": \"Node('Player', assists='0', dbno='0', distRide='5891.52734', distWalk='1362.50708', dmg='44', kills='0', name='5tygfv', surviveTime='1210.468')\"}, {\"id\": 27, \"label\": \"ShuLanHou\", \"group\": \"Player\", \"title\": \"Node('Player', assists='0', name='ShuLanHou')\"}, {\"id\": 229, \"label\": \"ItsPickles\", \"group\": \"Player\", \"title\": \"Node('Player', assists='0', dbno='0', distRide='3005.54443', distWalk='1630.44812', dmg='0', kills='0', name='ItsPickles', surviveTime='1282.22')\"}, {\"id\": 230, \"label\": \"49\", \"group\": \"Team\", \"title\": \"Node('Team', teamId='49', teamPlacement='16')\"}, {\"id\": 19, \"label\": \"thebrewski\", \"group\": \"Player\", \"title\": \"Node('Player', assists='0', name='thebrewski')\"}, {\"id\": 37, \"label\": \"JoeyGames123\", \"group\": \"Player\", \"title\": \"Node('Player', assists='0', name='JoeyGames123')\"}, {\"id\": 38, \"label\": \"37\", \"group\": \"Team\", \"title\": \"Node('Team', teamId='37')\"}, {\"id\": 174, \"label\": \"Jerryxp\", \"group\": \"Player\", \"title\": \"Node('Player', assists='0', dbno='1', distRide='0.0', distWalk='1078.95581', dmg='100', kills='1', name='Jerryxp', surviveTime='513.487')\"}, {\"id\": 173, \"label\": \"29\", \"group\": \"Team\", \"title\": \"Node('Team', teamId='29', teamPlacement='20')\"}, {\"id\": 138, \"label\": \"31\", \"group\": \"Team\", \"title\": \"Node('Team', teamId='31')\"}, {\"id\": 282, \"label\": \"27\", \"group\": \"Team\", \"title\": \"Node('Team', teamId='27', teamPlacement='17')\"}, {\"id\": 234, \"label\": \"LHErDui\", \"group\": \"Player\", \"title\": \"Node('Player', assists='0', dbno='1', distRide='0.0', distWalk='163.68061799999998', dmg='105', kills='0', name='LHErDui', surviveTime='162.984')\"}, {\"id\": 111, \"label\": \"jackomino\", \"group\": \"Player\", \"title\": \"Node('Player', assists='0', name='jackomino')\"}, {\"id\": 110, \"label\": \"28\", \"group\": \"Team\", \"title\": \"Node('Team', teamId='28')\"}, {\"id\": 181, \"label\": \"JoeyGames123\", \"group\": \"Player\", \"title\": \"Node('Player', assists='0', dbno='0', distRide='0.0', distWalk='444.7796', dmg='0', kills='0', name='JoeyGames123', surviveTime='336.43300000000005')\"}, {\"id\": 112, \"label\": \"saver12138\", \"group\": \"Player\", \"title\": \"Node('Player', assists='1', name='saver12138')\"}, {\"id\": 208, \"label\": \"Lepore24\", \"group\": \"Player\", \"title\": \"Node('Player', assists='0', dbno='1', distRide='3316.71', distWalk='1669.84058', dmg='170', kills='2', name='Lepore24', surviveTime='1822.5520000000001')\"}, {\"id\": 63, \"label\": \"pretzelboss\", \"group\": \"Player\", \"title\": \"Node('Player', assists='0', name='pretzelboss')\"}, {\"id\": 62, \"label\": \"6\", \"group\": \"Team\", \"title\": \"Node('Team', teamId='6')\"}, {\"id\": 51, \"label\": \"Cruz914\", \"group\": \"Player\", \"title\": \"Node('Player', assists='1', name='Cruz914')\"}, {\"id\": 50, \"label\": \"46\", \"group\": \"Team\", \"title\": \"Node('Team', teamId='46')\"}, {\"id\": 122, \"label\": \"Lux-xXx\", \"group\": \"Player\", \"title\": \"Node('Player', assists='0', name='Lux-xXx')\"}, {\"id\": 121, \"label\": \"9\", \"group\": \"Team\", \"title\": \"Node('Team', teamId='9')\"}, {\"id\": 34, \"label\": \"XombieMarine\", \"group\": \"Player\", \"title\": \"Node('Player', assists='1', name='XombieMarine')\"}, {\"id\": 235, \"label\": \"ConnorSiebs\", \"group\": \"Player\", \"title\": \"Node('Player', assists='0', dbno='0', distRide='0.0', distWalk='1.30789614', dmg='0', kills='0', name='ConnorSiebs', surviveTime='77.652')\"}, {\"id\": 77, \"label\": \"40\", \"group\": \"Team\", \"title\": \"Node('Team', teamId='40')\"}, {\"id\": 254, \"label\": \"28\", \"group\": \"Team\", \"title\": \"Node('Team', teamId='28', teamPlacement='21')\"}, {\"id\": 61, \"label\": \"ThatsOneMadman\", \"group\": \"Player\", \"title\": \"Node('Player', assists='0', name='ThatsOneMadman')\"}, {\"id\": 84, \"label\": \"ChinaLXCf\", \"group\": \"Player\", \"title\": \"Node('Player', assists='0', name='ChinaLXCf')\"}, {\"id\": 83, \"label\": \"44\", \"group\": \"Team\", \"title\": \"Node('Team', teamId='44')\"}, {\"id\": 156, \"label\": \"Emmylou89\", \"group\": \"Player\", \"title\": \"Node('Player', assists='0', dbno='0', distRide='0.0', distWalk='3237.202', dmg='0', kills='0', name='Emmylou89', surviveTime='1264.795')\"}, {\"id\": 148, \"label\": \"bovize\", \"group\": \"Player\", \"title\": \"Node('Player', assists='0', dbno='0', distRide='0.0', distWalk='224.157562', dmg='67', kills='0', name='bovize', surviveTime='235.558')\"}, {\"id\": 149, \"label\": \"5\", \"group\": \"Team\", \"title\": \"Node('Team', teamId='5', teamPlacement='33')\"}, {\"id\": 268, \"label\": \"Lux-xXx\", \"group\": \"Player\", \"title\": \"Node('Player', assists='0', dbno='1', distRide='0.0', distWalk='236.40416000000002', dmg='63', kills='0', name='Lux-xXx', surviveTime='201.99400000000003')\"}, {\"id\": 30, \"label\": \"Jerryxp\", \"group\": \"Player\", \"title\": \"Node('Player', assists='0', name='Jerryxp')\"}, {\"id\": 86, \"label\": \"49\", \"group\": \"Team\", \"title\": \"Node('Team', teamId='49')\"}, {\"id\": 43, \"label\": \"Zaerki\", \"group\": \"Player\", \"title\": \"Node('Player', assists='1', name='Zaerki')\"}, {\"id\": 44, \"label\": \"39\", \"group\": \"Team\", \"title\": \"Node('Team', teamId='39')\"}, {\"id\": 280, \"label\": \"Kadeos\", \"group\": \"Player\", \"title\": \"Node('Player', assists='0', dbno='0', distRide='0.0', distWalk='260.362274', dmg='139', kills='0', name='Kadeos', surviveTime='215.50400000000002')\"}, {\"id\": 283, \"label\": \"AlphaHulu\", \"group\": \"Player\", \"title\": \"Node('Player', assists='1', dbno='0', distRide='5532.033', distWalk='1008.9146699999999', dmg='28', kills='0', name='AlphaHulu', surviveTime='1112.018')\"}, {\"id\": 87, \"label\": \"FullyWhipCrackin\", \"group\": \"Player\", \"title\": \"Node('Player', assists='0', name='FullyWhipCrackin')\"}, {\"id\": 147, \"label\": \"Ozon3r\", \"group\": \"Player\", \"title\": \"Node('Player', assists='0', dbno='1', distRide='2938.4072300000003', distWalk='1756.0797100000002', dmg='127', kills='1', name='Ozon3r', surviveTime='1106.315')\"}, {\"id\": 146, \"label\": \"4\", \"group\": \"Team\", \"title\": \"Node('Team', teamId='4', teamPlacement='18')\"}];\n",
       "    var edges = [{\"from\": 260, \"to\": 261, \"label\": \"belongs_to\"}, {\"from\": 36, \"to\": 35, \"label\": \"belongs_to\"}, {\"from\": 252, \"to\": 251, \"label\": \"belongs_to\"}, {\"from\": 60, \"to\": 59, \"label\": \"belongs_to\"}, {\"from\": 100, \"to\": 101, \"label\": \"belongs_to\"}, {\"from\": 18, \"to\": 17, \"label\": \"belongs_to\"}, {\"from\": 247, \"to\": 248, \"label\": \"belongs_to\"}, {\"from\": 244, \"to\": 245, \"label\": \"belongs_to\"}, {\"from\": 117, \"to\": 59, \"label\": \"belongs_to\"}, {\"from\": 210, \"to\": 209, \"label\": \"belongs_to\"}, {\"from\": 186, \"to\": 185, \"label\": \"belongs_to\"}, {\"from\": 154, \"to\": 155, \"label\": \"belongs_to\"}, {\"from\": 266, \"to\": 267, \"label\": \"belongs_to\"}, {\"from\": 105, \"to\": 104, \"label\": \"belongs_to\"}, {\"from\": 70, \"to\": 71, \"label\": \"belongs_to\"}, {\"from\": 169, \"to\": 170, \"label\": \"belongs_to\"}, {\"from\": 199, \"to\": 200, \"label\": \"belongs_to\"}, {\"from\": 135, \"to\": 95, \"label\": \"belongs_to\"}, {\"from\": 272, \"to\": 273, \"label\": \"belongs_to\"}, {\"from\": 271, \"to\": 270, \"label\": \"belongs_to\"}, {\"from\": 220, \"to\": 221, \"label\": \"belongs_to\"}, {\"from\": 243, \"to\": 242, \"label\": \"belongs_to\"}, {\"from\": 168, \"to\": 167, \"label\": \"belongs_to\"}, {\"from\": 25, \"to\": 26, \"label\": \"belongs_to\"}, {\"from\": 64, \"to\": 65, \"label\": \"belongs_to\"}, {\"from\": 195, \"to\": 194, \"label\": \"belongs_to\"}, {\"from\": 67, \"to\": 68, \"label\": \"belongs_to\"}, {\"from\": 177, \"to\": 176, \"label\": \"belongs_to\"}, {\"from\": 126, \"to\": 127, \"label\": \"belongs_to\"}, {\"from\": 125, \"to\": 124, \"label\": \"belongs_to\"}, {\"from\": 183, \"to\": 182, \"label\": \"belongs_to\"}, {\"from\": 22, \"to\": 23, \"label\": \"belongs_to\"}, {\"from\": 58, \"to\": 59, \"label\": \"belongs_to\"}, {\"from\": 189, \"to\": 188, \"label\": \"belongs_to\"}, {\"from\": 12, \"to\": 11, \"label\": \"belongs_to\"}, {\"from\": 6, \"to\": 5, \"label\": \"belongs_to\"}, {\"from\": 171, \"to\": 170, \"label\": \"belongs_to\"}, {\"from\": 274, \"to\": 273, \"label\": \"belongs_to\"}, {\"from\": 15, \"to\": 14, \"label\": \"belongs_to\"}, {\"from\": 115, \"to\": 114, \"label\": \"belongs_to\"}, {\"from\": 250, \"to\": 251, \"label\": \"belongs_to\"}, {\"from\": 57, \"to\": 56, \"label\": \"belongs_to\"}, {\"from\": 269, \"to\": 270, \"label\": \"belongs_to\"}, {\"from\": 27, \"to\": 26, \"label\": \"belongs_to\"}, {\"from\": 229, \"to\": 230, \"label\": \"belongs_to\"}, {\"from\": 19, \"to\": 20, \"label\": \"belongs_to\"}, {\"from\": 37, \"to\": 38, \"label\": \"belongs_to\"}, {\"from\": 174, \"to\": 173, \"label\": \"belongs_to\"}, {\"from\": 234, \"to\": 233, \"label\": \"belongs_to\"}, {\"from\": 111, \"to\": 110, \"label\": \"belongs_to\"}, {\"from\": 181, \"to\": 182, \"label\": \"belongs_to\"}, {\"from\": 112, \"to\": 114, \"label\": \"belongs_to\"}, {\"from\": 208, \"to\": 209, \"label\": \"belongs_to\"}, {\"from\": 63, \"to\": 62, \"label\": \"belongs_to\"}, {\"from\": 51, \"to\": 50, \"label\": \"belongs_to\"}, {\"from\": 122, \"to\": 121, \"label\": \"belongs_to\"}, {\"from\": 34, \"to\": 35, \"label\": \"belongs_to\"}, {\"from\": 235, \"to\": 236, \"label\": \"belongs_to\"}, {\"from\": 61, \"to\": 62, \"label\": \"belongs_to\"}, {\"from\": 84, \"to\": 83, \"label\": \"belongs_to\"}, {\"from\": 156, \"to\": 155, \"label\": \"belongs_to\"}, {\"from\": 148, \"to\": 149, \"label\": \"belongs_to\"}, {\"from\": 268, \"to\": 267, \"label\": \"belongs_to\"}, {\"from\": 30, \"to\": 29, \"label\": \"belongs_to\"}, {\"from\": 43, \"to\": 44, \"label\": \"belongs_to\"}, {\"from\": 280, \"to\": 279, \"label\": \"belongs_to\"}, {\"from\": 283, \"to\": 282, \"label\": \"belongs_to\"}, {\"from\": 87, \"to\": 86, \"label\": \"belongs_to\"}, {\"from\": 147, \"to\": 146, \"label\": \"belongs_to\"}];\n",
       "\n",
       "    var container = document.getElementById(\"6c0b4a09-d030-4ce5-8702-dd9093a0fa47\");\n",
       "\n",
       "    var data = {\n",
       "        nodes: nodes,\n",
       "        edges: edges\n",
       "    };\n",
       "\n",
       "    var options = {\n",
       "    nodes: {\n",
       "        shape: 'dot',\n",
       "        size: 25,\n",
       "        font: {\n",
       "            size: 14\n",
       "        }\n",
       "    },\n",
       "    edges: {\n",
       "        font: {\n",
       "            size: 14,\n",
       "            align: 'middle'\n",
       "        },\n",
       "        color: 'gray',\n",
       "        arrows: {\n",
       "            to: {\n",
       "                enabled: true,\n",
       "                scaleFactor: 0.5\n",
       "            }\n",
       "        },\n",
       "        smooth: {\n",
       "            enabled: false\n",
       "        }\n",
       "    },\n",
       "    physics: {\n",
       "        enabled: true\n",
       "        }\n",
       "    };\n",
       "\n",
       "    var network = new vis.Network(container, data, options);\n",
       "\n",
       "</script>\n"
      ],
      "text/plain": [
       "<IPython.core.display.HTML object>"
      ]
     },
     "execution_count": 8,
     "metadata": {},
     "output_type": "execute_result"
    }
   ],
   "source": [
    "neo4jupyter.init_notebook_mode()\n",
    "options = {\"Player\": \"name\", \"Match\": \"matchId\", \"Team\": \"teamId\"}\n",
    "draw(graph, options)"
   ]
  },
  {
   "cell_type": "code",
   "execution_count": null,
   "metadata": {},
   "outputs": [],
   "source": []
  },
  {
   "cell_type": "code",
   "execution_count": null,
   "metadata": {},
   "outputs": [],
   "source": []
  },
  {
   "cell_type": "markdown",
   "metadata": {},
   "source": [
    "date\n",
    "game_size\n",
    "match_id\n",
    "match_mode\n",
    "party_size\n",
    "player_assists\n",
    "player_dbno\n",
    "player_dist_ride\n",
    "player_dist_walk\n",
    "player_dmg\n",
    "player_kills\n",
    "player_name\n",
    "player_survive_time\n",
    "team_id\n",
    "team_placement\n"
   ]
  }
 ],
 "metadata": {
  "kernelspec": {
   "display_name": "Python 3",
   "language": "python",
   "name": "python3"
  },
  "language_info": {
   "codemirror_mode": {
    "name": "ipython",
    "version": 3
   },
   "file_extension": ".py",
   "mimetype": "text/x-python",
   "name": "python",
   "nbconvert_exporter": "python",
   "pygments_lexer": "ipython3",
   "version": "3.8.3"
  }
 },
 "nbformat": 4,
 "nbformat_minor": 2
}
