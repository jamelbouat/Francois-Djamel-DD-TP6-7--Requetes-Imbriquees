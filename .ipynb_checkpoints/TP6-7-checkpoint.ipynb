{
 "cells": [
  {
   "cell_type": "markdown",
   "metadata": {},
   "source": [
    "# Les requêtes imbriquées avec Neo4J\n",
    "Ce rapport a pour objectif de montrer l'utilisation des requêtes imbriquées dans le système de gestion de base de donnée Neo4j.\n",
    "\n",
    "## Un peu de contexte\n",
    "Neo4j est un système de gestion de base de donnée orientée graphe. Ce type de système a la particularité d'utiliser des graphes pour représenter les données et ainsi permettre les formules connus de la théorie des graphes. De plus Neo4j est connu pour sa performance dans la rapidité des requêtes qui sont dans certains cas plus rapide que des simples requêtes SQL.Le langage de requête utilisé par Neo4j est le langage cypher reconnu pour permettre des requêtes clair et simple.\n",
    "\n",
    "Les requêtes imbriquées permettent de faire une requête sur une requête et donc cibler plus simplement un resultat. A l'aide de la bibliothèque python py2neo nous allons vous montrer comment on peut utiliser ces requêtes."
   ]
  },
  {
   "cell_type": "markdown",
   "metadata": {},
   "source": [
    "# Installations :\n",
    "- #### pip3 install py2neo\n",
    "- #### pip3 install neo4jupyter"
   ]
  },
  {
   "cell_type": "code",
   "execution_count": 7,
   "metadata": {},
   "outputs": [],
   "source": [
    "from py2neo import *\n",
    "from neo4jupyter import *\n",
    "\n",
    "graph = Graph('http://localhost', auth=('neo4j', 'neo4j'))"
   ]
  },
  {
   "cell_type": "code",
   "execution_count": 11,
   "metadata": {},
   "outputs": [
    {
     "name": "stdout",
     "output_type": "stream",
     "text": [
      "Number of person node is 348 AND Number of movie node is 76\n"
     ]
    }
   ],
   "source": [
    "#Cypher Query\n",
    "number_of_person_nodes=\"MATCH(p:Person) RETURN Count(p)\"\n",
    "number_of_movie_nodes=\"MATCH(m:Movie) RETURN Count(m)\"\n",
    "\n",
    "#Evaluate the Cypher query\n",
    "result_persons=graph.evaluate(number_of_person_nodes)\n",
    "result_movies=graph.evaluate(number_of_movie_nodes)\n",
    "\n",
    "#Print the result\n",
    "print(f\"Number of person node is {result_persons} AND Number of movie node is {result_movies}\")"
   ]
  },
  {
   "cell_type": "code",
   "execution_count": 13,
   "metadata": {},
   "outputs": [
    {
     "data": {
      "text/html": [
       "<div>\n",
       "<style scoped>\n",
       "    .dataframe tbody tr th:only-of-type {\n",
       "        vertical-align: middle;\n",
       "    }\n",
       "\n",
       "    .dataframe tbody tr th {\n",
       "        vertical-align: top;\n",
       "    }\n",
       "\n",
       "    .dataframe thead th {\n",
       "        text-align: right;\n",
       "    }\n",
       "</style>\n",
       "<table border=\"1\" class=\"dataframe\">\n",
       "  <thead>\n",
       "    <tr style=\"text-align: right;\">\n",
       "      <th></th>\n",
       "      <th>RelationType</th>\n",
       "    </tr>\n",
       "  </thead>\n",
       "  <tbody>\n",
       "    <tr>\n",
       "      <th>0</th>\n",
       "      <td>ACTED_IN</td>\n",
       "    </tr>\n",
       "    <tr>\n",
       "      <th>1</th>\n",
       "      <td>PRODUCED</td>\n",
       "    </tr>\n",
       "    <tr>\n",
       "      <th>2</th>\n",
       "      <td>DIRECTED</td>\n",
       "    </tr>\n",
       "    <tr>\n",
       "      <th>3</th>\n",
       "      <td>WROTE</td>\n",
       "    </tr>\n",
       "    <tr>\n",
       "      <th>4</th>\n",
       "      <td>REVIEWED</td>\n",
       "    </tr>\n",
       "    <tr>\n",
       "      <th>5</th>\n",
       "      <td>FOLLOWS</td>\n",
       "    </tr>\n",
       "  </tbody>\n",
       "</table>\n",
       "</div>"
      ],
      "text/plain": [
       "  RelationType\n",
       "0     ACTED_IN\n",
       "1     PRODUCED\n",
       "2     DIRECTED\n",
       "3        WROTE\n",
       "4     REVIEWED\n",
       "5      FOLLOWS"
      ]
     },
     "execution_count": 13,
     "metadata": {},
     "output_type": "execute_result"
    }
   ],
   "source": [
    "# Return all type for relations in a table\n",
    "cypher_all_relationship=\"MATCH (n)-[r]-(m) RETURN DISTINCT type(r) as RelationType\"\n",
    "graph.run(cypher_all_relationship).to_data_frame()"
   ]
  },
  {
   "cell_type": "code",
   "execution_count": 8,
   "metadata": {},
   "outputs": [
    {
     "data": {
      "application/javascript": [
       "var link = document.createElement(\"link\");\n",
       "\tlink.ref = \"stylesheet\";\n",
       "\tlink.type = \"text/css\";\n",
       "\tlink.href = \"https://cdnjs.cloudflare.com/ajax/libs/vis/4.8.2/vis.css\";\n",
       "\tdocument.head.appendChild(link);\n",
       "require.config({     paths: {         vis: '//cdnjs.cloudflare.com/ajax/libs/vis/4.8.2/vis.min'     } }); require(['vis'], function(vis) {  window.vis = vis; }); "
      ],
      "text/plain": [
       "<IPython.core.display.Javascript object>"
      ]
     },
     "metadata": {},
     "output_type": "display_data"
    },
    {
     "data": {
      "text/html": [
       "<div id=\"b8b4cbaf-5e54-4cce-aba8-0657d847cb43\" style=\"height: 400px;\"></div>\n",
       "\n",
       "<script type=\"text/javascript\">\n",
       "\n",
       "    var nodes = [{\"id\": 482, \"label\": \"\", \"group\": \"Drink\", \"title\": \"Node('Drink', calories=0, name='Coke Zero')\"}, {\"id\": 410, \"label\": \"Drew\", \"group\": \"Person\", \"title\": \"Node('Person', age=20, name='Drew')\"}, {\"id\": 552, \"label\": \"Nicole\", \"group\": \"Person\", \"title\": \"Node('Person', age=24, name='Nicole')\"}, {\"id\": 549, \"label\": \"\", \"group\": \"Drink\", \"title\": \"Node('Drink', calories=9000, name='Mountain Dew')\"}, {\"id\": 256, \"label\": \"That Thing You Do\", \"group\": \"Movie\", \"title\": \"Node('Movie', released=1996, tagline='In every life there comes a time when that thing you dream becomes that thing you do', title='That Thing You Do')\"}, {\"id\": 8, \"label\": \"Emil Eifrem\", \"group\": \"Person\", \"title\": \"Node('Person', born=1978, name='Emil Eifrem')\"}, {\"id\": 0, \"label\": \"The Matrix\", \"group\": \"Movie\", \"title\": \"Node('Movie', released=1999, tagline='Welcome to the Real World', title='The Matrix')\"}, {\"id\": 75, \"label\": \"Bill Pullman\", \"group\": \"Person\", \"title\": \"Node('Person', born=1953, name='Bill Pullman')\"}, {\"id\": 73, \"label\": \"Sleepless in Seattle\", \"group\": \"Movie\", \"title\": \"Node('Movie', released=1993, tagline='What if someone you never met, someone you never saw, someone you never knew was the only someone for you?', title='Sleepless in Seattle')\"}, {\"id\": 434, \"label\": \"\", \"group\": \"Drink\", \"title\": \"Node('Drink', calories=0, name='Coke Zero')\"}, {\"id\": 411, \"label\": \"Nicole\", \"group\": \"Person\", \"title\": \"Node('Person', age=24, name='Nicole')\"}, {\"id\": 285, \"label\": \"Paul Bettany\", \"group\": \"Person\", \"title\": \"Node('Person', born=1971, name='Paul Bettany')\"}, {\"id\": 282, \"label\": \"The Da Vinci Code\", \"group\": \"Movie\", \"title\": \"Node('Movie', released=2006, tagline='Break The Codes', title='The Da Vinci Code')\"}, {\"id\": 280, \"label\": \"David Mitchell\", \"group\": \"Person\", \"title\": \"Node('Person', born=1969, name='David Mitchell')\"}, {\"id\": 276, \"label\": \"Cloud Atlas\", \"group\": \"Movie\", \"title\": \"Node('Movie', released=2012, tagline='Everything is connected', title='Cloud Atlas')\"}, {\"id\": 219, \"label\": \"Corey Feldman\", \"group\": \"Person\", \"title\": \"Node('Person', born=1971, name='Corey Feldman')\"}, {\"id\": 217, \"label\": \"Stand By Me\", \"group\": \"Movie\", \"title\": \"Node('Movie', released=1986, tagline=\\\"For some, it's the last real taste of innocence, and the first real taste of life. But for everyone, it's the time that memories are made of.\\\", title='Stand By Me')\"}, {\"id\": 379, \"label\": \"Drew\", \"group\": \"Person\", \"title\": \"Node('Person', age=20, name='Drew')\"}, {\"id\": 205, \"label\": \"Meg Ryan\", \"group\": \"Person\", \"title\": \"Node('Person', born=1961, name='Meg Ryan')\"}, {\"id\": 238, \"label\": \"You've Got Mail\", \"group\": \"Movie\", \"title\": \"Node('Movie', released=1998, tagline='At odds in life... in love on-line.', title=\\\"You've Got Mail\\\")\"}, {\"id\": 249, \"label\": \"Joe Versus the Volcano\", \"group\": \"Movie\", \"title\": \"Node('Movie', released=1990, tagline='A story of love, lava and burning desire.', title='Joe Versus the Volcano')\"}, {\"id\": 244, \"label\": \"Sleepless in Seattle\", \"group\": \"Movie\", \"title\": \"Node('Movie', released=1993, tagline='What if someone you never met, someone you never saw, someone you never knew was the only someone for you?', title='Sleepless in Seattle')\"}, {\"id\": 200, \"label\": \"Top Gun\", \"group\": \"Movie\", \"title\": \"Node('Movie', released=1986, tagline='I feel the need, the need for speed.', title='Top Gun')\"}, {\"id\": 252, \"label\": \"When Harry Met Sally\", \"group\": \"Movie\", \"title\": \"Node('Movie', released=1998, tagline='Can two friends sleep together and still love each other in the morning?', title='When Harry Met Sally')\"}, {\"id\": 84, \"label\": \"Bruno Kirby\", \"group\": \"Person\", \"title\": \"Node('Person', born=1949, name='Bruno Kirby')\"}, {\"id\": 81, \"label\": \"When Harry Met Sally\", \"group\": \"Movie\", \"title\": \"Node('Movie', released=1998, tagline='Can two friends sleep together and still love each other in the morning?', title='When Harry Met Sally')\"}, {\"id\": 4, \"label\": \"Hugo Weaving\", \"group\": \"Person\", \"title\": \"Node('Person', born=1960, name='Hugo Weaving')\"}, {\"id\": 105, \"label\": \"Cloud Atlas\", \"group\": \"Movie\", \"title\": \"Node('Movie', released=2012, tagline='Everything is connected', title='Cloud Atlas')\"}, {\"id\": 116, \"label\": \"V for Vendetta\", \"group\": \"Movie\", \"title\": \"Node('Movie', released=2006, tagline='Freedom! Forever!', title='V for Vendetta')\"}, {\"id\": 10, \"label\": \"The Matrix Revolutions\", \"group\": \"Movie\", \"title\": \"Node('Movie', released=2003, tagline='Everything that has a beginning has an end', title='The Matrix Revolutions')\"}, {\"id\": 9, \"label\": \"The Matrix Reloaded\", \"group\": \"Movie\", \"title\": \"Node('Movie', released=2003, tagline='Free your mind', title='The Matrix Reloaded')\"}, {\"id\": 11, \"label\": \"The Devil's Advocate\", \"group\": \"Movie\", \"title\": \"Node('Movie', released=1997, tagline='Evil has its winning ways', title=\\\"The Devil's Advocate\\\")\"}, {\"id\": 319, \"label\": \"Philip Seymour Hoffman\", \"group\": \"Person\", \"title\": \"Node('Person', born=1967, name='Philip Seymour Hoffman')\"}, {\"id\": 318, \"label\": \"Twister\", \"group\": \"Movie\", \"title\": \"Node('Movie', released=1996, tagline=\\\"Don't Breathe. Don't Look Back.\\\", title='Twister')\"}, {\"id\": 330, \"label\": \"Charlie Wilson's War\", \"group\": \"Movie\", \"title\": \"Node('Movie', released=2007, tagline=\\\"A stiff drink. A little mascara. A lot of nerve. Who said they couldn't bring down the Soviet empire.\\\", title=\\\"Charlie Wilson's War\\\")\"}, {\"id\": 54, \"label\": \"Greg Kinnear\", \"group\": \"Person\", \"title\": \"Node('Person', born=1963, name='Greg Kinnear')\"}, {\"id\": 67, \"label\": \"You've Got Mail\", \"group\": \"Movie\", \"title\": \"Node('Movie', released=1998, tagline='At odds in life... in love on-line.', title=\\\"You've Got Mail\\\")\"}, {\"id\": 52, \"label\": \"As Good as It Gets\", \"group\": \"Movie\", \"title\": \"Node('Movie', released=1997, tagline='A comedy from the heart that goes for the throat.', title='As Good as It Gets')\"}, {\"id\": 405, \"label\": \"\", \"group\": \"Drink\", \"title\": \"Node('Drink', calories=9000, name='Mountain Dew')\"}, {\"id\": 310, \"label\": \"Michael Sheen\", \"group\": \"Person\", \"title\": \"Node('Person', born=1969, name='Michael Sheen')\"}, {\"id\": 308, \"label\": \"Frost/Nixon\", \"group\": \"Movie\", \"title\": \"Node('Movie', released=2008, tagline='400 million people were waiting for the truth.', title='Frost/Nixon')\"}, {\"id\": 69, \"label\": \"Dave Chappelle\", \"group\": \"Person\", \"title\": \"Node('Person', born=1973, name='Dave Chappelle')\"}, {\"id\": 537, \"label\": \"Nicole\", \"group\": \"Person\", \"title\": \"Node('Person', age=24, name='Nicole')\"}, {\"id\": 369, \"label\": \"\", \"group\": \"Drink\", \"title\": \"Node('Drink', calories=0, name='Coke Zero')\"}, {\"id\": 344, \"label\": \"\", \"group\": \"Manufacturer\", \"title\": \"Node('Manufacturer', name='Coca Cola')\"}, {\"id\": 243, \"label\": \"Nora Ephron\", \"group\": \"Person\", \"title\": \"Node('Person', born=1941, name='Nora Ephron')\"}, {\"id\": 62, \"label\": \"Snow Falling on Cedars\", \"group\": \"Movie\", \"title\": \"Node('Movie', released=1999, tagline='First loves last. Forever.', title='Snow Falling on Cedars')\"}, {\"id\": 533, \"label\": \"\", \"group\": \"Manufacturer\", \"title\": \"Node('Manufacturer', name='Pepsi')\"}, {\"id\": 288, \"label\": \"Natalie Portman\", \"group\": \"Person\", \"title\": \"Node('Person', born=1981, name='Natalie Portman')\"}, {\"id\": 287, \"label\": \"V for Vendetta\", \"group\": \"Movie\", \"title\": \"Node('Movie', released=2006, tagline='Freedom! Forever!', title='V for Vendetta')\"}, {\"id\": 560, \"label\": \"\", \"group\": \"Manufacturer\", \"title\": \"Node('Manufacturer', name='Coca Cola')\"}, {\"id\": 458, \"label\": \"\", \"group\": \"Drink\", \"title\": \"Node('Drink', calories=0, name='Coke Zero')\"}, {\"id\": 470, \"label\": \"\", \"group\": \"Drink\", \"title\": \"Node('Drink', calories=0, name='Coke Zero')\"}, {\"id\": 364, \"label\": \"\", \"group\": \"Manufacturer\", \"title\": \"Node('Manufacturer', name='Coca Cola')\"}, {\"id\": 100, \"label\": \"Johnny Mnemonic\", \"group\": \"Movie\", \"title\": \"Node('Movie', released=1995, tagline='The hottest data on earth. In the coolest head in town', title='Johnny Mnemonic')\"}, {\"id\": 225, \"label\": \"Greg Kinnear\", \"group\": \"Person\", \"title\": \"Node('Person', born=1963, name='Greg Kinnear')\"}, {\"id\": 223, \"label\": \"As Good as It Gets\", \"group\": \"Movie\", \"title\": \"Node('Movie', released=1997, tagline='A comedy from the heart that goes for the throat.', title='As Good as It Gets')\"}, {\"id\": 42, \"label\": \"Bonnie Hunt\", \"group\": \"Person\", \"title\": \"Node('Person', born=1961, name='Bonnie Hunt')\"}, {\"id\": 130, \"label\": \"The Green Mile\", \"group\": \"Movie\", \"title\": \"Node('Movie', released=1999, tagline=\\\"Walk a mile you'll never forget.\\\", title='The Green Mile')\"}, {\"id\": 37, \"label\": \"Jerry Maguire\", \"group\": \"Movie\", \"title\": \"Node('Movie', released=2000, tagline='The rest of his life begins now.', title='Jerry Maguire')\"}, {\"id\": 454, \"label\": \"\", \"group\": \"Manufacturer\", \"title\": \"Node('Manufacturer', name='Coca Cola')\"}, {\"id\": 228, \"label\": \"Annabella Sciorra\", \"group\": \"Person\", \"title\": \"Node('Person', born=1960, name='Annabella Sciorra')\"}, {\"id\": 227, \"label\": \"What Dreams May Come\", \"group\": \"Movie\", \"title\": \"Node('Movie', released=1998, tagline='After life there is more. The end is just the beginning.', title='What Dreams May Come')\"}, {\"id\": 295, \"label\": \"Susan Sarandon\", \"group\": \"Person\", \"title\": \"Node('Person', born=1946, name='Susan Sarandon')\"}, {\"id\": 292, \"label\": \"Speed Racer\", \"group\": \"Movie\", \"title\": \"Node('Movie', released=2008, tagline='Speed has no limits', title='Speed Racer')\"}, {\"id\": 459, \"label\": \"\", \"group\": \"Drink\", \"title\": \"Node('Drink', calories=9000, name='Mountain Dew')\"}, {\"id\": 108, \"label\": \"Tom Tykwer\", \"group\": \"Person\", \"title\": \"Node('Person', born=1965, name='Tom Tykwer')\"}, {\"id\": 558, \"label\": \"Nicole\", \"group\": \"Person\", \"title\": \"Node('Person', age=24, name='Nicole')\"}, {\"id\": 566, \"label\": \"\", \"group\": \"Manufacturer\", \"title\": \"Node('Manufacturer', name='Coca Cola')\"}, {\"id\": 559, \"label\": \"Drew\", \"group\": \"Person\", \"title\": \"Node('Person', age=20, name='Drew')\"}, {\"id\": 302, \"label\": \"Michael Clarke Duncan\", \"group\": \"Person\", \"title\": \"Node('Person', born=1957, name='Michael Clarke Duncan')\"}, {\"id\": 301, \"label\": \"The Green Mile\", \"group\": \"Movie\", \"title\": \"Node('Movie', released=1999, tagline=\\\"Walk a mile you'll never forget.\\\", title='The Green Mile')\"}, {\"id\": 195, \"label\": \"J.T. Walsh\", \"group\": \"Person\", \"title\": \"Node('Person', born=1943, name='J.T. Walsh')\"}, {\"id\": 186, \"label\": \"A Few Good Men\", \"group\": \"Movie\", \"title\": \"Node('Movie', released=1992, tagline=\\\"In the heart of the nation's capital, in a courthouse of the U.S. government, one man will stop at nothing to keep his honor, and one will stop at nothing to find the truth.\\\", title='A Few Good Men')\"}, {\"id\": 312, \"label\": \"Hoffa\", \"group\": \"Movie\", \"title\": \"Node('Movie', released=1992, tagline=\\\"He didn't want law. He wanted justice.\\\", title='Hoffa')\"}, {\"id\": 212, \"label\": \"Jay Mohr\", \"group\": \"Person\", \"title\": \"Node('Person', born=1970, name='Jay Mohr')\"}, {\"id\": 208, \"label\": \"Jerry Maguire\", \"group\": \"Movie\", \"title\": \"Node('Movie', released=2000, tagline='The rest of his life begins now.', title='Jerry Maguire')\"}, {\"id\": 167, \"label\": \"Paul Blythe\", \"group\": \"Person\", \"title\": \"Node('Person', name='Paul Blythe')\"}, {\"id\": 168, \"label\": \"Angela Scope\", \"group\": \"Person\", \"title\": \"Node('Person', name='Angela Scope')\"}, {\"id\": 143, \"label\": \"John C. Reilly\", \"group\": \"Person\", \"title\": \"Node('Person', born=1965, name='John C. Reilly')\"}, {\"id\": 141, \"label\": \"Hoffa\", \"group\": \"Movie\", \"title\": \"Node('Movie', released=1992, tagline=\\\"He didn't want law. He wanted justice.\\\", title='Hoffa')\"}, {\"id\": 335, \"label\": \"Geena Davis\", \"group\": \"Person\", \"title\": \"Node('Person', born=1956, name='Geena Davis')\"}, {\"id\": 333, \"label\": \"A League of Their Own\", \"group\": \"Movie\", \"title\": \"Node('Movie', released=1992, tagline='Once in a lifetime you get a chance to do something different.', title='A League of Their Own')\"}, {\"id\": 78, \"label\": \"Joe Versus the Volcano\", \"group\": \"Movie\", \"title\": \"Node('Movie', released=1990, tagline='A story of love, lava and burning desire.', title='Joe Versus the Volcano')\"}, {\"id\": 247, \"label\": \"Victor Garber\", \"group\": \"Person\", \"title\": \"Node('Person', born=1949, name='Victor Garber')\"}, {\"id\": 14, \"label\": \"Taylor Hackford\", \"group\": \"Person\", \"title\": \"Node('Person', born=1944, name='Taylor Hackford')\"}, {\"id\": 297, \"label\": \"Christina Ricci\", \"group\": \"Person\", \"title\": \"Node('Person', born=1980, name='Christina Ricci')\"}, {\"id\": 473, \"label\": \"\", \"group\": \"Manufacturer\", \"title\": \"Node('Manufacturer', name='Pepsi')\"}, {\"id\": 189, \"label\": \"Demi Moore\", \"group\": \"Person\", \"title\": \"Node('Person', born=1962, name='Demi Moore')\"}, {\"id\": 135, \"label\": \"Patricia Clarkson\", \"group\": \"Person\", \"title\": \"Node('Person', born=1959, name='Patricia Clarkson')\"}, {\"id\": 232, \"label\": \"Vincent Ward\", \"group\": \"Person\", \"title\": \"Node('Person', born=1956, name='Vincent Ward')\"}, {\"id\": 435, \"label\": \"\", \"group\": \"Drink\", \"title\": \"Node('Drink', calories=9000, name='Mountain Dew')\"}, {\"id\": 546, \"label\": \"Nicole\", \"group\": \"Person\", \"title\": \"Node('Person', age=24, name='Nicole')\"}, {\"id\": 258, \"label\": \"The Replacements\", \"group\": \"Movie\", \"title\": \"Node('Movie', released=2000, tagline='Pain heals, Chicks dig scars... Glory lasts forever', title='The Replacements')\"}, {\"id\": 449, \"label\": \"Nicole\", \"group\": \"Person\", \"title\": \"Node('Person', age=24, name='Nicole')\"}, {\"id\": 53, \"label\": \"Helen Hunt\", \"group\": \"Person\", \"title\": \"Node('Person', born=1963, name='Helen Hunt')\"}, {\"id\": 150, \"label\": \"Cast Away\", \"group\": \"Movie\", \"title\": \"Node('Movie', released=2000, tagline='At the edge of the world, his journey begins.', title='Cast Away')\"}, {\"id\": 147, \"label\": \"Twister\", \"group\": \"Movie\", \"title\": \"Node('Movie', released=1996, tagline=\\\"Don't Breathe. Don't Look Back.\\\", title='Twister')\"}, {\"id\": 441, \"label\": \"Drew\", \"group\": \"Person\", \"title\": \"Node('Person', age=20, name='Drew')\"}, {\"id\": 428, \"label\": \"\", \"group\": \"Manufacturer\", \"title\": \"Node('Manufacturer', name='Coca Cola')\"}, {\"id\": 486, \"label\": \"Nicole\", \"group\": \"Person\", \"title\": \"Node('Person', age=24, name='Nicole')\"}, {\"id\": 65, \"label\": \"James Cromwell\", \"group\": \"Person\", \"title\": \"Node('Person', born=1940, name='James Cromwell')\"}, {\"id\": 542, \"label\": \"\", \"group\": \"Drink\", \"title\": \"Node('Drink', calories=0, name='Coke Zero')\"}, {\"id\": 451, \"label\": \"Drew\", \"group\": \"Person\", \"title\": \"Node('Person', age=20, name='Drew')\"}, {\"id\": 23, \"label\": \"Kevin Pollak\", \"group\": \"Person\", \"title\": \"Node('Person', born=1957, name='Kevin Pollak')\"}, {\"id\": 15, \"label\": \"A Few Good Men\", \"group\": \"Movie\", \"title\": \"Node('Movie', released=1992, tagline=\\\"In the heart of the nation's capital, in a courthouse of the U.S. government, one man will stop at nothing to keep his honor, and one will stop at nothing to find the truth.\\\", title='A Few Good Men')\"}, {\"id\": 342, \"label\": \"Drew\", \"group\": \"Person\", \"title\": \"Node('Person', age=20, name='Drew')\"}, {\"id\": 193, \"label\": \"Cuba Gooding Jr.\", \"group\": \"Person\", \"title\": \"Node('Person', born=1968, name='Cuba Gooding Jr.')\"}, {\"id\": 320, \"label\": \"Jan de Bont\", \"group\": \"Person\", \"title\": \"Node('Person', born=1943, name='Jan de Bont')\"}, {\"id\": 530, \"label\": \"\", \"group\": \"Drink\", \"title\": \"Node('Drink', calories=0, name='Coke Zero')\"}, {\"id\": 3, \"label\": \"Laurence Fishburne\", \"group\": \"Person\", \"title\": \"Node('Person', born=1961, name='Laurence Fishburne')\"}, {\"id\": 29, \"label\": \"Top Gun\", \"group\": \"Movie\", \"title\": \"Node('Movie', released=1986, tagline='I feel the need, the need for speed.', title='Top Gun')\"}, {\"id\": 529, \"label\": \"Drew\", \"group\": \"Person\", \"title\": \"Node('Person', age=20, name='Drew')\"}, {\"id\": 321, \"label\": \"Cast Away\", \"group\": \"Movie\", \"title\": \"Node('Movie', released=2000, tagline='At the edge of the world, his journey begins.', title='Cast Away')\"}, {\"id\": 400, \"label\": \"\", \"group\": \"Manufacturer\", \"title\": \"Node('Manufacturer', name='Coca Cola')\"}, {\"id\": 463, \"label\": \"Drew\", \"group\": \"Person\", \"title\": \"Node('Person', age=20, name='Drew')\"}, {\"id\": 324, \"label\": \"Milos Forman\", \"group\": \"Person\", \"title\": \"Node('Person', born=1932, name='Milos Forman')\"}, {\"id\": 323, \"label\": \"One Flew Over the Cuckoo's Nest\", \"group\": \"Movie\", \"title\": \"Node('Movie', released=1975, tagline=\\\"If he's crazy, what does that make you?\\\", title=\\\"One Flew Over the Cuckoo's Nest\\\")\"}, {\"id\": 214, \"label\": \"Regina King\", \"group\": \"Person\", \"title\": \"Node('Person', born=1971, name='Regina King')\"}, {\"id\": 41, \"label\": \"Jay Mohr\", \"group\": \"Person\", \"title\": \"Node('Person', born=1970, name='Jay Mohr')\"}, {\"id\": 413, \"label\": \"\", \"group\": \"Manufacturer\", \"title\": \"Node('Manufacturer', name='Pepsi')\"}, {\"id\": 22, \"label\": \"Cuba Gooding Jr.\", \"group\": \"Person\", \"title\": \"Node('Person', born=1968, name='Cuba Gooding Jr.')\"}, {\"id\": 56, \"label\": \"What Dreams May Come\", \"group\": \"Movie\", \"title\": \"Node('Movie', released=1998, tagline='After life there is more. The end is just the beginning.', title='What Dreams May Come')\"}, {\"id\": 504, \"label\": \"Nicole\", \"group\": \"Person\", \"title\": \"Node('Person', age=24, name='Nicole')\"}, {\"id\": 96, \"label\": \"Mike Nichols\", \"group\": \"Person\", \"title\": \"Node('Person', born=1931, name='Mike Nichols')\"}, {\"id\": 95, \"label\": \"The Birdcage\", \"group\": \"Movie\", \"title\": \"Node('Movie', released=1996, tagline='Come as you are', title='The Birdcage')\"}, {\"id\": 159, \"label\": \"Charlie Wilson's War\", \"group\": \"Movie\", \"title\": \"Node('Movie', released=2007, tagline=\\\"A stiff drink. A little mascara. A lot of nerve. Who said they couldn't bring down the Soviet empire.\\\", title=\\\"Charlie Wilson's War\\\")\"}, {\"id\": 476, \"label\": \"\", \"group\": \"Drink\", \"title\": \"Node('Drink', calories=0, name='Coke Zero')\"}, {\"id\": 436, \"label\": \"\", \"group\": \"Manufacturer\", \"title\": \"Node('Manufacturer', name='Coca Cola')\"}, {\"id\": 39, \"label\": \"Kelly Preston\", \"group\": \"Person\", \"title\": \"Node('Person', born=1962, name='Kelly Preston')\"}, {\"id\": 561, \"label\": \"\", \"group\": \"Manufacturer\", \"title\": \"Node('Manufacturer', name='Pepsi')\"}, {\"id\": 220, \"label\": \"Wil Wheaton\", \"group\": \"Person\", \"title\": \"Node('Person', born=1972, name='Wil Wheaton')\"}, {\"id\": 547, \"label\": \"Drew\", \"group\": \"Person\", \"title\": \"Node('Person', age=20, name='Drew')\"}, {\"id\": 178, \"label\": \"Joel Silver\", \"group\": \"Person\", \"title\": \"Node('Person', born=1952, name='Joel Silver')\"}, {\"id\": 299, \"label\": \"Ninja Assassin\", \"group\": \"Movie\", \"title\": \"Node('Movie', released=2009, tagline='Prepare to enter a secret world of assassins', title='Ninja Assassin')\"}, {\"id\": 181, \"label\": \"The Matrix Revolutions\", \"group\": \"Movie\", \"title\": \"Node('Movie', released=2003, tagline='Everything that has a beginning has an end', title='The Matrix Revolutions')\"}, {\"id\": 180, \"label\": \"The Matrix Reloaded\", \"group\": \"Movie\", \"title\": \"Node('Movie', released=2003, tagline='Free your mind', title='The Matrix Reloaded')\"}, {\"id\": 171, \"label\": \"The Matrix\", \"group\": \"Movie\", \"title\": \"Node('Movie', released=1999, tagline='Welcome to the Real World', title='The Matrix')\"}, {\"id\": 387, \"label\": \"\", \"group\": \"Drink\", \"title\": \"Node('Drink', calories=9000, name='Mountain Dew')\"}];\n",
       "    var edges = [{\"from\": 8, \"to\": 0, \"label\": \"ACTED_IN\"}, {\"from\": 75, \"to\": 73, \"label\": \"ACTED_IN\"}, {\"from\": 285, \"to\": 282, \"label\": \"ACTED_IN\"}, {\"from\": 280, \"to\": 276, \"label\": \"WROTE\"}, {\"from\": 219, \"to\": 217, \"label\": \"ACTED_IN\"}, {\"from\": 205, \"to\": 238, \"label\": \"ACTED_IN\"}, {\"from\": 205, \"to\": 249, \"label\": \"ACTED_IN\"}, {\"from\": 205, \"to\": 244, \"label\": \"ACTED_IN\"}, {\"from\": 205, \"to\": 200, \"label\": \"ACTED_IN\"}, {\"from\": 205, \"to\": 252, \"label\": \"ACTED_IN\"}, {\"from\": 84, \"to\": 81, \"label\": \"ACTED_IN\"}, {\"from\": 4, \"to\": 105, \"label\": \"ACTED_IN\"}, {\"from\": 4, \"to\": 116, \"label\": \"ACTED_IN\"}, {\"from\": 4, \"to\": 10, \"label\": \"ACTED_IN\"}, {\"from\": 4, \"to\": 9, \"label\": \"ACTED_IN\"}, {\"from\": 4, \"to\": 0, \"label\": \"ACTED_IN\"}, {\"from\": 319, \"to\": 318, \"label\": \"ACTED_IN\"}, {\"from\": 319, \"to\": 330, \"label\": \"ACTED_IN\"}, {\"from\": 54, \"to\": 67, \"label\": \"ACTED_IN\"}, {\"from\": 54, \"to\": 52, \"label\": \"ACTED_IN\"}, {\"from\": 310, \"to\": 308, \"label\": \"ACTED_IN\"}, {\"from\": 69, \"to\": 67, \"label\": \"ACTED_IN\"}, {\"from\": 243, \"to\": 252, \"label\": \"PRODUCED\"}, {\"from\": 243, \"to\": 244, \"label\": \"DIRECTED\"}, {\"from\": 243, \"to\": 238, \"label\": \"DIRECTED\"}, {\"from\": 243, \"to\": 252, \"label\": \"WROTE\"}, {\"from\": 288, \"to\": 287, \"label\": \"ACTED_IN\"}, {\"from\": 225, \"to\": 238, \"label\": \"ACTED_IN\"}, {\"from\": 225, \"to\": 223, \"label\": \"ACTED_IN\"}, {\"from\": 42, \"to\": 130, \"label\": \"ACTED_IN\"}, {\"from\": 42, \"to\": 37, \"label\": \"ACTED_IN\"}, {\"from\": 228, \"to\": 227, \"label\": \"ACTED_IN\"}, {\"from\": 295, \"to\": 292, \"label\": \"ACTED_IN\"}, {\"from\": 108, \"to\": 105, \"label\": \"DIRECTED\"}, {\"from\": 302, \"to\": 301, \"label\": \"ACTED_IN\"}, {\"from\": 195, \"to\": 186, \"label\": \"ACTED_IN\"}, {\"from\": 195, \"to\": 312, \"label\": \"ACTED_IN\"}, {\"from\": 212, \"to\": 208, \"label\": \"ACTED_IN\"}, {\"from\": 167, \"to\": 168, \"label\": \"FOLLOWS\"}, {\"from\": 143, \"to\": 141, \"label\": \"ACTED_IN\"}, {\"from\": 335, \"to\": 333, \"label\": \"ACTED_IN\"}, {\"from\": 247, \"to\": 244, \"label\": \"ACTED_IN\"}, {\"from\": 14, \"to\": 11, \"label\": \"DIRECTED\"}, {\"from\": 297, \"to\": 292, \"label\": \"ACTED_IN\"}, {\"from\": 189, \"to\": 186, \"label\": \"ACTED_IN\"}, {\"from\": 135, \"to\": 130, \"label\": \"ACTED_IN\"}, {\"from\": 232, \"to\": 227, \"label\": \"DIRECTED\"}, {\"from\": 53, \"to\": 52, \"label\": \"ACTED_IN\"}, {\"from\": 53, \"to\": 150, \"label\": \"ACTED_IN\"}, {\"from\": 53, \"to\": 147, \"label\": \"ACTED_IN\"}, {\"from\": 65, \"to\": 130, \"label\": \"ACTED_IN\"}, {\"from\": 65, \"to\": 62, \"label\": \"ACTED_IN\"}, {\"from\": 23, \"to\": 15, \"label\": \"ACTED_IN\"}, {\"from\": 193, \"to\": 208, \"label\": \"ACTED_IN\"}, {\"from\": 193, \"to\": 186, \"label\": \"ACTED_IN\"}, {\"from\": 193, \"to\": 223, \"label\": \"ACTED_IN\"}, {\"from\": 193, \"to\": 227, \"label\": \"ACTED_IN\"}, {\"from\": 320, \"to\": 318, \"label\": \"DIRECTED\"}, {\"from\": 3, \"to\": 10, \"label\": \"ACTED_IN\"}, {\"from\": 3, \"to\": 9, \"label\": \"ACTED_IN\"}, {\"from\": 3, \"to\": 0, \"label\": \"ACTED_IN\"}, {\"from\": 324, \"to\": 323, \"label\": \"DIRECTED\"}, {\"from\": 214, \"to\": 208, \"label\": \"ACTED_IN\"}, {\"from\": 41, \"to\": 37, \"label\": \"ACTED_IN\"}, {\"from\": 22, \"to\": 56, \"label\": \"ACTED_IN\"}, {\"from\": 22, \"to\": 37, \"label\": \"ACTED_IN\"}, {\"from\": 22, \"to\": 52, \"label\": \"ACTED_IN\"}, {\"from\": 22, \"to\": 15, \"label\": \"ACTED_IN\"}, {\"from\": 96, \"to\": 95, \"label\": \"DIRECTED\"}, {\"from\": 96, \"to\": 159, \"label\": \"DIRECTED\"}, {\"from\": 39, \"to\": 37, \"label\": \"ACTED_IN\"}, {\"from\": 220, \"to\": 217, \"label\": \"ACTED_IN\"}, {\"from\": 178, \"to\": 287, \"label\": \"PRODUCED\"}, {\"from\": 178, \"to\": 299, \"label\": \"PRODUCED\"}, {\"from\": 178, \"to\": 181, \"label\": \"PRODUCED\"}, {\"from\": 178, \"to\": 180, \"label\": \"PRODUCED\"}, {\"from\": 178, \"to\": 171, \"label\": \"PRODUCED\"}, {\"from\": 178, \"to\": 292, \"label\": \"PRODUCED\"}];\n",
       "\n",
       "    var container = document.getElementById(\"b8b4cbaf-5e54-4cce-aba8-0657d847cb43\");\n",
       "\n",
       "    var data = {\n",
       "        nodes: nodes,\n",
       "        edges: edges\n",
       "    };\n",
       "\n",
       "    var options = {\n",
       "    nodes: {\n",
       "        shape: 'dot',\n",
       "        size: 25,\n",
       "        font: {\n",
       "            size: 14\n",
       "        }\n",
       "    },\n",
       "    edges: {\n",
       "        font: {\n",
       "            size: 14,\n",
       "            align: 'middle'\n",
       "        },\n",
       "        color: 'gray',\n",
       "        arrows: {\n",
       "            to: {\n",
       "                enabled: true,\n",
       "                scaleFactor: 0.5\n",
       "            }\n",
       "        },\n",
       "        smooth: {\n",
       "            enabled: false\n",
       "        }\n",
       "    },\n",
       "    physics: {\n",
       "        enabled: true\n",
       "        }\n",
       "    };\n",
       "\n",
       "    var network = new vis.Network(container, data, options);\n",
       "\n",
       "</script>\n"
      ],
      "text/plain": [
       "<IPython.core.display.HTML object>"
      ]
     },
     "execution_count": 8,
     "metadata": {},
     "output_type": "execute_result"
    }
   ],
   "source": [
    "# Display the movie graph\n",
    "neo4jupyter.init_notebook_mode()\n",
    "options = {\"Movie\": \"title\", \"Person\": \"name\"}\n",
    "draw(graph, options)"
   ]
  },
  {
   "cell_type": "code",
   "execution_count": null,
   "metadata": {},
   "outputs": [],
   "source": []
  }
 ],
 "metadata": {
  "kernelspec": {
   "display_name": "Python 3",
   "language": "python",
   "name": "python3"
  },
  "language_info": {
   "codemirror_mode": {
    "name": "ipython",
    "version": 3
   },
   "file_extension": ".py",
   "mimetype": "text/x-python",
   "name": "python",
   "nbconvert_exporter": "python",
   "pygments_lexer": "ipython3",
   "version": "3.8.5"
  }
 },
 "nbformat": 4,
 "nbformat_minor": 2
}
